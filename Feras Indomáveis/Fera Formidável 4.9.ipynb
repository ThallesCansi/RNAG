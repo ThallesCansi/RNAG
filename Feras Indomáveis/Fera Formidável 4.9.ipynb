{
 "cells": [
  {
   "cell_type": "markdown",
   "id": "a491ee15",
   "metadata": {},
   "source": [
    "# 👹 Fera Formidável 4.9"
   ]
  },
  {
   "cell_type": "markdown",
   "id": "f6687b5b",
   "metadata": {},
   "source": [
    "> Atividade realizada em dupla: Caio Ruas (24010) e Thalles Cansi (24006)"
   ]
  },
  {
   "cell_type": "markdown",
   "id": "0725a1ec",
   "metadata": {},
   "source": [
    "<!-- Resolver o problema da senha de forma que você não forneça a informação\n",
    "do tamanho da senha para a função que gera a população. Considere que a senha pode\n",
    "ser uma string de 1 até 30 caracteres.\n",
    "Dica: A função objetivo terá que quantificar em sua métrica tanto se o candidato\n",
    "acertou as letras quanto se acertou o tamanho da senha.\n",
    "8\n",
    "Dica 2: Você pode criar diferentes estratégias de mutação, não precisa ser apensa\n",
    "uma! Quem sabe uma função de mutação pode alterar letras e a outra pode alterar o\n",
    "tamanho da senha? Ver o exercício “Praticamente um X-man!”.\n",
    "Dica 3: Observe que você terá que pensar um pouco sobre como fará o cruzamento no\n",
    "caso de senhas de tamanhos diferentes. Quem sabe tenha que fazer alguma consideração\n",
    "adicional sobre quais são os valores possíveis para o ponto de corte… -->\n",
    "\n",
    "Mais uma fera formidável, mais uma atividade de programação funcional! Para esta fera, vamos ter que resolver o problema da senha de forma que você não forneça a informação do tamanho da senha para a função que gera a população. Vamos considerar que a senha pode ser uma string de 1 até 30 caracteres."
   ]
  },
  {
   "cell_type": "markdown",
   "id": "8488baa4",
   "metadata": {},
   "source": [
    "Vamos começar importando as bibliotecas que iremos usar. Neste caso, vamos usar `random` para gerar números aleatórios e `string` para obter os caracteres alfanuméricos que serão usados na senha."
   ]
  },
  {
   "cell_type": "code",
   "execution_count": 1,
   "id": "dc497986",
   "metadata": {},
   "outputs": [],
   "source": [
    "import random\n",
    "from string import ascii_lowercase, ascii_uppercase, digits, punctuation\n",
    "\n",
    "random.seed(7)"
   ]
  },
  {
   "cell_type": "markdown",
   "id": "d81c9b8c",
   "metadata": {},
   "source": [
    "Vamos também importar todas as funções que defininimos no arquivo `Scripts/FeraFormidável49.py`, que contém as funções necessárias para resolver o problema da senha com Algoritmos Genéticos."
   ]
  },
  {
   "cell_type": "code",
   "execution_count": 2,
   "id": "5e0c63fb",
   "metadata": {},
   "outputs": [],
   "source": [
    "from Scripts.FeraFormidavel49 import populacao_senha_var_len\n",
    "from Scripts.FeraFormidavel49 import funcao_objetivo_pop_senha_var_len\n",
    "from Scripts.FeraFormidavel49 import selecao_torneio_min\n",
    "from Scripts.FeraFormidavel49 import cruzamento_uniforme_var_len\n",
    "from Scripts.FeraFormidavel49 import mutacao_salto_var_len\n",
    "from Scripts.FeraFormidavel49 import mutacao_simples_var_len\n",
    "from Scripts.FeraFormidavel49 import mutacao_altera_tamanho"
   ]
  },
  {
   "cell_type": "markdown",
   "id": "be780d04",
   "metadata": {},
   "source": [
    "Para iniciarmos, vamos definir os hiperparâmetros do algoritmo genético e as constantes que serão usadas no código. Esses parâmetros incluem o tamanho da população, as chances de cruzamento e mutação, o tamanho do torneio, o tamanho mínimo e máximo da senha, e a penalidade por diferença de tamanho."
   ]
  },
  {
   "cell_type": "code",
   "execution_count": 3,
   "id": "f671d400",
   "metadata": {},
   "outputs": [],
   "source": [
    "CARACTERES_POSSIVEIS = ascii_lowercase + ascii_uppercase + digits + punctuation\n",
    "LISTA_CARACTERES_POSSIVEIS = list(CARACTERES_POSSIVEIS)\n",
    "\n",
    "TAMANHO_POPULACAO = 100\n",
    "\n",
    "CHANCE_DE_CRUZAMENTO = 0.7\n",
    "CHANCE_DE_MUTACAO_CHAR = 0.05\n",
    "CHANCE_DE_MUTACAO_TAMANHO = 0.15\n",
    "\n",
    "TAMANHO_TORNEIO = 3\n",
    "\n",
    "MIN_SENHA_LEN = 1\n",
    "MAX_SENHA_LEN = 30\n",
    "\n",
    "PENALTY_PER_LENGTH_DIFF = 75"
   ]
  },
  {
   "cell_type": "markdown",
   "id": "796fda3c",
   "metadata": {},
   "source": [
    "Agora que já temos os hiperparâmetros definidos, vamos criar a população inicial de senhas. Para isso, vamos usar a função `populacao_senha_var_len`, que gera uma população de senhas com tamanhos variáveis entre o mínimo e o máximo definidos."
   ]
  },
  {
   "cell_type": "code",
   "execution_count": 4,
   "id": "7cc02b4a",
   "metadata": {},
   "outputs": [],
   "source": [
    "populacao = populacao_senha_var_len(TAMANHO_POPULACAO, CARACTERES_POSSIVEIS, MIN_SENHA_LEN, MAX_SENHA_LEN)\n",
    "\n",
    "menor_fitness_geral = float(\"inf\")\n",
    "geracao = 0\n",
    "melhor_candidato_historico = []"
   ]
  },
  {
   "cell_type": "markdown",
   "id": "cdbf302b",
   "metadata": {},
   "source": [
    "Agora, vamos definir a nossa senha alvo. Para isso, vamos solicitar ao usuário que digite uma senha entre 1 e 30 caracteres. Vamos garantir que a senha não seja vazia e que esteja dentro dos limites definidos. Também vamos verificar se a senha contém apenas caracteres válidos."
   ]
  },
  {
   "cell_type": "code",
   "execution_count": 5,
   "id": "f224c335",
   "metadata": {},
   "outputs": [],
   "source": [
    "while True:\n",
    "    SENHA_ALVO = list(input(\"Digite sua senha entre 1 e 30 caracteres: \").strip())\n",
    "    if not SENHA_ALVO:\n",
    "        print(\"Senha não pode ser vazia.\")\n",
    "        continue\n",
    "    if len(SENHA_ALVO) < MIN_SENHA_LEN or len(SENHA_ALVO) > MAX_SENHA_LEN:\n",
    "        print(f\"Senha deve ter entre {MIN_SENHA_LEN} e {MAX_SENHA_LEN} caracteres.\")\n",
    "        continue\n",
    "    if any(c not in LISTA_CARACTERES_POSSIVEIS for c in SENHA_ALVO):\n",
    "        print(\"Senha contém caracteres inválidos.\")\n",
    "        continue\n",
    "    break"
   ]
  },
  {
   "cell_type": "markdown",
   "id": "9271cf99",
   "metadata": {},
   "source": [
    "Excelente! Temos a senha alvo definida e a população inicial gerada. Agora, vamos implementar o loop principal do algoritmo genético, onde iremos iterar até que encontremos a senha correta."
   ]
  },
  {
   "cell_type": "code",
   "execution_count": 6,
   "id": "de4aae1c",
   "metadata": {},
   "outputs": [
    {
     "name": "stdout",
     "output_type": "stream",
     "text": [
      "Geração: 1, Melhor Fitness: 296, Candidato: (Y@gj8mU0F# (len: 11)\n",
      "Geração: 2, Melhor Fitness: 238, Candidato: OY@^Kf;=+-h# (len: 12)\n",
      "Geração: 3, Melhor Fitness: 198, Candidato: OY@gjf;=+-h# (len: 12)\n",
      "Geração: 4, Melhor Fitness: 176, Candidato: OY@gjf;U0-## (len: 12)\n",
      "Geração: 5, Melhor Fitness: 151, Candidato: Q}@gjniU0>#% (len: 12)\n",
      "Geração: 6, Melhor Fitness: 141, Candidato: (Y@gj_d50-9# (len: 12)\n",
      "Geração: 7, Melhor Fitness: 96, Candidato: OYj^vfd56-9# (len: 12)\n",
      "Geração: 8, Melhor Fitness: 84, Candidato: OYj^jfm06-## (len: 12)\n",
      "Geração: 9, Melhor Fitness: 78, Candidato: OYjgjfi;0-#% (len: 12)\n",
      "Geração: 10, Melhor Fitness: 77, Candidato: M}jglfm56&-% (len: 12)\n",
      "Geração: 12, Melhor Fitness: 70, Candidato: MYiglfi50&-# (len: 12)\n",
      "Geração: 13, Melhor Fitness: 66, Candidato: OY\\gjfm50-## (len: 12)\n",
      "Geração: 14, Melhor Fitness: 64, Candidato: OYiglfi0-,-# (len: 12)\n",
      "Geração: 15, Melhor Fitness: 58, Candidato: MYiglfm50.-# (len: 12)\n",
      "Geração: 16, Melhor Fitness: 49, Candidato: Oniglfm50,-# (len: 12)\n",
      "Geração: 17, Melhor Fitness: 47, Candidato: Oniglfm50.-# (len: 12)\n",
      "Geração: 18, Melhor Fitness: 45, Candidato: On\\glfm50--# (len: 12)\n",
      "Geração: 19, Melhor Fitness: 44, Candidato: On\\glfm00--# (len: 12)\n",
      "Geração: 20, Melhor Fitness: 43, Candidato: Oniglfm50.1# (len: 12)\n",
      "Geração: 21, Melhor Fitness: 42, Candidato: Omiglfm50.1# (len: 12)\n",
      "Geração: 25, Melhor Fitness: 38, Candidato: On\\glfm502-+ (len: 12)\n",
      "Geração: 27, Melhor Fitness: 37, Candidato: On\\glem50.-+ (len: 12)\n",
      "Geração: 28, Melhor Fitness: 36, Candidato: On\\glem00.-+ (len: 12)\n",
      "Geração: 30, Melhor Fitness: 35, Candidato: On\\glem50./+ (len: 12)\n",
      "Geração: 31, Melhor Fitness: 34, Candidato: On\\glem00/.+ (len: 12)\n",
      "Geração: 32, Melhor Fitness: 33, Candidato: Qn\\glfm00./+ (len: 12)\n",
      "Geração: 34, Melhor Fitness: 31, Candidato: Qj\\glfm01..+ (len: 12)\n",
      "Geração: 35, Melhor Fitness: 30, Candidato: Qj\\glfm01./+ (len: 12)\n",
      "Geração: 36, Melhor Fitness: 28, Candidato: Qj\\glem00/.+ (len: 12)\n",
      "Geração: 38, Melhor Fitness: 27, Candidato: Oj\\glfw00//* (len: 12)\n",
      "Geração: 39, Melhor Fitness: 26, Candidato: Qj\\glem00//* (len: 12)\n",
      "Geração: 41, Melhor Fitness: 25, Candidato: Qj\\glew00//+ (len: 12)\n",
      "Geração: 43, Melhor Fitness: 22, Candidato: Qibglem00//+ (len: 12)\n",
      "Geração: 44, Melhor Fitness: 21, Candidato: Qibglem00//* (len: 12)\n",
      "Geração: 45, Melhor Fitness: 20, Candidato: Qjbglew00//* (len: 12)\n",
      "Geração: 46, Melhor Fitness: 19, Candidato: Qibglew00//* (len: 12)\n",
      "Geração: 48, Melhor Fitness: 18, Candidato: Qibglew10//* (len: 12)\n",
      "Geração: 51, Melhor Fitness: 17, Candidato: Ribglew10//* (len: 12)\n",
      "Geração: 53, Melhor Fitness: 16, Candidato: Rhbglew10//* (len: 12)\n",
      "Geração: 56, Melhor Fitness: 15, Candidato: Rhbglev10//* (len: 12)\n",
      "Geração: 58, Melhor Fitness: 14, Candidato: Rhbilew10//* (len: 12)\n",
      "Geração: 60, Melhor Fitness: 13, Candidato: Rhbilev10//* (len: 12)\n",
      "Geração: 64, Melhor Fitness: 12, Candidato: Rhailev10//* (len: 12)\n",
      "Geração: 65, Melhor Fitness: 11, Candidato: Shailev10//* (len: 12)\n",
      "Geração: 67, Melhor Fitness: 10, Candidato: Shailev20//* (len: 12)\n",
      "Geração: 69, Melhor Fitness: 9, Candidato: Thailev20//* (len: 12)\n",
      "Geração: 76, Melhor Fitness: 8, Candidato: Thaileu20//* (len: 12)\n",
      "Geração: 80, Melhor Fitness: 7, Candidato: Thajleu20//* (len: 12)\n",
      "Geração: 87, Melhor Fitness: 6, Candidato: Thakleu20//* (len: 12)\n",
      "Geração: 96, Melhor Fitness: 5, Candidato: Thaklet20//* (len: 12)\n",
      "Geração: 102, Melhor Fitness: 4, Candidato: Thallet20//* (len: 12)\n",
      "Geração: 108, Melhor Fitness: 3, Candidato: Thalles20//* (len: 12)\n",
      "Geração: 151, Melhor Fitness: 2, Candidato: Thalles20/0* (len: 12)\n",
      "Geração: 155, Melhor Fitness: 1, Candidato: Thalles20/1* (len: 12)\n",
      "Geração: 243, Melhor Fitness: 0, Candidato: Thalles2001* (len: 12)\n"
     ]
    }
   ],
   "source": [
    "while menor_fitness_geral != 0:\n",
    "    fitness = funcao_objetivo_pop_senha_var_len(populacao, SENHA_ALVO, PENALTY_PER_LENGTH_DIFF)\n",
    "\n",
    "    selecionados = selecao_torneio_min(populacao, fitness, TAMANHO_TORNEIO)\n",
    "\n",
    "    proxima_geracao = []\n",
    "\n",
    "    random.shuffle(selecionados)\n",
    "    for i in range(0, len(selecionados) - 1, 2):\n",
    "        pai = selecionados[i]\n",
    "        mae = selecionados[i + 1]\n",
    "\n",
    "        filho1, filho2 = cruzamento_uniforme_var_len(\n",
    "            pai,\n",
    "            mae,\n",
    "            CHANCE_DE_CRUZAMENTO,\n",
    "            CARACTERES_POSSIVEIS,\n",
    "            MAX_SENHA_LEN,\n",
    "        )\n",
    "        proxima_geracao.append(filho1)\n",
    "        proxima_geracao.append(filho2)\n",
    "\n",
    "    if len(selecionados) % 2 == 1:\n",
    "        proxima_geracao.append(list(selecionados[-1]))\n",
    "\n",
    "    while len(proxima_geracao) < TAMANHO_POPULACAO:\n",
    "        if proxima_geracao:\n",
    "            proxima_geracao.append(list(random.choice(proxima_geracao)))\n",
    "        else:\n",
    "            proxima_geracao.append(\n",
    "                cria_candidato_senha_var_len(\n",
    "                    CARACTERES_POSSIVEIS,\n",
    "                    MIN_SENHA_LEN,\n",
    "                    MAX_SENHA_LEN,\n",
    "                )\n",
    "            )\n",
    "\n",
    "    mutacao_simples_var_len(\n",
    "        proxima_geracao,\n",
    "        CHANCE_DE_MUTACAO_CHAR,\n",
    "        LISTA_CARACTERES_POSSIVEIS,\n",
    "    )\n",
    "\n",
    "    mutacao_salto_var_len(\n",
    "        proxima_geracao,\n",
    "        CHANCE_DE_MUTACAO_CHAR,\n",
    "        LISTA_CARACTERES_POSSIVEIS,\n",
    "    )\n",
    "\n",
    "    mutacao_altera_tamanho(\n",
    "        proxima_geracao,\n",
    "        CHANCE_DE_MUTACAO_TAMANHO,\n",
    "        CARACTERES_POSSIVEIS,\n",
    "        MIN_SENHA_LEN,\n",
    "        MAX_SENHA_LEN,\n",
    "    )\n",
    "\n",
    "    populacao = proxima_geracao\n",
    "    geracao += 1\n",
    "\n",
    "    fitness_atualizado = funcao_objetivo_pop_senha_var_len(\n",
    "        populacao, SENHA_ALVO, PENALTY_PER_LENGTH_DIFF\n",
    "    )\n",
    "    \n",
    "    menor_fitness_observado_nesta_geracao = min(fitness_atualizado)\n",
    "\n",
    "    if menor_fitness_observado_nesta_geracao < menor_fitness_geral:\n",
    "        menor_fitness_geral = menor_fitness_observado_nesta_geracao\n",
    "        indice_melhor = fitness_atualizado.index(menor_fitness_geral)\n",
    "        melhor_candidato_historico = populacao[indice_melhor]\n",
    "        print(\n",
    "            f\"Geração: {geracao}, Melhor Fitness: {menor_fitness_geral}, Candidato: {''.join(melhor_candidato_historico)} (len: {len(melhor_candidato_historico)})\"\n",
    "        )"
   ]
  },
  {
   "cell_type": "markdown",
   "id": "770fc794",
   "metadata": {},
   "source": [
    "Ótimo! Nossa algoritmo genético conseguiu descobrir a senha correta! Vamos exibir a senha encontrada e o número de gerações necessárias para encontrá-la."
   ]
  },
  {
   "cell_type": "code",
   "execution_count": 7,
   "id": "a59d6305",
   "metadata": {},
   "outputs": [
    {
     "name": "stdout",
     "output_type": "stream",
     "text": [
      "\n",
      "Senha encontrada na geração 243!\n",
      "Senha: Thalles2001*\n"
     ]
    }
   ],
   "source": [
    "print(f\"\\nSenha encontrada na geração {geracao}!\")\n",
    "print(f\"Senha: {''.join(melhor_candidato_historico)}\")"
   ]
  },
  {
   "cell_type": "markdown",
   "id": "cf51bf9c",
   "metadata": {},
   "source": [
    "Nós precisamos de 243 gerações para encontrar a senha correta. Isso mostra que o algoritmo genético é eficiente para resolver problemas de otimização, mesmo quando a solução não é trivial. O ponto chave para derrotar essa fera formidável foi o fato da população inicial ser gerada com senhas de tamanhos variados, o que permitiu que o algoritmo explorasse diferentes combinações de caracteres e tamanhos. E, para a convergência, a mutação que altera o tamanho da senha foi crucial, pois permitiu que o algoritmo explorasse novas possibilidades de tamanho, aumentando as chances de encontrar a senha correta."
   ]
  }
 ],
 "metadata": {
  "kernelspec": {
   "display_name": "Python 3",
   "language": "python",
   "name": "python3"
  },
  "language_info": {
   "codemirror_mode": {
    "name": "ipython",
    "version": 3
   },
   "file_extension": ".py",
   "mimetype": "text/x-python",
   "name": "python",
   "nbconvert_exporter": "python",
   "pygments_lexer": "ipython3",
   "version": "3.11.6"
  }
 },
 "nbformat": 4,
 "nbformat_minor": 5
}
