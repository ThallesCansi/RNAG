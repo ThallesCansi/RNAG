{
 "cells": [
  {
   "cell_type": "markdown",
   "metadata": {},
   "source": [
    "# 👹 Fera Formidável 4.2"
   ]
  },
  {
   "cell_type": "markdown",
   "metadata": {},
   "source": [
    "> Atividade realizada em dupla: Caio Ruas (24010) e Thalles Cansi (24006)"
   ]
  },
  {
   "cell_type": "markdown",
   "metadata": {},
   "source": [
    "Nessa fera, o objetivo era implementar uma estratégia de parada antecipada em uma rede neural feita em python puro ou no processo desenvolvido em disciplina envolvendo o `PyTorch`.\n",
    "\n",
    "Em redes neurais, treinar por um número excessivo de épocas pode levar ao *overfitting* [1]. Isso significa que a rede começa a memorizar os dados de treinamento, incluindo ruídos e detalhes específicos, em vez de aprender os padrões gerais. Como resultado, o desempenho em dados de treinamento melhora continuamente, mas a capacidade de generalizar para dados novos e não vistos diminui significativamente.\n",
    "\n",
    "Para evitar o *overfitting*, uma técnica eficaz é a parada antecipada (*early stopping*) [2]. Durante o treinamento, além do conjunto de treinamento, utilizamos um conjunto de validação, que a rede nunca viu antes. Monitoramos o desempenho da rede nesse conjunto de validação a cada época. Inicialmente, o desempenho tanto no treinamento quanto na validação tende a melhorar. No entanto, se o desempenho no conjunto de validação para de melhorar ou começa a piorar enquanto o desempenho no treinamento continua a aumentar, isso indica que o *overfitting* está começando a ocorrer. Nesse ponto, aplicamos a parada antecipada, interrompendo o treinamento para \"capturar\" o modelo em um estado onde ele ainda generaliza bem, antes de se especializar demais nos dados de treinamento.\n",
    "\n",
    "Sendo assim, será aplicado o conceito de parada antecipada em uma rede neural simples, modificando o código da rede neural em python puro feito na disciplina."
   ]
  },
  {
   "cell_type": "markdown",
   "metadata": {},
   "source": [
    "> A rede neural feita durante a disciplina foi utilizada como base para a implementação das novas funções de ativação. Neste notebook, está presente apenas a versão adaptada ao objetivo da atividade, com as funções de ativação modificadas."
   ]
  },
  {
   "cell_type": "markdown",
   "metadata": {},
   "source": [
    "## 🔢 Valor"
   ]
  },
  {
   "cell_type": "markdown",
   "metadata": {},
   "source": [
    "Esta é a classe Valor, que representa um valor numérico com suporte a diferenciação automática. Ela possui métodos para operações matemáticas, como adição, subtração, multiplicação e exponenciação, além de métodos para calcular a função sigmoide e backpropagation. É notório lembrar que realiza-se os cálculos mesmo com ordem invertida, onde o objeto Valor pode ser o primeiro ou segundo operando."
   ]
  },
  {
   "cell_type": "code",
   "execution_count": 1,
   "metadata": {},
   "outputs": [],
   "source": [
    "import math\n",
    "\n",
    "class Valor:\n",
    "    def __init__(self, data, progenitor=(), operador_mae=\"\", rotulo=\"\"):\n",
    "        self.data = data\n",
    "        self.progenitor = progenitor\n",
    "        self.operador_mae = operador_mae\n",
    "        self.rotulo = rotulo\n",
    "        self.grad = 0\n",
    "\n",
    "    def __repr__(self):\n",
    "        return f\"Valor(data={self.data})\"\n",
    "    \n",
    "    def __add__(self, outro_valor):\n",
    "        \"\"\"Realiza a operação: self + outro_valor.\"\"\"\n",
    "        \n",
    "        if not isinstance(outro_valor, Valor):\n",
    "            outro_valor = Valor(outro_valor)\n",
    "            \n",
    "        progenitor = (self, outro_valor)\n",
    "        data = self.data + outro_valor.data\n",
    "        operador_mae = \"+\"\n",
    "        resultado = Valor(data, progenitor, operador_mae)\n",
    "        \n",
    "        def propagar_adicao():\n",
    "            self.grad += resultado.grad\n",
    "            outro_valor.grad += resultado.grad\n",
    "            \n",
    "        resultado.propagar = propagar_adicao\n",
    "        \n",
    "        return resultado\n",
    "    \n",
    "    def __mul__(self, outro_valor):\n",
    "        \"\"\"Realiza a operação: self * outro_valor.\"\"\"\n",
    "        \n",
    "        if not isinstance(outro_valor, Valor):\n",
    "            outro_valor = Valor(outro_valor)\n",
    "            \n",
    "        progenitor = (self, outro_valor)\n",
    "        data = self.data * outro_valor.data\n",
    "        operador_mae = \"*\"\n",
    "        resultado = Valor(data, progenitor, operador_mae)\n",
    "        \n",
    "        def propagar_multiplicacao():\n",
    "            self.grad += resultado.grad * outro_valor.data # grad_filho * derivada filho em relação a mãe\n",
    "            outro_valor.grad += resultado.grad * self.data\n",
    "            \n",
    "        resultado.propagar = propagar_multiplicacao\n",
    "        \n",
    "        return resultado\n",
    "    \n",
    "    def exp(self):\n",
    "        \"\"\"Realiza a operação: exp(self)\"\"\"\n",
    "        progenitor = (self, )\n",
    "        data = math.exp(self.data)\n",
    "        operador_mae = \"exp\"\n",
    "        resultado = Valor(data, progenitor, operador_mae)\n",
    "        \n",
    "        def propagar_exp():\n",
    "            self.grad += resultado.grad * data \n",
    "        \n",
    "        resultado.propagar = propagar_exp\n",
    "        \n",
    "        return resultado\n",
    "    \n",
    "    def __pow__(self, expoente):\n",
    "        \"\"\"Realiza a operação: self ** expoente\"\"\"\n",
    "        assert isinstance(expoente, (int, float))\n",
    "        progenitor = (self, )\n",
    "        data = self.data ** expoente\n",
    "        operador_mae = f\"**{expoente}\"\n",
    "        resultado = Valor(data, progenitor, operador_mae)\n",
    "        \n",
    "        def propagar_pow():\n",
    "            self.grad += resultado.grad * (expoente * self.data ** (expoente - 1))\n",
    "        \n",
    "        resultado.propagar = propagar_pow\n",
    "        \n",
    "        return resultado\n",
    "    \n",
    "    def __gt__(self, outro_valor):\n",
    "        \"\"\"Realiza a operação: self > outro_valor\"\"\"\n",
    "        if not isinstance(outro_valor, Valor):\n",
    "            outro_valor = Valor(outro_valor)\n",
    "        data = 1.0 if self.data > outro_valor.data else 0.0\n",
    "        return Valor(data)\n",
    "    \n",
    "    def __ge__(self, outro_valor):\n",
    "        \"\"\"Realiza a operação: self >= outro_valor\"\"\"\n",
    "        if not isinstance(outro_valor, Valor):\n",
    "            outro_valor = Valor(outro_valor)\n",
    "        data = 1.0 if self.data >= outro_valor.data else 0.0\n",
    "        return Valor(data)\n",
    "\n",
    "    \n",
    "    def __truediv__(self, outro_valor):\n",
    "        \"\"\"Realiza a operação: self / outro_valor\"\"\"\n",
    "        return self * outro_valor ** (-1)\n",
    "    \n",
    "    def __neg__(self):\n",
    "        \"\"\"Realiza a operação: -self\"\"\"\n",
    "        return self * -1\n",
    "    \n",
    "    def __sub__(self, outro_valor):\n",
    "        \"\"\"Realiza a operação: self - outro_valor\"\"\"\n",
    "        return self + (-outro_valor)\n",
    "    \n",
    "    def __radd__(self, outro_valor):\n",
    "        \"\"\"Realiza a operação: outro_valor + self\"\"\"\n",
    "        return self + outro_valor\n",
    "    \n",
    "    def __rmul__(self, outro_valor):\n",
    "        \"\"\"Realiza a operação: outro_valor * self\"\"\"\n",
    "        return self * outro_valor\n",
    "    \n",
    "    def sig(self):\n",
    "        \"\"\"Realiza a operação: exp(self) / (exp(self) + 1)\"\"\"\n",
    "        return self.exp() / (self.exp() + 1)\n",
    "    \n",
    "    def propagar(self):\n",
    "        pass\n",
    "    \n",
    "    def propagar_tudo(self):\n",
    "        \n",
    "        self.grad = 1\n",
    "        \n",
    "        ordem_topologica = []\n",
    "        \n",
    "        visitados = set()\n",
    "\n",
    "        def constroi_ordem_topologica(v):\n",
    "            if v not in visitados:\n",
    "                visitados.add(v)\n",
    "                for progenitor in v.progenitor:\n",
    "                    constroi_ordem_topologica(progenitor)\n",
    "                ordem_topologica.append(v)\n",
    "\n",
    "        constroi_ordem_topologica(self)\n",
    "        \n",
    "        for vertice in reversed(ordem_topologica):\n",
    "            vertice.propagar()"
   ]
  },
  {
   "cell_type": "markdown",
   "metadata": {},
   "source": [
    "## 🤓 Neurônio"
   ]
  },
  {
   "cell_type": "markdown",
   "metadata": {},
   "source": [
    "A classe Neurônio representa um neurônio em uma rede neural. Ela possui pesos e um viés, que são inicializados aleatoriamente. O neurônio calcula a saída usando a função sigmoide e realiza o backpropagation para atualizar os pesos e o viés com base no erro da previsão."
   ]
  },
  {
   "cell_type": "code",
   "execution_count": 2,
   "metadata": {},
   "outputs": [],
   "source": [
    "import random\n",
    "\n",
    "class Neuronio:\n",
    "    def __init__(self, num_dados_entrada):\n",
    "        self.vies = Valor(random.uniform(-1, 1))\n",
    "        \n",
    "        self.pesos = []\n",
    "        for i in range(num_dados_entrada):\n",
    "            self.pesos.append(Valor(random.uniform(-1, 1)))\n",
    "            \n",
    "    def __call__(self, x):\n",
    "        \n",
    "        assert len(x) == len(self.pesos)\n",
    "        \n",
    "        soma = 0\n",
    "        for info_entrada, peso_interno in zip(x, self.pesos):\n",
    "            soma += info_entrada * peso_interno\n",
    "            \n",
    "        soma += self.vies  \n",
    "        dado_de_saida = soma.sig()\n",
    "        \n",
    "        return dado_de_saida       \n",
    "    \n",
    "    def parametros(self):\n",
    "        return self.pesos + [self.vies]"
   ]
  },
  {
   "cell_type": "markdown",
   "metadata": {},
   "source": [
    "## 🎂 Camada"
   ]
  },
  {
   "cell_type": "markdown",
   "metadata": {},
   "source": [
    "A classe Camada representa uma camada de neurônios em uma rede neural. Ela possui um número específico de neurônios e é responsável por calcular a saída da camada com base nas entradas recebidas. Realiza o forward pass e agrega os parametros de cada neurônio."
   ]
  },
  {
   "cell_type": "code",
   "execution_count": 3,
   "metadata": {},
   "outputs": [],
   "source": [
    "class Camada:\n",
    "    def __init__(self, num_neuronios, num_dados_entrada):\n",
    "        neuronios = []\n",
    "        \n",
    "        for _ in range(num_neuronios):\n",
    "            neuronio = Neuronio(num_dados_entrada)\n",
    "            neuronios.append(neuronio)\n",
    "            \n",
    "        self.neuronios = neuronios     \n",
    "        \n",
    "    def __call__(self, x):\n",
    "        dados_de_saida = []\n",
    "        \n",
    "        for neuronio in self.neuronios:\n",
    "            informacao = neuronio(x)\n",
    "            dados_de_saida.append(informacao)\n",
    "            \n",
    "        if len(dados_de_saida) == 1:\n",
    "            return dados_de_saida[0]\n",
    "        else:        \n",
    "            return dados_de_saida  \n",
    "    \n",
    "    def parametros(self):\n",
    "        params = []\n",
    "        \n",
    "        for neuronio in self.neuronios:\n",
    "            params_neuronio = neuronio.parametros()\n",
    "            params.extend(params_neuronio)\n",
    "        \n",
    "        return params"
   ]
  },
  {
   "cell_type": "markdown",
   "metadata": {},
   "source": [
    "## 🧠 MLP"
   ]
  },
  {
   "cell_type": "markdown",
   "metadata": {},
   "source": [
    "Por fim, nossa última classe da nossa rede neural é a `MLP` (Multi-Layer Perceptron). Ela representa uma rede neural com múltiplas camadas. A `MLP` organiza as camadas da rede, permitindo a passagem forward dos dados e a agregação dos parâmetros de todas as camadas."
   ]
  },
  {
   "cell_type": "code",
   "execution_count": 4,
   "metadata": {},
   "outputs": [],
   "source": [
    "class MLP:\n",
    "    def __init__(self, num_dados_entrada, num_neuronios_por_camada):\n",
    "        \n",
    "        percurso = [num_dados_entrada] + num_neuronios_por_camada\n",
    "        \n",
    "        camadas = []\n",
    "        \n",
    "        for i in range(len(num_neuronios_por_camada)):\n",
    "            camada = Camada(num_neuronios_por_camada[i], percurso[i])\n",
    "            camadas.append(camada)\n",
    "            \n",
    "        self.camadas = camadas\n",
    "        \n",
    "    def __call__(self, x):\n",
    "        for camada in self.camadas:\n",
    "            x = camada(x)\n",
    "        return x\n",
    "    \n",
    "    def parametros(self):\n",
    "        params = []\n",
    "        \n",
    "        for camada in self.camadas:\n",
    "            parametros_camada = camada.parametros()\n",
    "            params.extend(parametros_camada)\n",
    "            \n",
    "        return params"
   ]
  },
  {
   "cell_type": "markdown",
   "metadata": {},
   "source": [
    "## ⚡ Modificando o código de treinamento\n",
    "\n",
    "Para implementar a parada antecipada, foi necessário modificar a função responsável pelo treinamento da rede neural em épocas. A ideia é monitorar o desempenho da rede em um conjunto de validação e interromper o treinamento quando o desempenho começar a piorar."
   ]
  },
  {
   "cell_type": "code",
   "execution_count": 5,
   "metadata": {},
   "outputs": [],
   "source": [
    "def otimizacao_em_epocas(\n",
    "    mlp: MLP,\n",
    "    x_train: list,\n",
    "    y_true_train: list,\n",
    "    x_val: list,\n",
    "    y_true_val: list,\n",
    "    num_epocas: int,\n",
    "    taxa_de_aprendizado: float = 0.01,\n",
    "    paciencia: int = 10\n",
    ") -> tuple:\n",
    "    \"\"\"\n",
    "    Realiza a otimização do MLP em épocas, utilizando o algoritmo de backpropagation.\n",
    "    \n",
    "    Args:\n",
    "        `mlp` (`MLP`): O modelo MLP a ser treinado.\n",
    "        `x_train` (list): Lista de dados de entrada para o treinamento.\n",
    "        `y_true_train` (list): Lista de rótulos verdadeiros para o treinamento.\n",
    "        `x_val` (list): Lista de dados de entrada para a validação.\n",
    "        `y_true_val` (list): Lista de rótulos verdadeiros para a validação.\n",
    "        `num_epocas` (int): Número de épocas para o treinamento.\n",
    "        `taxa_de_aprendizado` (float): Taxa de aprendizado para a atualização dos pesos.\n",
    "        `paciencia` (int): Número de épocas sem melhoria na validação antes de interromper o treinamento.\n",
    "        \n",
    "    Returns:\n",
    "        `tuple`: Tupla contendo duas listas. `train_losses` que é a lista de perdas de treinamento ao longo das épocas e `val_losses` que é a lista de perdas de validação ao longo das épocas.\n",
    "            \n",
    "    \"\"\"\n",
    "    train_losses = []\n",
    "    val_losses = []\n",
    "\n",
    "    for epoca in range(num_epocas):\n",
    "        if len(val_losses) > paciencia:\n",
    "            houve_melhoria = False\n",
    "            for i in range(1, paciencia + 1):\n",
    "                if val_losses[-i] < val_losses[-i - 1]:\n",
    "                    houve_melhoria = True\n",
    "                    break\n",
    "            if not houve_melhoria:\n",
    "                print(\n",
    "                    f\"Validação: Erro não diminuiu nas últimas {paciencia} épocas, interrompendo treinamento.\"\n",
    "                )\n",
    "                return train_losses, val_losses\n",
    "            \n",
    "        y_pred_train = []\n",
    "        for exemplo in x_train:\n",
    "            previsao = mlp(exemplo)\n",
    "            y_pred_train.append(previsao)\n",
    "\n",
    "        erros_train = []\n",
    "        for yt, yp in zip(y_true_train, y_pred_train):\n",
    "            residuo = yp - yt\n",
    "            erro_quadratico = residuo**2\n",
    "            erros_train.append(erro_quadratico)\n",
    "        loss_train = sum(erros_train)\n",
    "\n",
    "        y_pred_val = []\n",
    "        for exemplo in x_val:\n",
    "            previsao = mlp(exemplo)\n",
    "            y_pred_val.append(previsao)\n",
    "\n",
    "        erros_val = []\n",
    "        for yt, yp in zip(y_true_val, y_pred_val):\n",
    "            residuo = yp - yt\n",
    "            erro_quadratico = residuo**2\n",
    "            erros_val.append(erro_quadratico)\n",
    "        loss_val = sum(erros_val)\n",
    "\n",
    "        for p in mlp.parametros():\n",
    "            p.grad = 0\n",
    "\n",
    "        loss_train.propagar_tudo()\n",
    "\n",
    "        for p in mlp.parametros():\n",
    "            p.data = p.data - p.grad * taxa_de_aprendizado\n",
    "\n",
    "        train_losses.append(loss_train.data)\n",
    "        val_losses.append(loss_val.data)\n",
    "\n",
    "        print(\n",
    "            f\"Época {epoca}, Loss Treino: {loss_train.data:.4f}, Loss Validação: {loss_val.data:.4f}\"\n",
    "        )\n",
    "\n",
    "    return train_losses, val_losses"
   ]
  },
  {
   "cell_type": "markdown",
   "metadata": {},
   "source": [
    "Podemos observar que o critério de parada antecipada é baseado na métrica de erro do conjunto de validação. Se o erro do conjunto de validação não melhorar por 10 épocas consecutivas, o treinamento é interrompido."
   ]
  },
  {
   "cell_type": "markdown",
   "metadata": {},
   "source": [
    "Vamos agora importar um banco de dados e aplicar a parada antecipada na rede neural. Vamos utilizar o dataset de Íris, que é um conjunto de dados clássico em aprendizado de máquina. Ele contém informações sobre diferentes espécies de flores Íris, com características como comprimento e largura das pétalas e sépalas."
   ]
  },
  {
   "cell_type": "markdown",
   "metadata": {},
   "source": [
    "Vamos importar as bibliotecas necessárias e carregar o dataset de Íris. Em seguida, vamos dividir os dados em conjuntos de treinamento e validação, normalizar os dados e treinar a rede neural com parada antecipada. Só lembrando que vamos usar uma seed para garantir a reprodutibilidade dos resultados."
   ]
  },
  {
   "cell_type": "code",
   "execution_count": 6,
   "metadata": {},
   "outputs": [],
   "source": [
    "import seaborn as sns\n",
    "import matplotlib.pyplot as plt\n",
    "\n",
    "seed = 12\n",
    "random.seed(seed)"
   ]
  },
  {
   "cell_type": "markdown",
   "metadata": {},
   "source": [
    "Beleza, agora que importamos as bibliotecas necessárias, vamos carregar o dataset de Íris."
   ]
  },
  {
   "cell_type": "code",
   "execution_count": 7,
   "metadata": {},
   "outputs": [
    {
     "data": {
      "text/html": [
       "<div>\n",
       "<style scoped>\n",
       "    .dataframe tbody tr th:only-of-type {\n",
       "        vertical-align: middle;\n",
       "    }\n",
       "\n",
       "    .dataframe tbody tr th {\n",
       "        vertical-align: top;\n",
       "    }\n",
       "\n",
       "    .dataframe thead th {\n",
       "        text-align: right;\n",
       "    }\n",
       "</style>\n",
       "<table border=\"1\" class=\"dataframe\">\n",
       "  <thead>\n",
       "    <tr style=\"text-align: right;\">\n",
       "      <th></th>\n",
       "      <th>sepal_length</th>\n",
       "      <th>sepal_width</th>\n",
       "      <th>petal_length</th>\n",
       "      <th>petal_width</th>\n",
       "      <th>species</th>\n",
       "    </tr>\n",
       "  </thead>\n",
       "  <tbody>\n",
       "    <tr>\n",
       "      <th>0</th>\n",
       "      <td>5.1</td>\n",
       "      <td>3.5</td>\n",
       "      <td>1.4</td>\n",
       "      <td>0.2</td>\n",
       "      <td>setosa</td>\n",
       "    </tr>\n",
       "    <tr>\n",
       "      <th>1</th>\n",
       "      <td>4.9</td>\n",
       "      <td>3.0</td>\n",
       "      <td>1.4</td>\n",
       "      <td>0.2</td>\n",
       "      <td>setosa</td>\n",
       "    </tr>\n",
       "    <tr>\n",
       "      <th>2</th>\n",
       "      <td>4.7</td>\n",
       "      <td>3.2</td>\n",
       "      <td>1.3</td>\n",
       "      <td>0.2</td>\n",
       "      <td>setosa</td>\n",
       "    </tr>\n",
       "    <tr>\n",
       "      <th>3</th>\n",
       "      <td>4.6</td>\n",
       "      <td>3.1</td>\n",
       "      <td>1.5</td>\n",
       "      <td>0.2</td>\n",
       "      <td>setosa</td>\n",
       "    </tr>\n",
       "    <tr>\n",
       "      <th>4</th>\n",
       "      <td>5.0</td>\n",
       "      <td>3.6</td>\n",
       "      <td>1.4</td>\n",
       "      <td>0.2</td>\n",
       "      <td>setosa</td>\n",
       "    </tr>\n",
       "  </tbody>\n",
       "</table>\n",
       "</div>"
      ],
      "text/plain": [
       "   sepal_length  sepal_width  petal_length  petal_width species\n",
       "0           5.1          3.5           1.4          0.2  setosa\n",
       "1           4.9          3.0           1.4          0.2  setosa\n",
       "2           4.7          3.2           1.3          0.2  setosa\n",
       "3           4.6          3.1           1.5          0.2  setosa\n",
       "4           5.0          3.6           1.4          0.2  setosa"
      ]
     },
     "execution_count": 7,
     "metadata": {},
     "output_type": "execute_result"
    }
   ],
   "source": [
    "iris = sns.load_dataset(\"iris\")\n",
    "iris.head()"
   ]
  },
  {
   "cell_type": "markdown",
   "metadata": {},
   "source": [
    "Agora que carregamos, vamos dividir os dados em conjuntos de treinamento e validação. Vamos usar 80% dos dados para treinamento e 20% para validação. Vamos retirar também a coluna de rótulos, que contém as classes das flores, pois apenas precisamos das características para treinar a rede neural. Não é um problema de classificação, mas sim de regressão, onde o objetivo é prever um valor contínuo com base nas características das flores. Neste caso, preveremos a largura da pétala com base nas outras características."
   ]
  },
  {
   "cell_type": "code",
   "execution_count": 8,
   "metadata": {},
   "outputs": [],
   "source": [
    "iris = iris.drop(columns=[\"species\"])\n",
    "\n",
    "x = iris.drop(columns=[\"petal_width\"]).values.tolist()\n",
    "y = iris[\"petal_width\"].values.tolist()\n",
    "\n",
    "porcentagem_treino = 0.8"
   ]
  },
  {
   "cell_type": "markdown",
   "metadata": {},
   "source": [
    "Show! Agora que dividimos os dados, vamos treinar a nossa rede neural e verificar se ocorre a parada antecipada. Vamos definir o número de épocas, a taxa de aprendizado e o critério de parada antecipada. A ideia é monitorar o erro no conjunto de validação e interromper o treinamento se o erro não melhorar por um certo número de épocas consecutivas."
   ]
  },
  {
   "cell_type": "code",
   "execution_count": null,
   "metadata": {},
   "outputs": [
    {
     "name": "stdout",
     "output_type": "stream",
     "text": [
      "Época 0, Loss Treino: 94.4957, Loss Validação: 74.9718\n",
      "Época 1, Loss Treino: 60.4538, Loss Validação: 39.0753\n",
      "Época 2, Loss Treino: 60.1203, Loss Validação: 38.1133\n",
      "Época 3, Loss Treino: 59.9361, Loss Validação: 37.5105\n",
      "Época 4, Loss Treino: 59.8151, Loss Validação: 37.0886\n",
      "Época 5, Loss Treino: 59.7258, Loss Validação: 36.7745\n",
      "Época 6, Loss Treino: 59.6537, Loss Validação: 36.5319\n",
      "Época 7, Loss Treino: 59.5905, Loss Validação: 36.3407\n",
      "Época 8, Loss Treino: 59.5312, Loss Validação: 36.1888\n",
      "Época 9, Loss Treino: 59.4725, Loss Validação: 36.0690\n",
      "Época 10, Loss Treino: 59.4127, Loss Validação: 35.9758\n",
      "Época 11, Loss Treino: 59.3514, Loss Validação: 35.9045\n",
      "Época 12, Loss Treino: 59.2895, Loss Validação: 35.8496\n",
      "Época 13, Loss Treino: 59.2275, Loss Validação: 35.8051\n",
      "Época 14, Loss Treino: 59.1652, Loss Validação: 35.7664\n",
      "Época 15, Loss Treino: 59.1015, Loss Validação: 35.7323\n",
      "Época 16, Loss Treino: 59.0356, Loss Validação: 35.7035\n",
      "Época 17, Loss Treino: 58.9667, Loss Validação: 35.6814\n",
      "Época 18, Loss Treino: 58.8939, Loss Validação: 35.6672\n",
      "Época 19, Loss Treino: 58.8162, Loss Validação: 35.6613\n",
      "Época 20, Loss Treino: 58.7324, Loss Validação: 35.6643\n",
      "Época 21, Loss Treino: 58.6411, Loss Validação: 35.6765\n",
      "Época 22, Loss Treino: 58.5408, Loss Validação: 35.6984\n",
      "Época 23, Loss Treino: 58.4295, Loss Validação: 35.7305\n",
      "Época 24, Loss Treino: 58.3048, Loss Validação: 35.7737\n",
      "Época 25, Loss Treino: 58.1640, Loss Validação: 35.8287\n",
      "Época 26, Loss Treino: 58.0035, Loss Validação: 35.8966\n",
      "Época 27, Loss Treino: 57.8194, Loss Validação: 35.9786\n",
      "Época 28, Loss Treino: 57.6064, Loss Validação: 36.0760\n",
      "Época 29, Loss Treino: 57.3583, Loss Validação: 36.1901\n",
      "Validação: Erro não diminuiu nas últimas 10 épocas, interrompendo treinamento.\n"
     ]
    }
   ],
   "source": [
    "NUM_DADOS_DE_ENTRADA = 3\n",
    "NUM_DADOS_DE_SAIDA = 1\n",
    "CAMADAS_OCULTAS = [3, 2]\n",
    "NUM_EPOCAS = 100\n",
    "TAXA_DE_APRENDIZADO = 0.05\n",
    "PACIENCIA = 10\n",
    "\n",
    "num_treino = int(len(x) * porcentagem_treino)\n",
    "\n",
    "x_train = x[:num_treino]\n",
    "y_true_train = y[:num_treino]\n",
    "x_val = x[num_treino:]\n",
    "y_true_val = y[num_treino:]\n",
    "\n",
    "minha_mlp = MLP(NUM_DADOS_DE_ENTRADA, CAMADAS_OCULTAS + [NUM_DADOS_DE_SAIDA])\n",
    "\n",
    "train_losses, val_losses = otimizacao_em_epocas(\n",
    "    minha_mlp,\n",
    "    x_train,\n",
    "    y_true_train,\n",
    "    x_val,\n",
    "    y_true_val,\n",
    "    NUM_EPOCAS,\n",
    "    TAXA_DE_APRENDIZADO,\n",
    "    PACIENCIA,\n",
    ")\n",
    "\n",
    "train_losses_log = [math.log10(loss) for loss in train_losses]\n",
    "val_losses_log = [math.log10(loss) for loss in val_losses]"
   ]
  },
  {
   "cell_type": "markdown",
   "metadata": {},
   "source": [
    "Excelente, podemos observar que o critério de parada antecipada foi ativado na época 29. Isso significa que o erro no conjunto de validação não melhorou por 10 épocas consecutivas, indicando que a rede neural começou a se especializar demais nos dados de treinamento e não estava mais generalizando bem."
   ]
  },
  {
   "cell_type": "markdown",
   "metadata": {},
   "source": [
    "Vamos agora plotar o erro de treinamento e validação ao longo das épocas para visualizar o desempenho da rede neural durante o treinamento. Isso nos ajudará a entender melhor como a parada antecipada afetou o processo de treinamento."
   ]
  },
  {
   "cell_type": "code",
   "execution_count": 10,
   "metadata": {},
   "outputs": [
    {
     "data": {
      "image/png": "[encoded data removed]",
      "text/plain": [
       "<Figure size 640x480 with 1 Axes>"
      ]
     },
     "metadata": {},
     "output_type": "display_data"
    }
   ],
   "source": [
    "plt.plot(train_losses_log, label=\"Treino\")\n",
    "plt.plot(val_losses_log, label=\"Validação\")\n",
    "plt.xlabel(\"Épocas\")\n",
    "plt.ylabel(\"Loss em $\\log_{10}$\")\n",
    "plt.title(\"Evolução da Loss\")\n",
    "plt.legend()\n",
    "plt.grid()\n",
    "plt.show()"
   ]
  },
  {
   "cell_type": "markdown",
   "metadata": {},
   "source": [
    "Podemos observar com esse gráfico que o erro de validação começou a aumentar após a época 19, enquanto o erro de treinamento continuou a diminuir. Isso confirma que a parada antecipada foi eficaz em evitar o *overfitting* e capturar o modelo em um estado onde ele ainda generaliza bem.\n",
    "\n",
    "Isso conclui a implementação da parada antecipada em uma rede neural simples. Essa técnica é fundamental para evitar o *overfitting* e garantir que o modelo generalize bem para novos dados. A parada antecipada é uma prática comum em treinamento de redes neurais e pode ser aplicada em diversos cenários de aprendizado de máquina."
   ]
  },
  {
   "cell_type": "markdown",
   "metadata": {},
   "source": [
    "## 📖 Referências\n",
    "\n",
    "[1] BKASHYAP, P. Early Stopping in Deep Learning: A Simple Guide to Prevent Overfitting. Disponível em: <https://medium.com/@piyushkashyap045/early-stopping-in-deep-learning-a-simple-guide-to-prevent-overfitting-1073f56b493e>. \n",
    "\n",
    "[2] Cyborg. What is Early Stopping in Deep Learning? Disponível em: <https://cyborgcodes.medium.com/what-is-early-stopping-in-deep-learning-eeb1e710a3cf>."
   ]
  }
 ],
 "metadata": {
  "kernelspec": {
   "display_name": "Python 3",
   "language": "python",
   "name": "python3"
  },
  "language_info": {
   "codemirror_mode": {
    "name": "ipython",
    "version": 3
   },
   "file_extension": ".py",
   "mimetype": "text/x-python",
   "name": "python",
   "nbconvert_exporter": "python",
   "pygments_lexer": "ipython3",
   "version": "3.11.6"
  }
 },
 "nbformat": 4,
 "nbformat_minor": 2
}
