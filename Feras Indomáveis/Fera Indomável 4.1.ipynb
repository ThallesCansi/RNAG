{
  "cells": [
    {
      "cell_type": "markdown",
      "metadata": {
        "id": "zsaawdxEqBn2"
      },
      "source": [
        "# 👹 Fera Formidável 4.1"
      ]
    },
    {
      "cell_type": "markdown",
      "metadata": {
        "id": "yt2NbbaiqXnZ"
      },
      "source": [
        "> Atividade realizada em dupla: Caio Ruas (24010) e Thalles Cansi (24006)"
      ]
    },
    {
      "cell_type": "markdown",
      "metadata": {
        "id": "syQ1qSSHqvCE"
      },
      "source": [
        "Um novo nível de monstro aparece nas florestas mágicas de LUMI. Esta é a primeira aparição de um monstro do tipo **Fera Formidável**. Para derrotar esta fera, precisaremos utilizar nossos conhecimentos de Redes Neurais para resolver um problema de\n",
        "classificação. Vamos treinar uma rede neural com dados da planta Íris [1] que é um conjunto de dados clássico em tarefas de classificação, possui 150 amostras com 4 atributos (comprimento e largura das sépalas e pétalas) e 3 classes correspondentes às espécies de íris."
      ]
    },
    {
      "cell_type": "markdown",
      "metadata": {
        "id": "oKOgrGOGu19p"
      },
      "source": [
        "![Flores de Íris](Imagens/FloresÍris.png)"
      ]
    },
    {
      "cell_type": "markdown",
      "metadata": {
        "id": "-3zXRVo1vLpG"
      },
      "source": [
        "<center>\n",
        "Legenda 1: Diferenças entre flores de Íris [2].\n",
        "</center>"
      ]
    },
    {
      "cell_type": "markdown",
      "metadata": {},
      "source": [
        "Estaremos utilizando o mesmo código da aula, provido pelo professor, para construir e treinar a rede neural."
      ]
    },
    {
      "cell_type": "markdown",
      "metadata": {},
      "source": [
        "## 🔢 Valor"
      ]
    },
    {
      "cell_type": "markdown",
      "metadata": {},
      "source": [
        "Esta é a classe Valor, que representa um valor numérico com suporte a diferenciação automática. Ela possui métodos para operações matemáticas, como adição, subtração, multiplicação e exponenciação, além de métodos para calcular a função sigmoide e backpropagation. É notório lembrar que realiza-se os cálculos mesmo com ordem invertida, onde o objeto Valor pode ser o primeiro ou segundo operando."
      ]
    },
    {
      "cell_type": "code",
      "execution_count": 1,
      "metadata": {},
      "outputs": [],
      "source": [
        "import math\n",
        "\n",
        "class Valor:\n",
        "    \"\"\"\n",
        "    Classe que representa um valor numérico com suporte a diferenciação automática.\n",
        "    \n",
        "    Cada instância armazena:\n",
        "      - data: o valor numérico.\n",
        "      - progenitor: tupla com os valores dos quais este foi derivado.\n",
        "      - operador_mae: string representando a operação que gerou o valor.\n",
        "      - grad: gradiente (inicialmente zero) usado no backpropagation.\n",
        "    \"\"\"\n",
        "    def __init__(self, data, progenitor=(), operador_mae=\"\", rotulo=\"\"):\n",
        "        \"\"\"\n",
        "        Inicializa uma instância de Valor.\n",
        "        \n",
        "        Args:\n",
        "            data (float): o valor numérico.\n",
        "            progenitor (tuple): valores anteriores que contribuíram para este.\n",
        "            operador_mae (str): operação que gerou o valor.\n",
        "            rotulo (str): rótulo opcional para identificação.\n",
        "        \"\"\"\n",
        "        self.data = data\n",
        "        self.progenitor = progenitor\n",
        "        self.operador_mae = operador_mae\n",
        "        self.rotulo = rotulo\n",
        "        self.grad = 0\n",
        "\n",
        "    def __repr__(self):\n",
        "        \"\"\"Retorna uma representação string simplificada do objeto.\"\"\"\n",
        "        return f\"Valor(data={self.data})\"\n",
        "\n",
        "    def __add__(self, outro_valor):\n",
        "        \"\"\"\n",
        "        Sobrecarga do operador de adição.\n",
        "        \n",
        "        Realiza a operação: self + outro_valor.\n",
        "        \n",
        "        Args:\n",
        "            outro_valor (Valor ou número): valor a ser somado.\n",
        "        \n",
        "        Returns:\n",
        "            Valor: novo objeto representando a soma.\n",
        "        \"\"\"\n",
        "        if not isinstance(outro_valor, Valor):\n",
        "            outro_valor = Valor(outro_valor)\n",
        "            \n",
        "        progenitor = (self, outro_valor)\n",
        "        data = self.data + outro_valor.data\n",
        "        operador_mae = \"+\"\n",
        "        resultado = Valor(data, progenitor, operador_mae)\n",
        "        \n",
        "        def propagar_adicao():\n",
        "            self.grad += resultado.grad\n",
        "            outro_valor.grad += resultado.grad\n",
        "            \n",
        "        resultado.propagar = propagar_adicao\n",
        "        \n",
        "        return resultado\n",
        "\n",
        "    def __mul__(self, outro_valor):\n",
        "        \"\"\"\n",
        "        Sobrecarga do operador de multiplicação.\n",
        "        \n",
        "        Realiza a operação: self * outro_valor.\n",
        "        \n",
        "        Args:\n",
        "            outro_valor (Valor ou número): valor a ser multiplicado.\n",
        "        \n",
        "        Returns:\n",
        "            Valor: novo objeto representando o produto.\n",
        "        \"\"\"\n",
        "        if not isinstance(outro_valor, Valor):\n",
        "            outro_valor = Valor(outro_valor)\n",
        "            \n",
        "        progenitor = (self, outro_valor)\n",
        "        data = self.data * outro_valor.data\n",
        "        operador_mae = \"*\"\n",
        "        resultado = Valor(data, progenitor, operador_mae)\n",
        "        \n",
        "        def propagar_multiplicacao():\n",
        "            self.grad += resultado.grad * outro_valor.data\n",
        "            outro_valor.grad += resultado.grad * self.data\n",
        "            \n",
        "        resultado.propagar = propagar_multiplicacao\n",
        "        \n",
        "        return resultado\n",
        "\n",
        "    def exp(self):\n",
        "        \"\"\"\n",
        "        Calcula a exponencial do valor.\n",
        "        \n",
        "        Realiza a operação: exp(self).\n",
        "        \n",
        "        Returns:\n",
        "            Valor: novo objeto representando a exponencial.\n",
        "        \"\"\"\n",
        "        progenitor = (self, )\n",
        "        data = math.exp(self.data)\n",
        "        operador_mae = \"exp\"\n",
        "        resultado = Valor(data, progenitor, operador_mae)\n",
        "        \n",
        "        def propagar_exp():\n",
        "            self.grad += resultado.grad * data \n",
        "        \n",
        "        resultado.propagar = propagar_exp\n",
        "        \n",
        "        return resultado\n",
        "\n",
        "    def __pow__(self, expoente):\n",
        "        \"\"\"\n",
        "        Sobrecarga do operador de exponenciação.\n",
        "        \n",
        "        Realiza a operação: self ** expoente.\n",
        "        \n",
        "        Args:\n",
        "            expoente (int ou float): expoente da operação.\n",
        "        \n",
        "        Returns:\n",
        "            Valor: novo objeto representando a exponenciação.\n",
        "        \"\"\"\n",
        "        assert isinstance(expoente, (int, float)), \"Expoente deve ser um número.\"\n",
        "        progenitor = (self, )\n",
        "        data = self.data ** expoente\n",
        "        operador_mae = f\"**{expoente}\"\n",
        "        resultado = Valor(data, progenitor, operador_mae)\n",
        "        \n",
        "        def propagar_pow():\n",
        "            self.grad += resultado.grad * (expoente * self.data ** (expoente - 1))\n",
        "        \n",
        "        resultado.propagar = propagar_pow\n",
        "        \n",
        "        return resultado\n",
        "\n",
        "    def __truediv__(self, outro_valor):\n",
        "        \"\"\"\n",
        "        Sobrecarga do operador de divisão.\n",
        "        \n",
        "        Realiza a operação: self / outro_valor.\n",
        "        \n",
        "        Args:\n",
        "            outro_valor (Valor ou número): divisor.\n",
        "        \n",
        "        Returns:\n",
        "            Valor: novo objeto representando a divisão.\n",
        "        \"\"\"\n",
        "        return self * outro_valor ** (-1)\n",
        "\n",
        "    def __neg__(self):\n",
        "        \"\"\"\n",
        "        Sobrecarga do operador de negação.\n",
        "        \n",
        "        Realiza a operação: -self.\n",
        "        \n",
        "        Returns:\n",
        "            Valor: novo objeto representando o valor negativo.\n",
        "        \"\"\"\n",
        "        return self * -1\n",
        "\n",
        "    def __sub__(self, outro_valor):\n",
        "        \"\"\"\n",
        "        Sobrecarga do operador de subtração.\n",
        "        \n",
        "        Realiza a operação: self - outro_valor.\n",
        "        \n",
        "        Args:\n",
        "            outro_valor (Valor ou número): valor a ser subtraído.\n",
        "        \n",
        "        Returns:\n",
        "            Valor: novo objeto representando a subtração.\n",
        "        \"\"\"\n",
        "        return self + (-outro_valor)\n",
        "\n",
        "    def __radd__(self, outro_valor):\n",
        "        \"\"\"\n",
        "        Sobrecarga do operador de adição reversa.\n",
        "        \n",
        "        Permite operações onde Valor está à direita: outro_valor + self.\n",
        "        \n",
        "        Args:\n",
        "            outro_valor (Valor ou número): valor a ser somado.\n",
        "        \n",
        "        Returns:\n",
        "            Valor: resultado da adição.\n",
        "        \"\"\"\n",
        "        return self + outro_valor\n",
        "    \n",
        "    \n",
        "    def __rsub__(self, outro_valor):\n",
        "        \"\"\"\n",
        "        Sobrecarga do operador de subtração reversa.\n",
        "        \n",
        "        Permite operações onde Valor está à direita: outro_valor - self.\n",
        "        \n",
        "        Args:\n",
        "            outro_valor (Valor ou número): valor a ser subtraído.\n",
        "        \n",
        "        Returns:\n",
        "            Valor: resultado da subtração.\n",
        "        \"\"\"\n",
        "        return outro_valor + (-self)\n",
        "\n",
        "    def __rmul__(self, outro_valor):\n",
        "        \"\"\"\n",
        "        Sobrecarga do operador de multiplicação reversa.\n",
        "        \n",
        "        Permite operações onde Valor está à direita: outro_valor * self.\n",
        "        \n",
        "        Args:\n",
        "            outro_valor (Valor ou número): valor a ser multiplicado.\n",
        "        \n",
        "        Returns:\n",
        "            Valor: resultado da multiplicação.\n",
        "        \"\"\"\n",
        "        return self * outro_valor\n",
        "    \n",
        "    def log(self):\n",
        "        \"\"\"\n",
        "        Calcula o logaritmo natural do valor e retorna um novo objeto Valor.\n",
        "        \n",
        "        Returns:\n",
        "            Valor: objeto contendo log(self.data).\n",
        "        \"\"\"\n",
        "        progenitor = (self,)\n",
        "        data = math.log(self.data)\n",
        "        operador_mae = \"log\"\n",
        "        resultado = Valor(data, progenitor, operador_mae)\n",
        "        \n",
        "        def propagar_log():\n",
        "            self.grad += resultado.grad / self.data\n",
        "            \n",
        "        resultado.propagar = propagar_log\n",
        "        return resultado\n",
        "\n",
        "\n",
        "    def sig(self):\n",
        "        \"\"\"\n",
        "        Calcula a função sigmoide.\n",
        "        \n",
        "        Realiza a operação: exp(self) / (exp(self) + 1).\n",
        "        \n",
        "        Returns:\n",
        "            Valor: novo objeto representando o resultado da sigmoide.\n",
        "        \"\"\"\n",
        "        return self.exp() / (self.exp() + 1)\n",
        "\n",
        "    def propagar(self):\n",
        "        \"\"\"\n",
        "        Função de propagação (backpropagation) do gradiente.\n",
        "        \n",
        "        Este método deve ser sobrescrito pelas operações específicas.\n",
        "        \"\"\"\n",
        "        pass\n",
        "\n",
        "    def propagar_tudo(self):\n",
        "        \"\"\"\n",
        "        Executa o backpropagation através de todos os nós (valores) conectados.\n",
        "        \n",
        "        Atribui gradiente 1 ao vértice folha e propaga recursivamente utilizando uma ordem topológica dos nós.\n",
        "        \"\"\"\n",
        "        self.grad = 1\n",
        "        ordem_topologica = []\n",
        "        visitados = set()\n",
        "\n",
        "        def constroi_ordem_topologica(v):\n",
        "            if v not in visitados:\n",
        "                visitados.add(v)\n",
        "                for progenitor in v.progenitor:\n",
        "                    constroi_ordem_topologica(progenitor)\n",
        "                ordem_topologica.append(v)\n",
        "\n",
        "        constroi_ordem_topologica(self)\n",
        "\n",
        "        for vertice in reversed(ordem_topologica):\n",
        "            vertice.propagar()\n"
      ]
    },
    {
      "cell_type": "markdown",
      "metadata": {},
      "source": [
        "Nós adicionamos dois novos métodos à classe `Valor`:\n",
        "\n",
        "- `log(self)`: Calcula o logaritmo natural do valor e retorna um novo objeto Valor. Este método é útil para calcular a função de perda de entropia cruzada, que é comumente usada em problemas de classificação.\n",
        "- `__rsub__`: Este método é chamado quando o objeto Valor é o segundo operando em uma subtração. Ele inverte a ordem dos operandos e chama o método `__sub__` para realizar a subtração. Isso permite que o objeto Valor seja usado em expressões como `1 - x`, onde `x` é um objeto Valor. Tivemos que adicionar esse método para evitar o erro de tipo que ocorria quando tentávamos fazer `1 - x` com um objeto Valor. Isso é importante para garantir que a subtração funcione corretamente em todas as situações, independentemente da ordem dos operandos."
      ]
    },
    {
      "cell_type": "markdown",
      "metadata": {},
      "source": [
        "## 🤓 Neurônio"
      ]
    },
    {
      "cell_type": "markdown",
      "metadata": {},
      "source": [
        "A classe Neurônio representa um neurônio em uma rede neural. Ela possui pesos e um viés, que são inicializados aleatoriamente. O neurônio calcula a saída usando a função sigmoide e realiza o backpropagation para atualizar os pesos e o viés com base no erro da previsão."
      ]
    },
    {
      "cell_type": "code",
      "execution_count": 2,
      "metadata": {},
      "outputs": [],
      "source": [
        "import random\n",
        "\n",
        "\n",
        "class Neuronio:\n",
        "    \"\"\"\n",
        "    Representa um neurônio simples com pesos e viés para uso em uma rede neural.\n",
        "\n",
        "    Este neurônio utiliza a classe Valor para armazenar seus parâmetros e realizar a\n",
        "    diferenciação automática durante o treinamento.\n",
        "    \"\"\"\n",
        "\n",
        "    def __init__(self, num_dados_entrada):\n",
        "        \"\"\"\n",
        "        Inicializa um neurônio com um número especificado de entradas.\n",
        "\n",
        "        Args:\n",
        "            num_dados_entrada (int): número de entradas para o neurônio.\n",
        "        \"\"\"\n",
        "        self.vies = Valor(random.uniform(-1, 1))\n",
        "\n",
        "        self.pesos = []\n",
        "        for i in range(num_dados_entrada):\n",
        "            self.pesos.append(Valor(random.uniform(-1, 1)))\n",
        "\n",
        "    def __call__(self, x):\n",
        "        \"\"\"\n",
        "        Realiza a passagem forward do neurônio.\n",
        "\n",
        "        Calcula a soma ponderada das entradas e aplica a função sigmoide para\n",
        "        determinar a saída do neurônio.\n",
        "\n",
        "        Args:\n",
        "            x (list[Valor]): lista de objetos Valor representando as entradas.\n",
        "\n",
        "        Returns:\n",
        "            Valor: objeto Valor representando a saída do neurônio.\n",
        "        \"\"\"\n",
        "        assert len(x) == len(\n",
        "            self.pesos\n",
        "        ), \"O número de entradas deve ser igual ao número de pesos.\"\n",
        "\n",
        "        soma = 0\n",
        "        for info_entrada, peso_interno in zip(x, self.pesos):\n",
        "            soma += info_entrada * peso_interno\n",
        "\n",
        "        soma += self.vies\n",
        "\n",
        "        dado_de_saida = soma.sig()\n",
        "\n",
        "        return dado_de_saida\n",
        "\n",
        "    def parametros(self):\n",
        "        \"\"\"\n",
        "        Retorna uma lista com os parâmetros do neurônio (pesos e viés).\n",
        "\n",
        "        Returns:\n",
        "            list[Valor]: lista contendo os pesos e o viés.\n",
        "        \"\"\"\n",
        "        return self.pesos + [self.vies]"
      ]
    },
    {
      "cell_type": "markdown",
      "metadata": {},
      "source": [
        "## 🎂 Camada"
      ]
    },
    {
      "cell_type": "markdown",
      "metadata": {},
      "source": [
        "A classe Camada representa uma camada de neurônios em uma rede neural. Ela possui um número específico de neurônios e é responsável por calcular a saída da camada com base nas entradas recebidas. Realiza o forward pass e agrega os parametros de cada neurônio."
      ]
    },
    {
      "cell_type": "code",
      "execution_count": 3,
      "metadata": {},
      "outputs": [],
      "source": [
        "class Camada:\n",
        "    \"\"\"\n",
        "    Representa uma camada em uma rede neural composta por múltiplos neurônios.\n",
        "\n",
        "    Cada camada gerencia um conjunto de neurônios, realizando a passagem forward\n",
        "    e agregando os parâmetros (pesos e viés) de cada neurônio.\n",
        "    \"\"\"\n",
        "\n",
        "    def __init__(self, num_neuronios, num_dados_entrada):\n",
        "        \"\"\"\n",
        "        Inicializa a camada com um número específico de neurônios, cada um com\n",
        "        um determinado número de entradas.\n",
        "\n",
        "        Args:\n",
        "            num_neuronios (int): número de neurônios na camada.\n",
        "            num_dados_entrada (int): número de entradas para cada neurônio.\n",
        "        \"\"\"\n",
        "        self.neuronios = []\n",
        "        for _ in range(num_neuronios):\n",
        "            neuronio = Neuronio(num_dados_entrada)\n",
        "            self.neuronios.append(neuronio)\n",
        "\n",
        "    def __call__(self, x):\n",
        "        \"\"\"\n",
        "        Realiza a passagem forward na camada.\n",
        "\n",
        "        Aplica cada neurônio da camada à mesma entrada e retorna os dados de saída.\n",
        "\n",
        "        Args:\n",
        "            x (list[Valor]): lista de objetos Valor representando as entradas da camada.\n",
        "\n",
        "        Returns:\n",
        "            Valor ou list[Valor]: saída de um único neurônio se houver apenas um,\n",
        "            ou lista com as saídas de todos os neurônios.\n",
        "        \"\"\"\n",
        "        dados_de_saida = []\n",
        "        for neuronio in self.neuronios:\n",
        "            informacao = neuronio(x)\n",
        "            dados_de_saida.append(informacao)\n",
        "\n",
        "        if len(dados_de_saida) == 1:\n",
        "            return dados_de_saida[0]\n",
        "        else:\n",
        "            return dados_de_saida\n",
        "\n",
        "    def parametros(self):\n",
        "        \"\"\"\n",
        "        Agrega e retorna todos os parâmetros (pesos e viés) de cada neurônio da camada.\n",
        "\n",
        "        Returns:\n",
        "            list[Valor]: lista contendo todos os parâmetros dos neurônios da camada.\n",
        "        \"\"\"\n",
        "        params = []\n",
        "        for neuronio in self.neuronios:\n",
        "            params_neuronio = neuronio.parametros()\n",
        "            params.extend(params_neuronio)\n",
        "\n",
        "        return params"
      ]
    },
    {
      "cell_type": "markdown",
      "metadata": {},
      "source": [
        "## 🧠 MLP"
      ]
    },
    {
      "cell_type": "markdown",
      "metadata": {},
      "source": [
        "Por fim, nossa última classe da nossa rede neural é a `MLP` (Multi-Layer Perceptron). Ela representa uma rede neural com múltiplas camadas. A `MLP` organiza as camadas da rede, permitindo a passagem forward dos dados e a agregação dos parâmetros de todas as camadas."
      ]
    },
    {
      "cell_type": "code",
      "execution_count": 4,
      "metadata": {},
      "outputs": [],
      "source": [
        "class MLP:\n",
        "    \"\"\"\n",
        "    Representa uma rede neural do tipo MLP (Multi-Layer Perceptron).\n",
        "\n",
        "    Essa classe organiza as camadas da rede, permitindo a passagem forward dos dados e\n",
        "    a agregação dos parâmetros (pesos e viés) de todas as camadas.\n",
        "    \"\"\"\n",
        "\n",
        "    def __init__(self, num_dados_entrada, num_neuronios_por_camada):\n",
        "        \"\"\"\n",
        "        Inicializa a MLP com um número definido de entradas e uma lista que especifica\n",
        "        o número de neurônios em cada camada.\n",
        "\n",
        "        Args:\n",
        "            num_dados_entrada (int): número de entradas da rede.\n",
        "            num_neuronios_por_camada (list[int]): lista com o número de neurônios para cada camada.\n",
        "        \"\"\"\n",
        "        percurso = [num_dados_entrada] + num_neuronios_por_camada\n",
        "\n",
        "        camadas = []\n",
        "        for i in range(len(num_neuronios_por_camada)):\n",
        "            camada = Camada(num_neuronios_por_camada[i], percurso[i])\n",
        "            camadas.append(camada)\n",
        "\n",
        "        self.camadas = camadas\n",
        "\n",
        "    def __call__(self, x):\n",
        "        \"\"\"\n",
        "        Realiza a passagem forward pela rede.\n",
        "\n",
        "        Cada camada processa a entrada e o resultado é passado para a próxima camada.\n",
        "\n",
        "        Args:\n",
        "            x (list[Valor] ou Valor): dados de entrada para a rede.\n",
        "\n",
        "        Returns:\n",
        "            Valor ou list[Valor]: saída final da rede após a passagem por todas as camadas.\n",
        "        \"\"\"\n",
        "        for camada in self.camadas:\n",
        "            x = camada(x)\n",
        "        return x\n",
        "\n",
        "    def parametros(self):\n",
        "        \"\"\"\n",
        "        Agrega e retorna todos os parâmetros (pesos e viés) de todas as camadas da rede.\n",
        "\n",
        "        Returns:\n",
        "            list[Valor]: lista contendo os parâmetros de cada camada.\n",
        "        \"\"\"\n",
        "        params = []\n",
        "        for camada in self.camadas:\n",
        "            parametros_camada = camada.parametros()\n",
        "            params.extend(parametros_camada)\n",
        "\n",
        "        return params"
      ]
    },
    {
      "cell_type": "markdown",
      "metadata": {},
      "source": [
        "## 🎬 Hora de Classificar"
      ]
    },
    {
      "cell_type": "markdown",
      "metadata": {},
      "source": [
        "Para termos o dataset e poder realizar as avaliações da nossa rede neural, bem como realizar alguns cálculos matemáticos, vamos importar as bibliotecas necessárias e carregar o dataset. "
      ]
    },
    {
      "cell_type": "code",
      "execution_count": 5,
      "metadata": {},
      "outputs": [],
      "source": [
        "import seaborn as sns\n",
        "import numpy as np\n",
        "import matplotlib.pyplot as plt\n",
        "from sklearn.metrics import confusion_matrix\n",
        "from sklearn.model_selection import train_test_split"
      ]
    },
    {
      "cell_type": "markdown",
      "metadata": {},
      "source": [
        "O dataset Iris contém informações sobre três espécies de flores: setosa, versicolor e virginica. Cada amostra possui quatro atributos: comprimento e largura das sépalas e pétalas."
      ]
    },
    {
      "cell_type": "code",
      "execution_count": 6,
      "metadata": {},
      "outputs": [
        {
          "data": {
            "text/html": [
              "<div>\n",
              "<style scoped>\n",
              "    .dataframe tbody tr th:only-of-type {\n",
              "        vertical-align: middle;\n",
              "    }\n",
              "\n",
              "    .dataframe tbody tr th {\n",
              "        vertical-align: top;\n",
              "    }\n",
              "\n",
              "    .dataframe thead th {\n",
              "        text-align: right;\n",
              "    }\n",
              "</style>\n",
              "<table border=\"1\" class=\"dataframe\">\n",
              "  <thead>\n",
              "    <tr style=\"text-align: right;\">\n",
              "      <th></th>\n",
              "      <th>sepal_length</th>\n",
              "      <th>sepal_width</th>\n",
              "      <th>petal_length</th>\n",
              "      <th>petal_width</th>\n",
              "      <th>species</th>\n",
              "    </tr>\n",
              "  </thead>\n",
              "  <tbody>\n",
              "    <tr>\n",
              "      <th>0</th>\n",
              "      <td>5.1</td>\n",
              "      <td>3.5</td>\n",
              "      <td>1.4</td>\n",
              "      <td>0.2</td>\n",
              "      <td>setosa</td>\n",
              "    </tr>\n",
              "    <tr>\n",
              "      <th>1</th>\n",
              "      <td>4.9</td>\n",
              "      <td>3.0</td>\n",
              "      <td>1.4</td>\n",
              "      <td>0.2</td>\n",
              "      <td>setosa</td>\n",
              "    </tr>\n",
              "    <tr>\n",
              "      <th>2</th>\n",
              "      <td>4.7</td>\n",
              "      <td>3.2</td>\n",
              "      <td>1.3</td>\n",
              "      <td>0.2</td>\n",
              "      <td>setosa</td>\n",
              "    </tr>\n",
              "    <tr>\n",
              "      <th>3</th>\n",
              "      <td>4.6</td>\n",
              "      <td>3.1</td>\n",
              "      <td>1.5</td>\n",
              "      <td>0.2</td>\n",
              "      <td>setosa</td>\n",
              "    </tr>\n",
              "    <tr>\n",
              "      <th>4</th>\n",
              "      <td>5.0</td>\n",
              "      <td>3.6</td>\n",
              "      <td>1.4</td>\n",
              "      <td>0.2</td>\n",
              "      <td>setosa</td>\n",
              "    </tr>\n",
              "  </tbody>\n",
              "</table>\n",
              "</div>"
            ],
            "text/plain": [
              "   sepal_length  sepal_width  petal_length  petal_width species\n",
              "0           5.1          3.5           1.4          0.2  setosa\n",
              "1           4.9          3.0           1.4          0.2  setosa\n",
              "2           4.7          3.2           1.3          0.2  setosa\n",
              "3           4.6          3.1           1.5          0.2  setosa\n",
              "4           5.0          3.6           1.4          0.2  setosa"
            ]
          },
          "execution_count": 6,
          "metadata": {},
          "output_type": "execute_result"
        }
      ],
      "source": [
        "iris = sns.load_dataset('iris')\n",
        "iris.head()"
      ]
    },
    {
      "cell_type": "markdown",
      "metadata": {},
      "source": [
        "Antes de iniciarmos, vamos explicar as diferenças entre redes neurais classificadoras e regressoras.\n",
        "\n",
        "- Redes neurais classificadoras: classificação é um modelo preditivo que aproxima uma função de mapeamento de variáveis de entrada para identificar variáveis de saída discretas, que podem ser rótulos ou categorias. A função de mapeamento dos algoritmos de classificação é responsável por prever o rótulo ou a categoria das variáveis de entrada dadas. Um algoritmo de classificação pode ter variáveis discretas e de valor real, mas requer que os exemplos sejam classificados em uma das duas ou mais classes.\n",
        "\n",
        "- Redes neurais regressoras: algoritmos de regressão predizem um valor contínuo baseado nas variáveis de entrada. O principal objetivo dos problemas de regressão é estimar uma função de mapeamento com base nas variáveis de entrada e saída. [3]\n",
        "\n",
        "Beleza, agora que nós explicamos as diferenças entre os dois tipos de redes neurais, vamos definir que as espécies de \"setosa\" serão representadas por 1 e as outras espécies por 0. Assim, a rede neural irá prever se a flor é da espécie \"setosa\" ou não. Para isso, vamos criar uma função que irá transformar as classes em valores binários.\n",
        "\n",
        "Aproveitaremos para dividir o dataset em duas partes: uma para treinamento e outra para teste. O conjunto de treinamento será usado para treinar a rede neural, enquanto o conjunto de teste será usado para avaliar o desempenho da rede neural após o treinamento."
      ]
    },
    {
      "cell_type": "code",
      "execution_count": 7,
      "metadata": {},
      "outputs": [],
      "source": [
        "iris[\"target\"] = (iris[\"species\"] == \"setosa\").astype(float)\n",
        "\n",
        "features = [\"sepal_length\", \"sepal_width\", \"petal_length\", \"petal_width\"]\n",
        "x_data = iris[features].values\n",
        "y_data = iris[\"target\"].values\n",
        "\n",
        "x_train, x_test, y_train, y_test = train_test_split(\n",
        "    x_data, y_data, test_size=0.2, random_state=42\n",
        ")"
      ]
    },
    {
      "cell_type": "markdown",
      "metadata": {},
      "source": [
        "Agora, vamos definir os parâmetros da rede neural, como o número de neurônios em cada camada e a taxa de aprendizado. Esses parâmetros são importantes para o desempenho da rede neural e podem ser ajustados para melhorar a precisão do modelo."
      ]
    },
    {
      "cell_type": "code",
      "execution_count": 8,
      "metadata": {},
      "outputs": [],
      "source": [
        "NUM_DADOS_DE_ENTRADA = 4  \n",
        "NUM_DADOS_DE_SAIDA = 1    \n",
        "CAMADAS_OCULTAS = [3, 2]\n",
        "\n",
        "TAXA_DE_APRENDIZADO = 0.01\n",
        "NUM_EPOCAS = 200\n",
        "\n",
        "arquitetura_da_rede = CAMADAS_OCULTAS + [NUM_DADOS_DE_SAIDA]\n",
        "\n",
        "minha_mlp = MLP(NUM_DADOS_DE_ENTRADA, arquitetura_da_rede)"
      ]
    },
    {
      "cell_type": "markdown",
      "metadata": {},
      "source": [
        "Já definimos os parâmetros da rede neural e a criamos nossa rede neural. Agora, vamos treinar a rede neural com os dados de treinamento. Durante o treinamento, a rede neural ajusta seus pesos e viés com base no erro da previsão. O objetivo é minimizar o erro para que a rede neural possa fazer previsões precisas em novos dados.\n",
        "\n",
        "Um passo bastante importante é a função de perda, que mede o quão bem a rede neural está se saindo. Neste caso, utilizamos a entropia cruzada como função de perda. A entropia cruzada é uma medida da diferença entre duas distribuições de probabilidade e é comumente usada em problemas de classificação. A função de perda é calculada comparando as previsões da rede neural com os rótulos reais dos dados de treinamento. Durante o treinamento, a rede neural tenta minimizar essa função de perda ajustando seus pesos e viés. [4]\n",
        "\n",
        "Vamos definir a função de entropia cruzada para calcular a perda da rede neural."
      ]
    },
    {
      "cell_type": "code",
      "execution_count": 9,
      "metadata": {},
      "outputs": [],
      "source": [
        "def cross_entropy(y_pred, y_true):\n",
        "    \"\"\"\n",
        "    Calcula a entropia cruzada para uma previsão e um valor alvo.\n",
        "\n",
        "    Args:\n",
        "        y_pred (Valor): previsão da rede (resultado de uma função sigmoide, por exemplo).\n",
        "        y_true (float): valor alvo (0 ou 1).\n",
        "\n",
        "    Returns:\n",
        "        Valor: perda de entropia cruzada.\n",
        "    \"\"\"\n",
        "    y_true_val = y_true if isinstance(y_true, Valor) else Valor(y_true)\n",
        "    \n",
        "    loss = -(y_true_val * y_pred.log() + (1 - y_true_val) * (1 - y_pred).log())\n",
        "    return loss"
      ]
    },
    {
      "cell_type": "markdown",
      "metadata": {},
      "source": [
        "Definimos a função de entropia cruzada, agora vamos treinar a rede neural."
      ]
    },
    {
      "cell_type": "code",
      "execution_count": 10,
      "metadata": {},
      "outputs": [
        {
          "name": "stdout",
          "output_type": "stream",
          "text": [
            "Época 0: Loss Total = 76.96530814532154\n",
            "Época 10: Loss Total = 75.6133612375824\n",
            "Época 20: Loss Total = 71.3888100391146\n",
            "Época 30: Loss Total = 62.83097322040662\n",
            "Época 40: Loss Total = 48.96382502884271\n",
            "Época 50: Loss Total = 33.52616921416489\n",
            "Época 60: Loss Total = 20.88988928654358\n",
            "Época 70: Loss Total = 13.439876196894238\n",
            "Época 80: Loss Total = 9.371798963461718\n",
            "Época 90: Loss Total = 7.008728259354433\n",
            "Época 100: Loss Total = 5.521503701758504\n",
            "Época 110: Loss Total = 4.519424996310335\n",
            "Época 120: Loss Total = 3.806714359974495\n",
            "Época 130: Loss Total = 3.27772926891651\n",
            "Época 140: Loss Total = 2.871527624990269\n",
            "Época 150: Loss Total = 2.550901838419657\n",
            "Época 160: Loss Total = 2.2920274773860787\n",
            "Época 170: Loss Total = 2.0790259497550756\n",
            "Época 180: Loss Total = 1.9009489004209148\n",
            "Época 190: Loss Total = 1.7500249945038167\n"
          ]
        }
      ],
      "source": [
        "def vetor_para_valores(vetor):\n",
        "    \"\"\"Converte um vetor numpy em uma lista de objetos Valor.\"\"\"\n",
        "    return [Valor(x) for x in vetor]\n",
        "\n",
        "for epoca in range(NUM_EPOCAS):\n",
        "    loss_total = None\n",
        "    \n",
        "    for exemplo, yt in zip(x_train, y_train):\n",
        "        entrada = vetor_para_valores(exemplo)\n",
        "        previsao = minha_mlp(entrada)\n",
        "        \n",
        "        loss_exemplo = cross_entropy(previsao, yt)\n",
        "        \n",
        "        if loss_total is None:\n",
        "            loss_total = loss_exemplo\n",
        "        else:\n",
        "            loss_total = loss_total + loss_exemplo\n",
        "\n",
        "    for p in minha_mlp.parametros():\n",
        "        p.grad = 0\n",
        "\n",
        "    loss_total.propagar_tudo()\n",
        "\n",
        "    for p in minha_mlp.parametros():\n",
        "        p.data = p.data - p.grad * TAXA_DE_APRENDIZADO\n",
        "\n",
        "    media_loss = loss_total.data / len(x_train)\n",
        "    if epoca % 10 == 0:\n",
        "        print(f\"Época {epoca}: Loss Total = {loss_total.data}\")\n"
      ]
    },
    {
      "cell_type": "markdown",
      "metadata": {},
      "source": [
        "Podemos notar que a cada época de treinamento, a perda diminui. Isso indica que a rede neural está aprendendo e melhorando suas previsões. Após o treinamento, vamos avaliar o desempenho da rede neural com os dados de teste. Isso nos dará uma ideia de quão bem a rede neural generaliza para novos dados."
      ]
    },
    {
      "cell_type": "code",
      "execution_count": 11,
      "metadata": {},
      "outputs": [
        {
          "data": {
            "image/png": "[encoded data removed]",
            "text/plain": [
              "<Figure size 600x400 with 2 Axes>"
            ]
          },
          "metadata": {},
          "output_type": "display_data"
        }
      ],
      "source": [
        "y_true_test = np.array(y_test)\n",
        "y_pred_test = []\n",
        "y_prob_test = []\n",
        "\n",
        "for exemplo in x_test:\n",
        "    entrada = vetor_para_valores(exemplo)\n",
        "    previsao = minha_mlp(entrada)\n",
        "    prob = previsao.data\n",
        "    y_prob_test.append(prob)\n",
        "    classe_pred = 1 if prob >= 0.5 else 0\n",
        "    y_pred_test.append(classe_pred)\n",
        "\n",
        "cm = confusion_matrix(y_true_test, y_pred_test)\n",
        "plt.figure(figsize=(6, 4))\n",
        "sns.heatmap(cm, annot=True, fmt=\"d\", cmap=\"Blues\")\n",
        "plt.xlabel(\"Predito\")\n",
        "plt.ylabel(\"Verdadeiro\")\n",
        "plt.title(\"Matriz de Confusão\")\n",
        "plt.show()\n"
      ]
    },
    {
      "cell_type": "markdown",
      "metadata": {},
      "source": [
        "Através dessa matriz de confusão, podemos ver que a rede neural teve um desempenho muito bom na classificação das flores. Todas as amostras foram classificadas corretamente, o que indica que a rede neural aprendeu bem a relação entre os atributos das flores e suas classes. Isso é um bom sinal de que a rede neural está funcionando corretamente e pode ser usada para fazer previsões em novos dados."
      ]
    },
    {
      "cell_type": "markdown",
      "metadata": {
        "id": "nEUC2Bj1tYre"
      },
      "source": [
        "# 📖 Referências"
      ]
    },
    {
      "cell_type": "markdown",
      "metadata": {
        "id": "zRZ3m9tbtwO9"
      },
      "source": [
        "[1] Conjunto de dados Iris. UCI Machine Learning Repository. Disponível em: https://archive.ics.uci.edu/dataset/53/iris. Acesso em: 05 de Abril de 2025.\n",
        "\n",
        "[2] Conjunto de dados Iris. Wikipedia. Disponível em: https://pt.wikipedia.org/wiki/Conjunto_de_dados_flor_Iris. Acesso em: 05 de Abril de 2025.\n",
        "\n",
        "[3] Regression vs. Classification in Machine Learning: What’s the Difference? Disponível em: https://www.springboard.com/blog/data-science/regression-vs-classification/. Acesso em: 05 de Maio de 2025.\n",
        "\n",
        "[4] Loss Functions in Machine Learning Explained. Disponível em: https://www.datacamp.com/tutorial/loss-function-in-machine-learning. Acesso em: 05 de Maio de 2025."
      ]
    }
  ],
  "metadata": {
    "colab": {
      "provenance": []
    },
    "kernelspec": {
      "display_name": "Python 3",
      "name": "python3"
    },
    "language_info": {
      "codemirror_mode": {
        "name": "ipython",
        "version": 3
      },
      "file_extension": ".py",
      "mimetype": "text/x-python",
      "name": "python",
      "nbconvert_exporter": "python",
      "pygments_lexer": "ipython3",
      "version": "3.11.6"
    }
  },
  "nbformat": 4,
  "nbformat_minor": 0
}
