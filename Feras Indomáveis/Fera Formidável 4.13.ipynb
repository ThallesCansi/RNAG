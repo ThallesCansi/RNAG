{
 "cells": [
  {
   "cell_type": "markdown",
   "id": "0e7b13c9",
   "metadata": {},
   "source": [
    "# 👹 Fera Formidável 4.13"
   ]
  },
  {
   "cell_type": "markdown",
   "id": "487ac1c2",
   "metadata": {},
   "source": [
    "> Atividade realizada em dupla: Pedro Bramante (24026) e Thalles Cansi (24006)"
   ]
  },
  {
   "cell_type": "markdown",
   "id": "742b66fd",
   "metadata": {},
   "source": [
    "Uma temível fera se aproxima no reino de LUMI. E esta fera não é qualquer fera. Esta fera é a aquela fera que quer toda as nossas riquezas. E para isso, a gente vai ter que reunir todos nossos tesouros e entregar uma parte para ela. Os mágicos do reino de LUMI disseram-nos que esta fera é esperta e vamos ter que ser cautelosos. Vamos entender o que ela quer."
   ]
  },
  {
   "cell_type": "markdown",
   "id": "98b85327",
   "metadata": {},
   "source": [
    "Para esta fera, vamos ter que encontrar uma liga de três elementos químicos que tenha o maior custo possível. A liga deve ser da forma $xA.yB.zC$, onde $x + y + z = 100$ g, $x ≥ 5$ g, $y ≥ 5$ g, $z ≥ 5$ g e \"A\", \"B\" e \"C\" são elementos químicos diferentes.\n",
    "\n",
    "Para isso, vamos utilizar um algoritmo genético. Esse algoritmo irá gerar uma população inicial de ligas, avaliar o custo de cada liga, selecionar as melhores ligas, realizar cruzamentos e mutações para gerar novas ligas e repetir o processo até encontrar a liga com o maior custo possível.\n",
    "\n",
    "Então, vamos lá!"
   ]
  },
  {
   "cell_type": "markdown",
   "id": "b09f638b",
   "metadata": {},
   "source": [
    "## 🏁 Começando"
   ]
  },
  {
   "cell_type": "markdown",
   "id": "e58c6b11",
   "metadata": {},
   "source": [
    "Para iniciarmos essa batalha, vamos convocar as bibliotecas mágicas necessárias para o nosso algoritmo genético. Vamos utilizar as bibliotecas `numpy` e `random` para realizar os cálculos e gerar números aleatórios."
   ]
  },
  {
   "cell_type": "code",
   "execution_count": 1,
   "id": "395088ae",
   "metadata": {},
   "outputs": [],
   "source": [
    "import json\n",
    "import random\n",
    "import numpy as np\n",
    "\n",
    "random.seed(7)"
   ]
  },
  {
   "cell_type": "markdown",
   "id": "72520dda",
   "metadata": {},
   "source": [
    "E, para reunir os tesouros, vamos pegar os preços dos elementos químicos que vamos utilizar. O preço de cada elemento químico está no arquivo `Data/PrecoElemento.json`. Vamos carregar esse arquivo e extrair os preços dos elementos químicos."
   ]
  },
  {
   "cell_type": "code",
   "execution_count": 2,
   "id": "b1d68aa5",
   "metadata": {},
   "outputs": [],
   "source": [
    "with open(\"Data/PrecoElemento.json\", \"r\") as file:\n",
    "    arquivo = json.load(file)"
   ]
  },
  {
   "cell_type": "markdown",
   "id": "dd0764cb",
   "metadata": {},
   "source": [
    "Beleza, agora que reunimos os tesouros, vamos importar as funções necessárias para o nosso algoritmo genético. As funções estão no arquivo `Scripts/FeraFormidavel413.py`. Vamos importar as funções `populacao_inicial`, `fitness`, `torneio`, `crossover` e `mutacao`."
   ]
  },
  {
   "cell_type": "code",
   "execution_count": 3,
   "id": "9ff60974",
   "metadata": {},
   "outputs": [],
   "source": [
    "from Scripts.FeraFormidavel413 import populacao_inicial\n",
    "from Scripts.FeraFormidavel413 import fitness\n",
    "from Scripts.FeraFormidavel413 import torneio\n",
    "from Scripts.FeraFormidavel413 import crossover\n",
    "from Scripts.FeraFormidavel413 import mutacao"
   ]
  },
  {
   "cell_type": "markdown",
   "id": "cb77be0a",
   "metadata": {},
   "source": [
    "Show! Pegamos todas as funções necessárias para o nosso algoritmo genético. Agora, vamos definir algumas constantes que serão utilizadas no nosso algoritmo."
   ]
  },
  {
   "cell_type": "code",
   "execution_count": 4,
   "id": "387bcbe0",
   "metadata": {},
   "outputs": [],
   "source": [
    "ELEMENTOS = list(arquivo.keys())\n",
    "PRECOS = arquivo\n",
    "GERACOES = 500\n",
    "TAMANHO_POPULACAO = 300\n",
    "TAXA_ELITISMO = 0.05\n",
    "TAMANHO_TORNEIO = 3"
   ]
  },
  {
   "cell_type": "markdown",
   "id": "a44395fc",
   "metadata": {},
   "source": [
    "Agora, é hora de definir a função principal do nosso algoritmo genético. Essa função irá gerar uma população inicial de ligas, avaliar o custo de cada liga, selecionar as melhores ligas, realizar cruzamentos e mutações para gerar novas ligas e repetir o processo até encontrar a liga com o maior custo possível."
   ]
  },
  {
   "cell_type": "code",
   "execution_count": 5,
   "id": "2b6704b4",
   "metadata": {},
   "outputs": [],
   "source": [
    "def algoritmo_genetico(\n",
    "    elementos,\n",
    "    preco,\n",
    "    geracoes=500,\n",
    "    pop_size=300,\n",
    "    elite=0.05,\n",
    "    k_torneio=3,\n",
    "):\n",
    "    pop = populacao_inicial(elementos, pop_size)\n",
    "\n",
    "    melhor = max(pop, key=lambda ind: fitness(ind, preco))\n",
    "\n",
    "    for _ in range(geracoes):\n",
    "        pop_ordenada = sorted(pop, key=lambda ind: fitness(ind, preco), reverse=True)\n",
    "\n",
    "        num_elite = int(elite * pop_size)\n",
    "\n",
    "        nova_pop = pop_ordenada[:num_elite]\n",
    "\n",
    "        while len(nova_pop) < pop_size:\n",
    "            p1 = torneio(pop, k=k_torneio, fitness=lambda ind: fitness(ind, preco))\n",
    "            p2 = torneio(pop, k=k_torneio, fitness=lambda ind: fitness(ind, preco))\n",
    "\n",
    "            c1, c2 = crossover(p1, p2)\n",
    "            c1 = mutacao(c1, elementos)\n",
    "            c2 = mutacao(c2, elementos)\n",
    "            nova_pop.extend([c1, c2])\n",
    "\n",
    "        pop = nova_pop[:pop_size]\n",
    "\n",
    "        cur_best = max(pop, key=lambda ind: fitness(ind, preco))\n",
    "        if fitness(cur_best, preco) > fitness(melhor, preco):\n",
    "            melhor = cur_best\n",
    "\n",
    "    return melhor"
   ]
  },
  {
   "cell_type": "markdown",
   "id": "95c6e76d",
   "metadata": {},
   "source": [
    "Ótimo, realizamos a função principal do nosso algoritmo genético. Agora, vamos definir a função que irá executar o algoritmo genético. Essa função irá receber os parâmetros necessários para o algoritmo e retornar a melhor liga encontrada."
   ]
  },
  {
   "cell_type": "code",
   "execution_count": 6,
   "id": "2db62502",
   "metadata": {},
   "outputs": [
    {
     "name": "stdout",
     "output_type": "stream",
     "text": [
      "Melhor liga encontrada:\n",
      "   90.0 g de Po\n",
      "    5.0 g de Ac\n",
      "    5.0 g de Cf\n",
      "Custo total ≈ US$ 4574417000000.00\n"
     ]
    }
   ],
   "source": [
    "melhores_elementos, melhores_massas = algoritmo_genetico(\n",
    "    ELEMENTOS,\n",
    "    PRECOS,\n",
    "    GERACOES,\n",
    "    TAMANHO_POPULACAO,\n",
    "    TAXA_ELITISMO,\n",
    "    TAMANHO_TORNEIO,\n",
    ")\n",
    "\n",
    "custo_max = fitness((melhores_elementos, melhores_massas), PRECOS)\n",
    "\n",
    "print(\"Melhor liga encontrada:\")\n",
    "for e, m in zip(melhores_elementos, melhores_massas):\n",
    "    print(f\"  {m:5.1f} g de {e}\")\n",
    "print(f\"Custo total ≈ US$ {custo_max:.2f}\")"
   ]
  },
  {
   "cell_type": "markdown",
   "id": "abd9c967",
   "metadata": {},
   "source": [
    "Nesta tarefa, derrotamos a temível fera! E para isso, aplicamos um algoritmo genético para resolver um problema de otimização envolvendo a criação de uma liga de três elementos químicos com o maior custo possível, respeitando restrições de massa mínima e total. \n",
    "\n",
    "Durante o desenvolvimento, utilizamos conceitos fundamentais de algoritmos genéticos, como:\n",
    "- Geração de população inicial aleatória\n",
    "- Avaliação de fitness baseada no custo total da liga\n",
    "- Seleção por torneio, promovendo a sobrevivência dos melhores indivíduos\n",
    "- Crossover para recombinar características dos pais\n",
    "- Mutação para garantir diversidade e evitar estagnação\n",
    "\n",
    "Os pontos críticos do desafio incluíram:\n",
    "- Garantir que cada indivíduo tivesse três elementos distintos e respeitasse as restrições de massa\n",
    "- Ajustar as probabilidades de crossover e mutação para equilibrar exploração e convergência\n",
    "- Implementar elitismo para preservar as melhores soluções ao longo das gerações"
   ]
  }
 ],
 "metadata": {
  "kernelspec": {
   "display_name": "Python 3",
   "language": "python",
   "name": "python3"
  },
  "language_info": {
   "codemirror_mode": {
    "name": "ipython",
    "version": 3
   },
   "file_extension": ".py",
   "mimetype": "text/x-python",
   "name": "python",
   "nbconvert_exporter": "python",
   "pygments_lexer": "ipython3",
   "version": "3.11.6"
  }
 },
 "nbformat": 4,
 "nbformat_minor": 5
}
