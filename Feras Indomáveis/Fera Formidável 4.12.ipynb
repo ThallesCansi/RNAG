{
 "cells": [
  {
   "cell_type": "markdown",
   "id": "42a2d1ca",
   "metadata": {},
   "source": [
    "# 👹 Fera Formidável 4.12"
   ]
  },
  {
   "cell_type": "markdown",
   "id": "cc9eaefd",
   "metadata": {},
   "source": [
    "> Atividade realizada em dupla: Caio Ruas (24010) e Thalles Cansi (24006)"
   ]
  },
  {
   "cell_type": "markdown",
   "id": "8e85093f",
   "metadata": {},
   "source": [
    "Estas Feras Formidáveis não acabam! Vamos continuar nossa jornada derrotando mais esse monstro que aparece no reino de LUMI. Vamos acabar com ele através dos conhecimentos de Algoritmos Genéticos. E, graças aos mágicos, eles nos disseram que o ponto fraco desse monstro são os palíndromos."
   ]
  },
  {
   "cell_type": "markdown",
   "id": "4d495ca5",
   "metadata": {},
   "source": [
    "Para acabar com esta fera, temos que encontrar 10 palíndromos diferentes de 5 letras. Mas, estes palíndromos precisam ter pelo menos uma vogal. Ah, e não é necessário que sejam palavras reais, apenas que sejam palíndromos."
   ]
  },
  {
   "cell_type": "markdown",
   "id": "2d2b60fe",
   "metadata": {},
   "source": [
    "Bom, agora que já sabemos o que precisamos fazer, vamos começar!"
   ]
  },
  {
   "cell_type": "markdown",
   "id": "f1b8fe92",
   "metadata": {},
   "source": [
    "## 🏁 Vamos começar"
   ]
  },
  {
   "cell_type": "markdown",
   "id": "3123fed2",
   "metadata": {},
   "source": [
    "Para iniciar, vamos começar importando as bibliotecas necessárias e já definir a semente do gerador de números aleatórios para garantir que os resultados sejam reproduzíveis."
   ]
  },
  {
   "cell_type": "code",
   "execution_count": 1,
   "id": "315d9d97",
   "metadata": {},
   "outputs": [],
   "source": [
    "import random\n",
    "import numpy as np\n",
    "from string import ascii_lowercase\n",
    "\n",
    "random.seed(7)"
   ]
  },
  {
   "cell_type": "markdown",
   "id": "f85326d6",
   "metadata": {},
   "source": [
    "A biblioteca `string` será utilizada para importar as letras do alfabeto, estas serão utilizadas para gerar os palíndromos."
   ]
  },
  {
   "cell_type": "markdown",
   "id": "365fce93",
   "metadata": {},
   "source": [
    "Vamos também importar as funções que já foram criadas por nós e que nos ajudarão a encontrar os palíndromos. Essas funções estão no arquivo `Scripts/FeraFormidável412.py`. Então, vamos importar as funções que precisamos:"
   ]
  },
  {
   "cell_type": "code",
   "execution_count": 2,
   "id": "a3ce309a",
   "metadata": {},
   "outputs": [],
   "source": [
    "from Scripts.FeraFormidavel412 import populacao_palin\n",
    "from Scripts.FeraFormidavel412 import funcao_objetivo_pop_palin\n",
    "from Scripts.FeraFormidavel412 import selecao_roleta_max\n",
    "from Scripts.FeraFormidavel412 import cruzamento_palin\n",
    "from Scripts.FeraFormidavel412 import mutacao_palin\n",
    "from Scripts.FeraFormidavel412 import funcao_objetivo_palin"
   ]
  },
  {
   "cell_type": "markdown",
   "id": "113258ae",
   "metadata": {},
   "source": [
    "Essas duas funções (`algorimo_genetico_palin` e `funcao_objetivo_palin`) já descreve o algoritmo genético que vamos utilizar para encontrar os palíndromos.\n",
    "\n",
    "- `algorimo_genetico_palin`: é a função que executa o algoritmo genético para encontrar os palíndromos.\n",
    "- `funcao_objetivo_palin`: é a função que avalia a qualidade de cada indivíduo (palíndromo) na população."
   ]
  },
  {
   "cell_type": "markdown",
   "id": "afda86cb",
   "metadata": {},
   "source": [
    "Vamos definir os parâmetros que serão utilizados no algoritmo genético. Esses parâmetros são importantes para controlar o comportamento do algoritmo e garantir que ele encontre os palíndromos de forma eficiente."
   ]
  },
  {
   "cell_type": "code",
   "execution_count": 3,
   "id": "33bb0f62",
   "metadata": {},
   "outputs": [],
   "source": [
    "POPULACAO = 100\n",
    "NUMERO_LETRAS = 5\n",
    "MAX_GERACOES = 50\n",
    "LETRAS = list(ascii_lowercase)"
   ]
  },
  {
   "cell_type": "markdown",
   "id": "0a2661dc",
   "metadata": {},
   "source": [
    "Beleza. Definimos nossos parâmetros. Agora, vamos executar o algoritmo genético para encontrar os palíndromos. Vamos criar a função `algorimo_genetico_palin` que cuida de toda a lógica do algoritmo genético."
   ]
  },
  {
   "cell_type": "code",
   "execution_count": null,
   "id": "e0f6ad62",
   "metadata": {},
   "outputs": [],
   "source": [
    "def algoritmo_genetico_palin(\n",
    "    tamanho_populacao: int,\n",
    "    n: int,\n",
    "    valores_possiveis: list,\n",
    "    max_geracoes: int = 1000,\n",
    "    taxa_mutacao: float = 0.1,\n",
    "    quantia_palavras: int = 10,\n",
    ") -> tuple:\n",
    "    \"\"\"\n",
    "    Executa o algoritmo genético para o problema dos palíndromos. Esta função gera uma população inicial, realiza seleção, cruzamento e mutação para encontrar palavras palíndromas.\n",
    "\n",
    "    Args:\n",
    "        `tamanho_populacao` (`int`): inteiro que representa o tamanho da população.\n",
    "        `n` (`int`): inteiro que representa o número de letras de cada indivíduo.\n",
    "        `valores_possiveis` (`list`): lista contendo os valores possíveis para o gene, que são as letras do alfabeto em minúsculas.\n",
    "        `max_geracoes` (`int`): inteiro que representa o número máximo de gerações.\n",
    "        `taxa_mutacao` (`float`): probabilidade de mutação de cada gene do indivíduo.\n",
    "        `quantia_palavras` (`int`): número de palavras palíndromas a serem encontradas.\n",
    "\n",
    "    Returns:\n",
    "        `tuple`: Uma tupla contendo a população final, o hall of fame (melhores indivíduos) e o número de gerações.\n",
    "\n",
    "    Examples:\n",
    "    ```python\n",
    "        >>> tamanho_populacao = 10\n",
    "        >>> n = 5\n",
    "        >>> max_geracoes = 100\n",
    "        >>> taxa_mutacao = 0.1\n",
    "        >>> quantia_palavras = 5\n",
    "        >>> populacao, hall_of_fame, geracoes = algoritmo_genetico_palin(tamanho_populacao, n, max_geracoes, taxa_mutacao, quantia_palavras)\n",
    "        >>> populacao\n",
    "        [['a', 'b', 'c', 'b', 'a'], ['d', 'e', 'f', 'e', 'd'], ...]\n",
    "        >>> hall_of_fame\n",
    "        [['a', 'b', 'c', 'b', 'a'], ['d', 'e', 'f', 'e', 'd'], ...]\n",
    "        >>> geracoes\n",
    "        10\n",
    "    ```\n",
    "    \"\"\"\n",
    "    populacao = populacao_palin(tamanho_populacao, n, valores_possiveis)\n",
    "    hall_of_fame = []\n",
    "    geracoes = 0\n",
    "\n",
    "    while len(hall_of_fame) < quantia_palavras and geracoes < max_geracoes:\n",
    "        print(f\"Geração {geracoes + 1}: {len(hall_of_fame)} palavras já encontradas\")\n",
    "        geracoes += 1\n",
    "        fitness = funcao_objetivo_pop_palin(populacao)\n",
    "        nova_populacao = []\n",
    "\n",
    "        for _ in range(tamanho_populacao // 2):\n",
    "            pai1 = selecao_roleta_max(populacao, fitness)\n",
    "            pai2 = selecao_roleta_max(populacao, fitness)\n",
    "\n",
    "            filho1 = cruzamento_palin(pai1, pai2)\n",
    "            filho2 = cruzamento_palin(pai2, pai1)\n",
    "\n",
    "            filho1 = mutacao_palin(filho1, valores_possiveis, taxa_mutacao)\n",
    "            filho2 = mutacao_palin(filho2, valores_possiveis, taxa_mutacao)\n",
    "\n",
    "            nova_populacao.append(filho1)\n",
    "            nova_populacao.append(filho2)\n",
    "\n",
    "        populacao = nova_populacao\n",
    "\n",
    "        for individuo in populacao:\n",
    "            if funcao_objetivo_palin(individuo) >= n // 2:\n",
    "                if individuo not in hall_of_fame:\n",
    "                    hall_of_fame.append(individuo)\n",
    "                    if len(hall_of_fame) > 10:\n",
    "                        hall_of_fame.sort(key=funcao_objetivo_palin, reverse=True)\n",
    "                        hall_of_fame = hall_of_fame[:10]\n",
    "\n",
    "    hall_of_fame.sort(key=funcao_objetivo_palin, reverse=True)\n",
    "\n",
    "    return populacao, hall_of_fame, geracoes"
   ]
  },
  {
   "cell_type": "markdown",
   "id": "f1022a39",
   "metadata": {},
   "source": [
    "Essa função é o nosso carro chefe. Vamos detalhar um pouco mais sobre ela:\n",
    "\n",
    "1. **População Inicial**: A função começa gerando uma população inicial de palíndromos aleatórios com a função `populacao_palin`.\n",
    "2. **Loop Principal**: O loop principal do algoritmo continua até que tenhamos encontrado o número desejado de palíndromos ou até que o número máximo de gerações seja atingido.\n",
    "3. **Avaliação de Fitness**: A função `funcao_objetivo_pop_palin` avalia a qualidade de cada palíndromo na população.\n",
    "4. **Seleção**: Utilizamos a seleção por roleta para escolher os pais para o cruzamento.\n",
    "5. **Cruzamento**: Os pais selecionados são cruzados para gerar novos indivíduos (filhos).\n",
    "6. **Mutação**: Cada filho passa por uma mutação aleatória com uma certa probabilidade.\n",
    "7. **Atualização da População**: A nova população é formada pelos filhos gerados.\n",
    "8. **Hall of Fame**: Mantemos um registro dos melhores palíndromos encontrados até o momento, garantindo que não ultrapassemos o limite de 10.\n",
    "9. **Retorno**: A função retorna a população final, o hall of fame (os melhores palíndromos encontrados) e o número de gerações realizadas.\n",
    "\n",
    "O ponto principal dessa função é garantir que o algoritmo genético encontre palíndromos de forma eficiente, utilizando seleção, cruzamento e mutação para explorar o espaço de soluções."
   ]
  },
  {
   "cell_type": "code",
   "execution_count": 5,
   "id": "1bb23057",
   "metadata": {},
   "outputs": [
    {
     "name": "stdout",
     "output_type": "stream",
     "text": [
      "Geração 1: 0 palavras já encontradas\n"
     ]
    }
   ],
   "source": [
    "populacao, hall_of_fame, geracoes = algoritmo_genetico_palin(\n",
    "    POPULACAO,\n",
    "    NUMERO_LETRAS,\n",
    "    LETRAS,\n",
    "    MAX_GERACOES,\n",
    ")"
   ]
  },
  {
   "cell_type": "markdown",
   "id": "5a7c9fbb",
   "metadata": {},
   "source": [
    "É muito importante entender exatamente como funciona a função `algorimo_genetico_palin`, pois ela é a responsável por encontrar os palíndromos.\n",
    "\n",
    "Essa função recebe os seguintes parâmetros:\n",
    "\n",
    "- `POPULACAO`: o tamanho da população de indivíduos (palíndromos) que serão gerados.\n",
    "- `NUMERO_LETRAS`: o número de letras que cada palíndromo deve ter (neste caso, 5).\n",
    "- `MAX_GERACOES`: o número máximo de gerações que o algoritmo irá executar.\n",
    "\n",
    "E retorna 3 objetos importantes:\n",
    "\n",
    "- `populacao`: a população final de palíndromos encontrados.\n",
    "- `hall_of_fame`: uma lista com os melhores palíndromos encontrados.\n",
    "- `geracoes`: o número de gerações que o algoritmo executou."
   ]
  },
  {
   "cell_type": "markdown",
   "id": "4fa668d1",
   "metadata": {},
   "source": [
    "Vamos exibir a população final de palíndromos encontrados e a lista dos melhores palíndromos."
   ]
  },
  {
   "cell_type": "code",
   "execution_count": 6,
   "id": "2fd76af0",
   "metadata": {},
   "outputs": [
    {
     "name": "stdout",
     "output_type": "stream",
     "text": [
      "População final: 100 indivíduos\n"
     ]
    }
   ],
   "source": [
    "print(f\"População final: {len(populacao)} indivíduos\")"
   ]
  },
  {
   "cell_type": "code",
   "execution_count": 7,
   "id": "fc202b35",
   "metadata": {},
   "outputs": [
    {
     "name": "stdout",
     "output_type": "stream",
     "text": [
      "Hall of Fame: 10 indivíduos\n"
     ]
    }
   ],
   "source": [
    "\n",
    "print(f\"Hall of Fame: {len(hall_of_fame)} indivíduos\")"
   ]
  },
  {
   "cell_type": "markdown",
   "id": "33313e02",
   "metadata": {},
   "source": [
    "E agora, para exibir os palíndromos encontrados, vamos utilizar a função `funcao_objetivo_palin` que avalia a qualidade de cada palíndromo. Essa função retorna uma lista com os palíndromos encontrados e suas respectivas qualidades."
   ]
  },
  {
   "cell_type": "code",
   "execution_count": 8,
   "id": "77acf83f",
   "metadata": {},
   "outputs": [
    {
     "name": "stdout",
     "output_type": "stream",
     "text": [
      "Indivíduo 1: gmomg - Fitness: 2\n",
      "Indivíduo 2: xmomx - Fitness: 2\n",
      "Indivíduo 3: mupum - Fitness: 2\n",
      "Indivíduo 4: mipim - Fitness: 2\n",
      "Indivíduo 5: qmomq - Fitness: 2\n",
      "Indivíduo 6: xqoqx - Fitness: 2\n",
      "Indivíduo 7: zukuz - Fitness: 2\n",
      "Indivíduo 8: qopoq - Fitness: 2\n",
      "Indivíduo 9: yukuy - Fitness: 2\n",
      "Indivíduo 10: bmomb - Fitness: 2\n",
      "Número de gerações: 1\n"
     ]
    }
   ],
   "source": [
    "for i, individuo in enumerate(hall_of_fame):\n",
    "    print(\n",
    "        f\"Indivíduo {i + 1}: {''.join(individuo)} - Fitness: {funcao_objetivo_palin(individuo)}\"\n",
    "    )\n",
    "\n",
    "print(f\"Número de gerações: {geracoes}\")"
   ]
  },
  {
   "cell_type": "markdown",
   "id": "f1d3492d",
   "metadata": {},
   "source": [
    "Perfeito! Achamos os palíndromos e conseguimos ver todos eles. Isso mostra que o algoritmo genético funcionou corretamente e encontrou os palíndromos de 5 letras com pelo menos uma vogal.\n",
    "\n",
    "Esse exercício poderia se tornar mais interessante se pudéssemos encontrar palavras reais que sejam palíndromos. Mas, como o objetivo era apenas encontrar palíndromos de 5 letras com pelo menos uma vogal, conseguimos cumprir a tarefa."
   ]
  }
 ],
 "metadata": {
  "kernelspec": {
   "display_name": "Python 3",
   "language": "python",
   "name": "python3"
  },
  "language_info": {
   "codemirror_mode": {
    "name": "ipython",
    "version": 3
   },
   "file_extension": ".py",
   "mimetype": "text/x-python",
   "name": "python",
   "nbconvert_exporter": "python",
   "pygments_lexer": "ipython3",
   "version": "3.11.6"
  }
 },
 "nbformat": 4,
 "nbformat_minor": 5
}
