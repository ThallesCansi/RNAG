{
 "cells": [
  {
   "cell_type": "markdown",
   "metadata": {},
   "source": [
    "# 🧌 Monstrinho 3.2"
   ]
  },
  {
   "cell_type": "markdown",
   "metadata": {},
   "source": [
    "Neste dia, o Reino de Lumi se encontrou com um mostrinho novo, jamais visto por aquela região. Neste desafio, para derrotá-lo, deveríamos implementar classes em Python capaz de representar elementos químicos e moléculas, onde teríamos que calcular o peso atômico e gerar a fórmula química."
   ]
  },
  {
   "cell_type": "markdown",
   "metadata": {},
   "source": [
    "Para começarmos, vamos definir a classe `Elemento` que representa um elemento químico. Cada elemento químico é representado por um símbolo, um nome e um peso atômico."
   ]
  },
  {
   "cell_type": "code",
   "execution_count": 1,
   "metadata": {},
   "outputs": [],
   "source": [
    "class Elemento:\n",
    "    \"\"\"\n",
    "    Classe que representa um elemento químico.\n",
    "\n",
    "    Atributos:\n",
    "    - `simbolo` (`str`): Símbolo do elemento químico.\n",
    "    - `numero_atomico` (`int`): Número atômico do elemento químico.\n",
    "    - `peso_atomico` (`float`): Peso atômico do elemento químico.\n",
    "    \"\"\"\n",
    "\n",
    "    def __init__(self, simbolo, numero_atomico, peso_atomico):\n",
    "        self.simbolo = simbolo\n",
    "        self.numero_atomico = numero_atomico\n",
    "        self.peso_atomico = peso_atomico\n",
    "\n",
    "    def __repr__(self):\n",
    "        return f\"O elemento {self.simbolo} tem número atômico {self.numero_atomico} e peso atômico {self.peso_atomico}.\""
   ]
  },
  {
   "cell_type": "markdown",
   "metadata": {},
   "source": [
    "É bastante interessante notar os métodos do tipo _dunder_ (métodos especiais) como `__init__` e `__repr__`. O método `__init__` é sempre invocado quando uma instância da classe é criada, enquanto o método `__repr__` serve para representar um objeto como uma string."
   ]
  },
  {
   "cell_type": "markdown",
   "metadata": {},
   "source": [
    "Vamos continuar, definindo a classe `Molecula` que representa uma molécula. Cada molécula é representada por um dicionário onde a chave é uma instância da classe `Elemento` e o valor é a quantidade de átomos daquele elemento na molécula. Essa classe irá conter métodos para calcular o peso atômico da molécula e gerar a fórmula química."
   ]
  },
  {
   "cell_type": "code",
   "execution_count": 2,
   "metadata": {},
   "outputs": [],
   "source": [
    "class Molecula:\n",
    "    \"\"\"\n",
    "    Classe que representa uma molécula composta por elementos químicos.\n",
    "\n",
    "    Atributos:\n",
    "    - `molecula` (`dict`): Dicionário onde as chaves são instâncias de Elemento e os valores são inteiros que representam a quantidade de cada elemento na molécula.\n",
    "\n",
    "    Métodos:\n",
    "    - `peso_molecular()`: Calcula e retorna o peso molecular da molécula.\n",
    "    - `formula_quimica()`: Gera e retorna a fórmula química da molécula.\n",
    "    \"\"\"\n",
    "\n",
    "    def __init__(self, molecula):\n",
    "        self.molecula = molecula\n",
    "\n",
    "    def peso_molecular(self) -> float:\n",
    "        \"\"\"\n",
    "        Calcula o peso molecular da molécula.\n",
    "\n",
    "        Retorno:\n",
    "        - `float`: Peso molecular da molécula.\n",
    "        \"\"\"\n",
    "        total = 0\n",
    "        for elemento, quantidade in self.molecula.items():\n",
    "            total += elemento.peso_atomico * quantidade\n",
    "        return total\n",
    "\n",
    "    def formula_quimica(self) -> str:\n",
    "        \"\"\"\n",
    "        Gera a fórmula química da molécula.\n",
    "\n",
    "        Retorno:\n",
    "        - `str`: Fórmula química da molécula.\n",
    "        \"\"\"\n",
    "        formula = \"\"\n",
    "        for elemento, quantidade in self.molecula.items():\n",
    "            if quantidade == 1:\n",
    "                formula += f\"{elemento.simbolo}\"\n",
    "            else:\n",
    "                formula += f\"{elemento.simbolo}{quantidade}\"\n",
    "        return formula"
   ]
  },
  {
   "cell_type": "markdown",
   "metadata": {},
   "source": [
    "Agora que criamos as classes `Elemento` e `Molecula`, podemos criar uma instância de cada uma e testar o cálculo do peso atômico e a geração da fórmula química. Vamos começar criando alguns elementos químicos."
   ]
  },
  {
   "cell_type": "code",
   "execution_count": 3,
   "metadata": {},
   "outputs": [],
   "source": [
    "carbono = Elemento(\"C\", 6, 12)\n",
    "hidrogenio = Elemento(\"H\", 1, 1)\n",
    "oxigenio = Elemento(\"O\", 8, 16)\n",
    "nitrogenio = Elemento(\"N\", 7, 14)\n",
    "fosforo = Elemento(\"P\", 15, 31)\n",
    "enxofre = Elemento(\"S\", 16, 32)"
   ]
  },
  {
   "cell_type": "markdown",
   "metadata": {},
   "source": [
    "Agora que temos os seis elementos químicos mais frequentes na composição dos seres vivos, podemos criar algumas moléculas e testar o cálculo do peso atômico e a geração da fórmula química."
   ]
  },
  {
   "cell_type": "code",
   "execution_count": 4,
   "metadata": {},
   "outputs": [],
   "source": [
    "agua = Molecula(\n",
    "    {\n",
    "        hidrogenio: 2,\n",
    "        oxigenio: 1,\n",
    "    }\n",
    ")\n",
    "\n",
    "gas_carbonico = Molecula(\n",
    "    {\n",
    "        carbono: 1,\n",
    "        oxigenio: 2,\n",
    "    }\n",
    ")\n",
    "\n",
    "amonia = Molecula(\n",
    "    {\n",
    "        nitrogenio: 1,\n",
    "        hidrogenio: 3,\n",
    "    }\n",
    ")\n",
    "\n",
    "dioxido_de_enxofre = Molecula(\n",
    "    {\n",
    "        enxofre: 1,\n",
    "        oxigenio: 2,\n",
    "    }\n",
    ")\n",
    "\n",
    "atp = Molecula(\n",
    "    {\n",
    "        carbono: 10,\n",
    "        hidrogenio: 16,\n",
    "        nitrogenio: 5,\n",
    "        oxigenio: 13,\n",
    "        fosforo: 3,\n",
    "    }\n",
    ")"
   ]
  },
  {
   "cell_type": "markdown",
   "metadata": {},
   "source": [
    "Agora que temos todas as instâncias criadas, podemos testar o cálculo do peso atômico e a geração da fórmula química."
   ]
  },
  {
   "cell_type": "code",
   "execution_count": 5,
   "metadata": {},
   "outputs": [
    {
     "name": "stdout",
     "output_type": "stream",
     "text": [
      "A fórmula química da água é H2O e seu peso molecular é 18 u.\n",
      "A fórmula química do gás carbônico é CO2 e seu peso molecular é 44 u.\n",
      "A fórmula química da amônia é NH3 e seu peso molecular é 17 u.\n",
      "A fórmula química do dióxido de enxofre é SO2 e seu peso molecular é 64 u.\n",
      "A fórmula química do ATP é C10H16N5O13P3 e seu peso molecular é 507 u.\n"
     ]
    }
   ],
   "source": [
    "# Água\n",
    "print(\n",
    "    f\"A fórmula química da água é {agua.formula_quimica()} e seu peso molecular é {agua.peso_molecular()} u.\"\n",
    ")\n",
    "\n",
    "# Gás carbônico\n",
    "print(\n",
    "    f\"A fórmula química do gás carbônico é {gas_carbonico.formula_quimica()} e seu peso molecular é {gas_carbonico.peso_molecular()} u.\"\n",
    ")\n",
    "\n",
    "# Amônia\n",
    "print(\n",
    "    f\"A fórmula química da amônia é {amonia.formula_quimica()} e seu peso molecular é {amonia.peso_molecular()} u.\"\n",
    ")\n",
    "\n",
    "# Dióxido de enxofre\n",
    "print(\n",
    "    f\"A fórmula química do dióxido de enxofre é {dioxido_de_enxofre.formula_quimica()} e seu peso molecular é {dioxido_de_enxofre.peso_molecular()} u.\"\n",
    ")\n",
    "\n",
    "# ATP\n",
    "print(\n",
    "    f\"A fórmula química do ATP é {atp.formula_quimica()} e seu peso molecular é {atp.peso_molecular()} u.\"\n",
    ")"
   ]
  },
  {
   "cell_type": "markdown",
   "metadata": {},
   "source": [
    "Excelente! Conseguimos derrotar o monstrinho e salvar o Reino de Lumi!"
   ]
  }
 ],
 "metadata": {
  "kernelspec": {
   "display_name": "Python 3",
   "language": "python",
   "name": "python3"
  },
  "language_info": {
   "codemirror_mode": {
    "name": "ipython",
    "version": 3
   },
   "file_extension": ".py",
   "mimetype": "text/x-python",
   "name": "python",
   "nbconvert_exporter": "python",
   "pygments_lexer": "ipython3",
   "version": "3.11.6"
  }
 },
 "nbformat": 4,
 "nbformat_minor": 2
}
