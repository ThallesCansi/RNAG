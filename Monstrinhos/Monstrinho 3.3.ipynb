{
 "cells": [
  {
   "cell_type": "markdown",
   "metadata": {},
   "source": [
    "# 🧌 Monstrinho 3.3"
   ]
  },
  {
   "cell_type": "markdown",
   "metadata": {},
   "source": [
    "Um novo dia se inicia e um novo monstrinho aparece para destruir o Reino de Lumi. Dessa vez, para acabarmos com ele, precisaremos usar as classes de herança para entendermos melhor a astronômia! Muitos corpos celestes compartilham entre si características em comum, como nome, massa, raio e temperatura. Entretanto, cada corpo celeste possui características únicas que os diferenciam dos demais. Sendo assim, usaremos as heranças de classes para defirnismo características em comum em uma classe mãe e especializar as propriedades nas classes filhas. "
   ]
  },
  {
   "cell_type": "markdown",
   "metadata": {},
   "source": [
    "Para iniciarmos nossa batalha, vamos começar criando a classe `CorpoCeleste` que terá como atributos o nome, a massa, o raio e a temperatura do corpo celeste. Em seguida, criaremos as classes `Estrela`, `Planeta` e `Lua` que herdarão as propriedades da classe `CorpoCeleste` e terão atributos específicos para cada uma delas."
   ]
  },
  {
   "cell_type": "code",
   "execution_count": 1,
   "metadata": {},
   "outputs": [],
   "source": [
    "class CorpoCeleste:\n",
    "    \"\"\"\n",
    "    Classe que representa um corpo celeste.\n",
    "\n",
    "    Atributos:\n",
    "    - `nome` (`str`): nome do corpo celeste\n",
    "    - `massa` (`float`): massa do corpo celeste em kg\n",
    "    - `raio` (`float`): raio do corpo celeste em metros\n",
    "    - `temperatura` (`float`): temperatura do corpo celeste em Kelvin\n",
    "    \"\"\"\n",
    "\n",
    "    def __init__(self, nome: str, massa: float, raio: float, temperatura: float):\n",
    "        self.nome = nome\n",
    "        self.massa = massa\n",
    "        self.raio = raio\n",
    "        self.temperatura = temperatura\n",
    "\n",
    "    def densidade(self) -> float:\n",
    "        \"\"\"\n",
    "        Calcula a densidade do corpo celeste em kg/m³.\n",
    "\n",
    "        Retorna:\n",
    "        - `densidade` (`float`): densidade do corpo celeste em kg/m³\n",
    "        \"\"\"\n",
    "        return self.massa / (4 / 3 * 3.14 * self.raio**3)\n",
    "\n",
    "    def gravidade(self) -> float:\n",
    "        \"\"\"\n",
    "        Calcula a aceleração da gravidade no corpo celeste em m/s².\n",
    "\n",
    "        Retorna:\n",
    "        - `gravidade` (`float`): aceleração da gravidade no corpo celeste em m/s²\n",
    "        \"\"\"\n",
    "\n",
    "        return 6.67e-11 * self.massa / self.raio**2\n",
    "\n",
    "    def __repr__(self):\n",
    "        return (\n",
    "            f\"Corpo Celeste: {self.nome}\\n\"\n",
    "            f\"  Massa         : {self.massa:.2e} kg\\n\"\n",
    "            f\"  Raio          : {self.raio:.2e} m\\n\"\n",
    "            f\"  Temperatura   : {self.temperatura} K\\n\"\n",
    "            f\"  Densidade     : {self.densidade():.2f} kg/m³\\n\"\n",
    "            f\"  Gravidade     : {self.gravidade():.2f} m/s²\"\n",
    "        )"
   ]
  },
  {
   "cell_type": "markdown",
   "metadata": {},
   "source": [
    "> A densidade de um corpo celeste é dada pela fórmula: $densidade = \\frac{massa}{volume}$ [1].\n",
    "\n",
    "> O volume de um corpo esférico é dado pela fórmula: $volume = \\frac{4}{3} * \\pi * raio^3$ [2]."
   ]
  },
  {
   "cell_type": "markdown",
   "metadata": {},
   "source": [
    "Agora que temos a classe mãe `CorpoCeleste` com os métodos `densidade` e `gravidade`, podemos prosseguir com a criação das classes filhas. A classe `Estrela` terá como atributo a `temperatura` e a `luminosidade`, a classe `Planeta` terá como atributo `estrela_orbita` e `distancia_estrela`, enquanto classe `SatéliteNatural` terá como atributo ."
   ]
  },
  {
   "cell_type": "code",
   "execution_count": 2,
   "metadata": {},
   "outputs": [],
   "source": [
    "class Estrela(CorpoCeleste):\n",
    "    \"\"\"\n",
    "    Classe que representa uma estrela.\n",
    "\n",
    "    Atributos:\n",
    "    - `nome` (`str`): nome da estrela\n",
    "    - `massa` (`float`): massa da estrela em kg\n",
    "    - `raio` (`float`): raio da estrela em metros\n",
    "    - `temperatura` (`float`): temperatura da estrela em Kelvin\n",
    "    - `luminosidade` (`float`): luminosidade da estrela em Watts\n",
    "    \"\"\"\n",
    "\n",
    "    def __init__(\n",
    "        self,\n",
    "        nome: str,\n",
    "        massa: float,\n",
    "        raio: float,\n",
    "        temperatura: float,\n",
    "        luminosidade: float,\n",
    "    ):\n",
    "        super().__init__(nome, massa, raio, temperatura)\n",
    "        self.luminosidade = luminosidade\n",
    "\n",
    "    def vida_estimada(self) -> float:\n",
    "        \"\"\"\n",
    "        Calcula a vida estimada da estrela em bilhões de anos.\n",
    "\n",
    "        Retorna:\n",
    "        - `vida` (`float`): vida estimada da estrela em bilhões de anos\n",
    "        \"\"\"\n",
    "        return 10 * (self.massa / 1.989e30) / (self.luminosidade / 3.846e26)\n",
    "\n",
    "    def __repr__(self):\n",
    "        return (\n",
    "            f\"Estrela: {self.nome}\\n\"\n",
    "            f\"  Massa         : {self.massa:.2e} kg\\n\"\n",
    "            f\"  Raio          : {self.raio:.2e} m\\n\"\n",
    "            f\"  Temperatura   : {self.temperatura} K\\n\"\n",
    "            f\"  Densidade     : {self.densidade():.2f} kg/m³\\n\"\n",
    "            f\"  Gravidade     : {self.gravidade():.2f} m/s²\\n\"\n",
    "            f\"  Luminosidade  : {self.luminosidade:.2e} W\\n\"\n",
    "            f\"  Vida Estimada : {self.vida_estimada():.2f} bilhões de anos\"\n",
    "        )"
   ]
  },
  {
   "cell_type": "markdown",
   "metadata": {},
   "source": [
    "> A vida estimada de uma estrela é dada pela fórmula: $vida = (\\frac{massa}{luminosidade}) ^{-2.5} * 10$ [3]."
   ]
  },
  {
   "cell_type": "markdown",
   "metadata": {},
   "source": [
    " Na classe `Estrela` criamos o método `vida_estimada` que retorna a quantidade de anos que a estrela ainda tem de vida. Agora, vamos criar a classe `Planeta` que terá como atributo a `estrela_orbita` e a `distancia_estrela`. A classe `Planeta` terá o método `distancia_planeta` que retorna a distância do planeta até a estrela."
   ]
  },
  {
   "cell_type": "code",
   "execution_count": 3,
   "metadata": {},
   "outputs": [],
   "source": [
    "class Planeta(CorpoCeleste):\n",
    "    \"\"\"\n",
    "    Classe que representa um planeta.\n",
    "\n",
    "    Atributos:\n",
    "    - `nome` (`str`): nome do planeta\n",
    "    - `massa` (`float`): massa do planeta em kg\n",
    "    - `raio` (`float`): raio do planeta em metros\n",
    "    - `temperatura` (`float`): temperatura do planeta em Kelvin\n",
    "    - `estrela_orbita` (`Estrela`): objeto da classe `Estrela` que representa a estrela que o planeta orbita\n",
    "    - `distancia_estrela` (`float`): distância do planeta à estrela em metros\n",
    "    \"\"\"\n",
    "\n",
    "    def __init__(\n",
    "        self,\n",
    "        nome: str,\n",
    "        massa: float,\n",
    "        raio: float,\n",
    "        temperatura: float,\n",
    "        estrela_orbita: Estrela,\n",
    "        distancia_estrela: float,\n",
    "    ):\n",
    "        super().__init__(nome, massa, raio, temperatura)\n",
    "        self.estrela_orbita = estrela_orbita\n",
    "        self.distancia_estrela = distancia_estrela\n",
    "\n",
    "    def velocidade_orbital(self) -> float:\n",
    "        \"\"\"\n",
    "        Calcula a velocidade orbital do planeta em m/s.\n",
    "\n",
    "        Retorna:\n",
    "        - `velocidade` (`float`): velocidade orbital do planeta em m/s\n",
    "        \"\"\"\n",
    "        return (6.67e-11 * self.estrela_orbita.massa / self.distancia_estrela) ** 0.5\n",
    "\n",
    "    def __repr__(self):\n",
    "        return (\n",
    "            f\"Planeta: {self.nome}\\n\"\n",
    "            f\"  Massa             : {self.massa:.2e} kg\\n\"\n",
    "            f\"  Raio              : {self.raio:.2e} m\\n\"\n",
    "            f\"  Temperatura       : {self.temperatura} K\\n\"\n",
    "            f\"  Densidade         : {self.densidade():.2f} kg/m³\\n\"\n",
    "            f\"  Gravidade         : {self.gravidade():.2f} m/s²\\n\"\n",
    "            f\"  Velocidade Orbital: {self.velocidade_orbital():.2f} m/s\\n\"\n",
    "            f\"  Estrela Orbita    : {self.estrela_orbita.nome}\"\n",
    "        )"
   ]
  },
  {
   "cell_type": "markdown",
   "metadata": {},
   "source": [
    "> A velocidade orbital de um planeta é dada pela fórmula: $v = \\sqrt{\\frac{G * M}{r}}$, onde $G = 6.67 * 10^{-11}$ é a constante gravitacional, $M$ é a massa da estrela e $r$ é a distância do planeta até a estrela [4]."
   ]
  },
  {
   "cell_type": "markdown",
   "metadata": {},
   "source": [
    "Por fim, agora que temos a classe `Planeta` criada, vamos criar a classe `SatéliteNatural` que terá como atributo a `planeta_orbita` e a `distancia_planeta`. A classe `SatéliteNatural` terá o método `distancia_satelite` que retorna a distância do satélite até o planeta."
   ]
  },
  {
   "cell_type": "code",
   "execution_count": null,
   "metadata": {},
   "outputs": [],
   "source": [
    "class SateliteNatural(CorpoCeleste):\n",
    "    \"\"\"\n",
    "    Classe que representa um satélite natural.\n",
    "\n",
    "    Atributos:\n",
    "    - `nome` (`str`): nome da lua\n",
    "    - `massa` (`float`): massa da lua em kg\n",
    "    - `raio` (`float`): raio da lua em metros\n",
    "    - `temperatura` (`float`): temperatura média da lua em Kelvin\n",
    "    - `planeta_orbita` (`Planeta`): objeto do planeta que a lua orbita\n",
    "    - `distancia_planeta` (`float`): distância média da lua ao planeta em metros\n",
    "    \"\"\"\n",
    "\n",
    "    def __init__(\n",
    "        self,\n",
    "        nome: str,\n",
    "        massa: float,\n",
    "        raio: float,\n",
    "        temperatura: float,\n",
    "        planeta_orbita: Planeta,\n",
    "        distancia_planeta: float,\n",
    "    ):\n",
    "        super().__init__(nome, massa, raio, temperatura)\n",
    "        self.planeta_orbita = planeta_orbita\n",
    "        self.distancia_planeta = distancia_planeta\n",
    "\n",
    "    def periodo_orbital(self):\n",
    "        \"\"\"\n",
    "        Calcula o período orbital da lua em dias terrestres.\n",
    "\n",
    "        Retorna:\n",
    "        - `periodo` (`float`): período orbital da lua em dias terrestres\n",
    "        \"\"\"\n",
    "        T = 2 * 3.14 * (((self.distancia_planeta ** 3) / (6.67430e-11 * self.planeta_orbita.massa)) ** 0.5)\n",
    "        return T / (60 * 60 * 24)\n",
    "\n",
    "    def __repr__(self):\n",
    "        return (\n",
    "            f\"Satélite Natural: {self.nome}\\n\"\n",
    "            f\"  Massa            : {self.massa:.2e} kg\\n\"\n",
    "            f\"  Raio             : {self.raio:.2e} m\\n\"\n",
    "            f\"  Temperatura      : {self.temperatura} K\\n\"\n",
    "            f\"  Densidade        : {self.densidade():.2f} kg/m³\\n\"\n",
    "            f\"  Gravidade        : {self.gravidade():.2f} m/s²\\n\"\n",
    "            f\"  Período Orbital  : {self.periodo_orbital():.2f} dias\\n\"\n",
    "            f\"  Planeta Orbita   : {self.planeta_orbita.nome}\"\n",
    "        )"
   ]
  },
  {
   "cell_type": "markdown",
   "metadata": {},
   "source": [
    "> O período orbital de um satélite é dado pela fórmula: $T = 2 * \\pi * \\sqrt{\\frac{r^3}{G * M}}$, onde $G = 6.67 * 10^{-11}$ é a constante gravitacional, $M$ é a massa do planeta e $r$ é a distância do satélite até o planeta [5]"
   ]
  },
  {
   "cell_type": "markdown",
   "metadata": {},
   "source": [
    "Finalmente! Temos todas as nossas classes e métodos criados. Vamos criar os objetos e derrotar o monstro que assola o Reino de Lumi!"
   ]
  },
  {
   "cell_type": "code",
   "execution_count": 5,
   "metadata": {},
   "outputs": [
    {
     "name": "stdout",
     "output_type": "stream",
     "text": [
      "Estrela: Sol\n",
      "  Massa         : 1.99e+30 kg\n",
      "  Raio          : 6.96e+08 m\n",
      "  Temperatura   : 5778 K\n",
      "  Densidade     : 1407.27 kg/m³\n",
      "  Gravidade     : 273.63 m/s²\n",
      "  Luminosidade  : 3.85e+26 W\n",
      "  Vida Estimada : 10.00 bilhões de anos\n"
     ]
    }
   ],
   "source": [
    "sol = Estrela(\n",
    "    nome=\"Sol\",\n",
    "    massa=1.989e30,\n",
    "    raio=6.963e8,\n",
    "    temperatura=5778,\n",
    "    luminosidade=3.846e26,\n",
    ")\n",
    "print(sol)"
   ]
  },
  {
   "cell_type": "code",
   "execution_count": 6,
   "metadata": {},
   "outputs": [
    {
     "name": "stdout",
     "output_type": "stream",
     "text": [
      "Planeta: Terra\n",
      "  Massa             : 5.97e+24 kg\n",
      "  Raio              : 6.37e+06 m\n",
      "  Temperatura       : 288 K\n",
      "  Densidade         : 5516.06 kg/m³\n",
      "  Gravidade         : 9.81 m/s²\n",
      "  Velocidade Orbital: 29779.30 m/s\n",
      "  Estrela Orbita    : Sol\n"
     ]
    }
   ],
   "source": [
    "terra = Planeta(\n",
    "    nome=\"Terra\",\n",
    "    massa=5.972e24,\n",
    "    raio=6.371e6,\n",
    "    temperatura=288,\n",
    "    estrela_orbita=sol,\n",
    "    distancia_estrela=1.496e11,\n",
    ")\n",
    "print(terra)"
   ]
  },
  {
   "cell_type": "code",
   "execution_count": 7,
   "metadata": {},
   "outputs": [
    {
     "name": "stdout",
     "output_type": "stream",
     "text": [
      "Satélite Natural: Lua\n",
      "  Massa            : 7.35e+22 kg\n",
      "  Raio             : 1.74e+06 m\n",
      "  Temperatura      : 220 K\n",
      "  Densidade        : 3348.89 kg/m³\n",
      "  Gravidade        : 1.62 m/s²\n",
      "  Período Orbital  : 27.44 dias\n",
      "  Planeta Orbita   : Terra\n"
     ]
    }
   ],
   "source": [
    "lua = SateliteNatural(\n",
    "    nome=\"Lua\",\n",
    "    massa=7.348e22,\n",
    "    raio=1.737e6,\n",
    "    temperatura=220,\n",
    "    planeta_orbita=terra,\n",
    "    distancia_planeta=3.844e8,\n",
    ")\n",
    "print(lua)"
   ]
  },
  {
   "cell_type": "markdown",
   "metadata": {},
   "source": [
    "> Os dados padrões de entrada dos corpos celestes foram obtidos através de pesquisas na internet [6] [7] [8]."
   ]
  },
  {
   "cell_type": "markdown",
   "metadata": {},
   "source": [
    "Maravilha! Deu tudo certo, agora conhecemos melhor sobre os corpos celestes e conseguimos derrotar o monstrinho que assolava o Reino de Lumi. Além disso, aprendemos bastante sobre herança de classes. Através da herança de classes conseguimos definir características em comum entre os corpos celestes e especializar as propriedades em cada classe filha."
   ]
  },
  {
   "cell_type": "markdown",
   "metadata": {},
   "source": [
    "# 📖 Referências"
   ]
  },
  {
   "cell_type": "markdown",
   "metadata": {},
   "source": [
    "[1] WIKIPÉDIA. **Densidade**. Disponível em: <https://pt.wikipedia.org/wiki/Densidade>. Acesso em: 15 de Março de 2025.\n",
    "\n",
    "[2] WIKIPÉDIA. **Volume**. Disponível em: <https://pt.wikipedia.org/wiki/Volume>. Acesso em: 15 de Março de 2025.\n",
    "\n",
    "[3] INSTITUTO DE FÍSICA DA UFRGS. **Tempo de vida das estrelas**. Disponível em: <http://astro.if.ufrgs.br/estrelas/tempove/node1.htm>. Acesso em: 15 de Março de 2025.\n",
    "\n",
    "[4] WIKIPÉDIA. **Velocidade orbital**. Disponível em: <https://pt.wikipedia.org/wiki/Velocidade_orbital>. Acesso em: 15 de Março de 2025.\n",
    "\n",
    "[5] WIKIPÉDIA. **Período orbital**. Disponível em: <https://pt.wikipedia.org/wiki/Per%C3%ADodo_orbital>. Acesso em: 15 de Março de 2025.\n",
    "\n",
    "[6] WIKIPÉDIA. **Sol**. Disponível em: <https://pt.wikipedia.org/wiki/Sol>. Acesso em: 15 de Março de 2025.\n",
    "\n",
    "[7] WIKIPÉDIA. **Terra**. Disponível em: <https://pt.wikipedia.org/wiki/Terra>. Acesso em: 15 de Março de 2025.\n",
    "\n",
    "[8] WIKIPÉDIA. **Lua**. Disponível em: <https://pt.wikipedia.org/wiki/Lua>. Acesso em: 15 de Março de 2025."
   ]
  }
 ],
 "metadata": {
  "kernelspec": {
   "display_name": "Python 3",
   "language": "python",
   "name": "python3"
  },
  "language_info": {
   "codemirror_mode": {
    "name": "ipython",
    "version": 3
   },
   "file_extension": ".py",
   "mimetype": "text/x-python",
   "name": "python",
   "nbconvert_exporter": "python",
   "pygments_lexer": "ipython3",
   "version": "3.11.6"
  }
 },
 "nbformat": 4,
 "nbformat_minor": 2
}
