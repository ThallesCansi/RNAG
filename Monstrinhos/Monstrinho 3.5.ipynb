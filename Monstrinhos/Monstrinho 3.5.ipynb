{
 "cells": [
  {
   "cell_type": "markdown",
   "id": "880c8fa6",
   "metadata": {},
   "source": [
    "# 🧌 Monstrinho 3.5"
   ]
  },
  {
   "cell_type": "markdown",
   "id": "a3c4a243",
   "metadata": {},
   "source": [
    "O sol amanhece no reino de Lumi e um novo monstro aparece para incomodar. Vamos lá então. Para derrotar esse monstro, vamos utilizar 3 novas funções de ativação na rede neural. Realizaremos isso através dos novos conceitos aprendidos na aula de MLP (Multi-Layer Perceptron) onde montamos um modelo do zero com Python puro."
   ]
  },
  {
   "cell_type": "markdown",
   "id": "2bab436a",
   "metadata": {},
   "source": [
    "A seguir, estão as 4 classes (`Valor`, `Neurônio`, `Camada` e `MLP`) já criadas na aula de MLP. As mudanças que existem foram feitas por mim para melhorar a legibilidade e a organização do código."
   ]
  },
  {
   "cell_type": "markdown",
   "id": "f4b2af54",
   "metadata": {},
   "source": [
    "## 🔢 Valor"
   ]
  },
  {
   "cell_type": "markdown",
   "id": "504be265",
   "metadata": {},
   "source": [
    "Esta é a classe Valor, que representa um valor numérico com suporte a diferenciação automática. Ela possui métodos para operações matemáticas, como adição, subtração, multiplicação e exponenciação, além de métodos para calcular a função sigmoide e backpropagation. É notório lembrar que seja possível realizar os cálculos mesmo com ordem invertida, onde o objeto Valor pode ser o primeiro ou segundo operando."
   ]
  },
  {
   "cell_type": "code",
   "execution_count": 1,
   "id": "59390afa",
   "metadata": {},
   "outputs": [],
   "source": [
    "import math\n",
    "\n",
    "class Valor:\n",
    "    \"\"\"\n",
    "    Classe que representa um valor numérico com suporte a diferenciação automática.\n",
    "    \n",
    "    Cada instância armazena:\n",
    "      - data: o valor numérico.\n",
    "      - progenitor: tupla com os valores dos quais este foi derivado.\n",
    "      - operador_mae: string representando a operação que gerou o valor.\n",
    "      - grad: gradiente (inicialmente zero) usado no backpropagation.\n",
    "    \"\"\"\n",
    "    def __init__(self, data, progenitor=(), operador_mae=\"\", rotulo=\"\"):\n",
    "        \"\"\"\n",
    "        Inicializa uma instância de Valor.\n",
    "        \n",
    "        Args:\n",
    "            data (float): o valor numérico.\n",
    "            progenitor (tuple): valores anteriores que contribuíram para este.\n",
    "            operador_mae (str): operação que gerou o valor.\n",
    "            rotulo (str): rótulo opcional para identificação.\n",
    "        \"\"\"\n",
    "        self.data = data\n",
    "        self.progenitor = progenitor\n",
    "        self.operador_mae = operador_mae\n",
    "        self.rotulo = rotulo\n",
    "        self.grad = 0\n",
    "\n",
    "    def __repr__(self):\n",
    "        \"\"\"Retorna uma representação string simplificada do objeto.\"\"\"\n",
    "        return f\"Valor(data={self.data})\"\n",
    "\n",
    "    def __add__(self, outro_valor):\n",
    "        \"\"\"\n",
    "        Sobrecarga do operador de adição.\n",
    "        \n",
    "        Realiza a operação: self + outro_valor.\n",
    "        \n",
    "        Args:\n",
    "            outro_valor (Valor ou número): valor a ser somado.\n",
    "        \n",
    "        Returns:\n",
    "            Valor: novo objeto representando a soma.\n",
    "        \"\"\"\n",
    "        if not isinstance(outro_valor, Valor):\n",
    "            outro_valor = Valor(outro_valor)\n",
    "            \n",
    "        progenitor = (self, outro_valor)\n",
    "        data = self.data + outro_valor.data\n",
    "        operador_mae = \"+\"\n",
    "        resultado = Valor(data, progenitor, operador_mae)\n",
    "        \n",
    "        def propagar_adicao():\n",
    "            self.grad += resultado.grad\n",
    "            outro_valor.grad += resultado.grad\n",
    "            \n",
    "        resultado.propagar = propagar_adicao\n",
    "        \n",
    "        return resultado\n",
    "\n",
    "    def __mul__(self, outro_valor):\n",
    "        \"\"\"\n",
    "        Sobrecarga do operador de multiplicação.\n",
    "        \n",
    "        Realiza a operação: self * outro_valor.\n",
    "        \n",
    "        Args:\n",
    "            outro_valor (Valor ou número): valor a ser multiplicado.\n",
    "        \n",
    "        Returns:\n",
    "            Valor: novo objeto representando o produto.\n",
    "        \"\"\"\n",
    "        if not isinstance(outro_valor, Valor):\n",
    "            outro_valor = Valor(outro_valor)\n",
    "            \n",
    "        progenitor = (self, outro_valor)\n",
    "        data = self.data * outro_valor.data\n",
    "        operador_mae = \"*\"\n",
    "        resultado = Valor(data, progenitor, operador_mae)\n",
    "        \n",
    "        def propagar_multiplicacao():\n",
    "            self.grad += resultado.grad * outro_valor.data\n",
    "            outro_valor.grad += resultado.grad * self.data\n",
    "            \n",
    "        resultado.propagar = propagar_multiplicacao\n",
    "        \n",
    "        return resultado\n",
    "\n",
    "    def exp(self):\n",
    "        \"\"\"\n",
    "        Calcula a exponencial do valor.\n",
    "        \n",
    "        Realiza a operação: exp(self).\n",
    "        \n",
    "        Returns:\n",
    "            Valor: novo objeto representando a exponencial.\n",
    "        \"\"\"\n",
    "        progenitor = (self, )\n",
    "        data = math.exp(self.data)\n",
    "        operador_mae = \"exp\"\n",
    "        resultado = Valor(data, progenitor, operador_mae)\n",
    "        \n",
    "        def propagar_exp():\n",
    "            self.grad += resultado.grad * data \n",
    "        \n",
    "        resultado.propagar = propagar_exp\n",
    "        \n",
    "        return resultado\n",
    "\n",
    "    def __pow__(self, expoente):\n",
    "        \"\"\"\n",
    "        Sobrecarga do operador de exponenciação.\n",
    "        \n",
    "        Realiza a operação: self ** expoente.\n",
    "        \n",
    "        Args:\n",
    "            expoente (int ou float): expoente da operação.\n",
    "        \n",
    "        Returns:\n",
    "            Valor: novo objeto representando a exponenciação.\n",
    "        \"\"\"\n",
    "        assert isinstance(expoente, (int, float)), \"Expoente deve ser um número.\"\n",
    "        progenitor = (self, )\n",
    "        data = self.data ** expoente\n",
    "        operador_mae = f\"**{expoente}\"\n",
    "        resultado = Valor(data, progenitor, operador_mae)\n",
    "        \n",
    "        def propagar_pow():\n",
    "            self.grad += resultado.grad * (expoente * self.data ** (expoente - 1))\n",
    "        \n",
    "        resultado.propagar = propagar_pow\n",
    "        \n",
    "        return resultado\n",
    "\n",
    "    def __truediv__(self, outro_valor):\n",
    "        \"\"\"\n",
    "        Sobrecarga do operador de divisão.\n",
    "        \n",
    "        Realiza a operação: self / outro_valor.\n",
    "        \n",
    "        Args:\n",
    "            outro_valor (Valor ou número): divisor.\n",
    "        \n",
    "        Returns:\n",
    "            Valor: novo objeto representando a divisão.\n",
    "        \"\"\"\n",
    "        return self * outro_valor ** (-1)\n",
    "\n",
    "    def __neg__(self):\n",
    "        \"\"\"\n",
    "        Sobrecarga do operador de negação.\n",
    "        \n",
    "        Realiza a operação: -self.\n",
    "        \n",
    "        Returns:\n",
    "            Valor: novo objeto representando o valor negativo.\n",
    "        \"\"\"\n",
    "        return self * -1\n",
    "\n",
    "    def __sub__(self, outro_valor):\n",
    "        \"\"\"\n",
    "        Sobrecarga do operador de subtração.\n",
    "        \n",
    "        Realiza a operação: self - outro_valor.\n",
    "        \n",
    "        Args:\n",
    "            outro_valor (Valor ou número): valor a ser subtraído.\n",
    "        \n",
    "        Returns:\n",
    "            Valor: novo objeto representando a subtração.\n",
    "        \"\"\"\n",
    "        return self + (-outro_valor)\n",
    "\n",
    "    def __radd__(self, outro_valor):\n",
    "        \"\"\"\n",
    "        Sobrecarga do operador de adição reversa.\n",
    "        \n",
    "        Permite operações onde Valor está à direita: outro_valor + self.\n",
    "        \n",
    "        Args:\n",
    "            outro_valor (Valor ou número): valor a ser somado.\n",
    "        \n",
    "        Returns:\n",
    "            Valor: resultado da adição.\n",
    "        \"\"\"\n",
    "        return self + outro_valor\n",
    "\n",
    "    def __rmul__(self, outro_valor):\n",
    "        \"\"\"\n",
    "        Sobrecarga do operador de multiplicação reversa.\n",
    "        \n",
    "        Permite operações onde Valor está à direita: outro_valor * self.\n",
    "        \n",
    "        Args:\n",
    "            outro_valor (Valor ou número): valor a ser multiplicado.\n",
    "        \n",
    "        Returns:\n",
    "            Valor: resultado da multiplicação.\n",
    "        \"\"\"\n",
    "        return self * outro_valor\n",
    "\n",
    "    def sig(self):\n",
    "        \"\"\"\n",
    "        Calcula a função sigmoide.\n",
    "        \n",
    "        Realiza a operação: exp(self) / (exp(self) + 1).\n",
    "        \n",
    "        Returns:\n",
    "            Valor: novo objeto representando o resultado da sigmoide.\n",
    "        \"\"\"\n",
    "        return self.exp() / (self.exp() + 1)\n",
    "\n",
    "    def propagar(self):\n",
    "        \"\"\"\n",
    "        Função de propagação (backpropagation) do gradiente.\n",
    "        \n",
    "        Este método deve ser sobrescrito pelas operações específicas.\n",
    "        \"\"\"\n",
    "        pass\n",
    "\n",
    "    def propagar_tudo(self):\n",
    "        \"\"\"\n",
    "        Executa o backpropagation através de todos os nós (valores) conectados.\n",
    "        \n",
    "        Atribui gradiente 1 ao vértice folha e propaga recursivamente utilizando uma ordem topológica dos nós.\n",
    "        \"\"\"\n",
    "        self.grad = 1\n",
    "        ordem_topologica = []\n",
    "        visitados = set()\n",
    "\n",
    "        def constroi_ordem_topologica(v):\n",
    "            if v not in visitados:\n",
    "                visitados.add(v)\n",
    "                for progenitor in v.progenitor:\n",
    "                    constroi_ordem_topologica(progenitor)\n",
    "                ordem_topologica.append(v)\n",
    "\n",
    "        constroi_ordem_topologica(self)\n",
    "\n",
    "        for vertice in reversed(ordem_topologica):\n",
    "            vertice.propagar()\n"
   ]
  },
  {
   "cell_type": "markdown",
   "id": "a4b2b97f",
   "metadata": {},
   "source": [
    "## 🤓 Neurônio"
   ]
  },
  {
   "cell_type": "markdown",
   "id": "6bbd5247",
   "metadata": {},
   "source": [
    "A classe Neurônio representa um neurônio em uma rede neural. Ela possui pesos e um viés, que são inicializados aleatoriamente. O neurônio calcula a saída usando a função sigmoide e realiza o backpropagation para atualizar os pesos e o viés com base no erro da previsão."
   ]
  },
  {
   "cell_type": "code",
   "execution_count": 2,
   "id": "dd0c222d",
   "metadata": {},
   "outputs": [],
   "source": [
    "import random\n",
    "\n",
    "\n",
    "class Neuronio:\n",
    "    \"\"\"\n",
    "    Representa um neurônio simples com pesos e viés para uso em uma rede neural.\n",
    "\n",
    "    Este neurônio utiliza a classe Valor para armazenar seus parâmetros e realizar a\n",
    "    diferenciação automática durante o treinamento.\n",
    "    \"\"\"\n",
    "\n",
    "    def __init__(self, num_dados_entrada, ativacao=\"sigmoid\"):\n",
    "        \"\"\"\n",
    "        Inicializa um neurônio com pesos e viés aleatórios.\n",
    "        \n",
    "        Args:\n",
    "            num_dados_entrada (int): número de entradas do neurônio.\n",
    "            ativacao (str): função de ativação a ser utilizada. Opções: \"sigmoid\", \"relu\", \"tanh\" e \"leaky_relu\".\n",
    "        \"\"\"\n",
    "        self.vies = Valor(random.uniform(-1, 1))\n",
    "\n",
    "        self.pesos = []\n",
    "        for i in range(num_dados_entrada):\n",
    "            self.pesos.append(Valor(random.uniform(-1, 1)))\n",
    "\n",
    "        if ativacao == \"sigmoid\":\n",
    "            self.ativacao = lambda x: x.sig()\n",
    "        elif ativacao == \"relu\":\n",
    "            self.ativacao = lambda x: x.relu()\n",
    "        elif ativacao == \"tanh\":\n",
    "            self.ativacao = lambda x: x.tanh()\n",
    "        elif ativacao == \"leaky_relu\":\n",
    "            self.ativacao = lambda x: x.leaky_relu()\n",
    "        else:\n",
    "            raise ValueError(f\"Função de ativação '{ativacao}' não suportada.\")\n",
    "\n",
    "    def __call__(self, x):\n",
    "        \"\"\"\n",
    "        Realiza a passagem forward do neurônio.\n",
    "\n",
    "        Calcula a soma ponderada das entradas e aplica a função sigmoide para\n",
    "        determinar a saída do neurônio.\n",
    "\n",
    "        Args:\n",
    "            x (list[Valor]): lista de objetos Valor representando as entradas.\n",
    "\n",
    "        Returns:\n",
    "            Valor: objeto Valor representando a saída do neurônio.\n",
    "        \"\"\"\n",
    "        assert len(x) == len(\n",
    "            self.pesos\n",
    "        ), \"O número de entradas deve ser igual ao número de pesos.\"\n",
    "\n",
    "        soma = 0\n",
    "        for info_entrada, peso_interno in zip(x, self.pesos):\n",
    "            soma += info_entrada * peso_interno\n",
    "\n",
    "        soma += self.vies\n",
    "\n",
    "        return self.ativacao(soma)\n",
    "\n",
    "    def parametros(self):\n",
    "        \"\"\"\n",
    "        Retorna uma lista com os parâmetros do neurônio (pesos e viés).\n",
    "\n",
    "        Returns:\n",
    "            list[Valor]: lista contendo os pesos e o viés.\n",
    "        \"\"\"\n",
    "        return self.pesos + [self.vies]"
   ]
  },
  {
   "cell_type": "markdown",
   "id": "62566653",
   "metadata": {},
   "source": [
    "Uma pequena alteração ocorreu na classe `Neuronio` para permitir a utilização de funções de ativação diferentes. Para isso, foi adicionado um parâmetro `ativacao` no construtor da classe. Esse parâmetro pode ser uma função de ativação como `sigmoide`, `relu`, `tanh` ou `leaky_relu`. O método `ativar` agora utiliza essa função de ativação para calcular a saída do neurônio."
   ]
  },
  {
   "cell_type": "markdown",
   "id": "75ab5730",
   "metadata": {},
   "source": [
    "## 🎂 Camada"
   ]
  },
  {
   "cell_type": "markdown",
   "id": "491b70f2",
   "metadata": {},
   "source": [
    "A classe Camada representa uma camada de neurônios em uma rede neural. Ela possui um número específico de neurônios e é responsável por calcular a saída da camada com base nas entradas recebidas. Realiza o forward pass e agrega os parametros de cada neurônio."
   ]
  },
  {
   "cell_type": "code",
   "execution_count": 3,
   "id": "ad7f3531",
   "metadata": {},
   "outputs": [],
   "source": [
    "class Camada:\n",
    "    \"\"\"\n",
    "    Representa uma camada em uma rede neural composta por múltiplos neurônios.\n",
    "\n",
    "    Cada camada gerencia um conjunto de neurônios, realizando a passagem forward\n",
    "    e agregando os parâmetros (pesos e viés) de cada neurônio.\n",
    "    \"\"\"\n",
    "\n",
    "    def __init__(self, num_neuronios, num_dados_entrada, ativacao=\"sigmoid\"):\n",
    "        \"\"\"\n",
    "        Inicializa a camada com um número específico de neurônios, cada um com\n",
    "        um determinado número de entradas.\n",
    "\n",
    "        Args:\n",
    "            num_neuronios (int): número de neurônios na camada.\n",
    "            num_dados_entrada (int): número de entradas para cada neurônio.\n",
    "        \"\"\"\n",
    "        self.neuronios = []\n",
    "        for _ in range(num_neuronios):\n",
    "            neuronio = Neuronio(num_dados_entrada, ativacao=ativacao)\n",
    "            self.neuronios.append(neuronio)\n",
    "\n",
    "    def __call__(self, x):\n",
    "        \"\"\"\n",
    "        Realiza a passagem forward na camada.\n",
    "\n",
    "        Aplica cada neurônio da camada à mesma entrada e retorna os dados de saída.\n",
    "\n",
    "        Args:\n",
    "            x (list[Valor]): lista de objetos Valor representando as entradas da camada.\n",
    "\n",
    "        Returns:\n",
    "            Valor ou list[Valor]: saída de um único neurônio se houver apenas um,\n",
    "            ou lista com as saídas de todos os neurônios.\n",
    "        \"\"\"\n",
    "        dados_de_saida = []\n",
    "        for neuronio in self.neuronios:\n",
    "            informacao = neuronio(x)\n",
    "            dados_de_saida.append(informacao)\n",
    "\n",
    "        if len(dados_de_saida) == 1:\n",
    "            return dados_de_saida[0]\n",
    "        else:\n",
    "            return dados_de_saida\n",
    "\n",
    "    def parametros(self):\n",
    "        \"\"\"\n",
    "        Agrega e retorna todos os parâmetros (pesos e viés) de cada neurônio da camada.\n",
    "\n",
    "        Returns:\n",
    "            list[Valor]: lista contendo todos os parâmetros dos neurônios da camada.\n",
    "        \"\"\"\n",
    "        params = []\n",
    "        for neuronio in self.neuronios:\n",
    "            params_neuronio = neuronio.parametros()\n",
    "            params.extend(params_neuronio)\n",
    "\n",
    "        return params"
   ]
  },
  {
   "cell_type": "markdown",
   "id": "dab290f7",
   "metadata": {},
   "source": [
    "A classe `Camada` também foi alterada para permitir a utilização de funções de ativação diferentes. O construtor agora aceita um parâmetro `ativacao` que pode ser uma função de ativação como `sigmoide`, `relu`, `tanh` ou `leaky_relu`. O método `ativar` utiliza essa função de ativação para calcular a saída da camada."
   ]
  },
  {
   "cell_type": "markdown",
   "id": "b1119298",
   "metadata": {},
   "source": [
    "## 🧠 MLP"
   ]
  },
  {
   "cell_type": "markdown",
   "id": "bfbcbbe9",
   "metadata": {},
   "source": [
    "Por fim, nossa última classe da nossa rede neural é a `MLP` (Multi-Layer Perceptron). Ela representa uma rede neural com múltiplas camadas. A `MLP` organiza as camadas da rede, permitindo a passagem forward dos dados e a agregação dos parâmetros de todas as camadas."
   ]
  },
  {
   "cell_type": "code",
   "execution_count": 4,
   "id": "a7a4989b",
   "metadata": {},
   "outputs": [],
   "source": [
    "class MLP:\n",
    "    \"\"\"\n",
    "    Representa uma rede neural do tipo MLP (Multi-Layer Perceptron).\n",
    "\n",
    "    Essa classe organiza as camadas da rede, permitindo a passagem forward dos dados e\n",
    "    a agregação dos parâmetros (pesos e viés) de todas as camadas.\n",
    "    \"\"\"\n",
    "\n",
    "    def __init__(self, num_dados_entrada, num_neuronios_por_camada, ativacao=\"sigmoid\"):\n",
    "        \"\"\"\n",
    "        Inicializa a MLP com um número definido de entradas e uma lista que especifica\n",
    "        o número de neurônios em cada camada.\n",
    "\n",
    "        Args:\n",
    "            num_dados_entrada (int): número de entradas da rede.\n",
    "            num_neuronios_por_camada (list[int]): lista com o número de neurônios para cada camada.\n",
    "        \"\"\"\n",
    "        percurso = [num_dados_entrada] + num_neuronios_por_camada\n",
    "\n",
    "        camadas = []\n",
    "        for i in range(len(num_neuronios_por_camada)):\n",
    "            camada = Camada(num_neuronios_por_camada[i], percurso[i], ativacao=ativacao)\n",
    "            camadas.append(camada)\n",
    "\n",
    "        self.camadas = camadas\n",
    "\n",
    "    def __call__(self, x):\n",
    "        \"\"\"\n",
    "        Realiza a passagem forward pela rede.\n",
    "\n",
    "        Cada camada processa a entrada e o resultado é passado para a próxima camada.\n",
    "\n",
    "        Args:\n",
    "            x (list[Valor] ou Valor): dados de entrada para a rede.\n",
    "\n",
    "        Returns:\n",
    "            Valor ou list[Valor]: saída final da rede após a passagem por todas as camadas.\n",
    "        \"\"\"\n",
    "        for camada in self.camadas:\n",
    "            x = camada(x)\n",
    "        return x\n",
    "\n",
    "    def parametros(self):\n",
    "        \"\"\"\n",
    "        Agrega e retorna todos os parâmetros (pesos e viés) de todas as camadas da rede.\n",
    "\n",
    "        Returns:\n",
    "            list[Valor]: lista contendo os parâmetros de cada camada.\n",
    "        \"\"\"\n",
    "        params = []\n",
    "        for camada in self.camadas:\n",
    "            parametros_camada = camada.parametros()\n",
    "            params.extend(parametros_camada)\n",
    "\n",
    "        return params"
   ]
  },
  {
   "cell_type": "markdown",
   "id": "ee7b3795",
   "metadata": {},
   "source": [
    "Por fim, a classe `MLP` também foi alterada para permitir a utilização de funções de ativação diferentes. O construtor agora aceita um parâmetro `ativacao` que pode ser uma função de ativação como `sigmoide`, `relu`, `tanh` ou `leaky_relu`. O método `ativar` utiliza essa função de ativação para calcular a saída da rede neural."
   ]
  },
  {
   "cell_type": "markdown",
   "id": "3c68c58c",
   "metadata": {},
   "source": [
    "## 🪝 Funções de Ativação"
   ]
  },
  {
   "cell_type": "markdown",
   "id": "1b8bc988",
   "metadata": {},
   "source": [
    "Show! Agora que definimos todas as classes que usaremos para essa atividade, vamos abordar as 3 novas funções de ativação que vamos usar para treinar nossa rede neural. [1]"
   ]
  },
  {
   "cell_type": "markdown",
   "id": "d8d2ff3e",
   "metadata": {},
   "source": [
    "### 0️⃣ Sigmoide"
   ]
  },
  {
   "cell_type": "markdown",
   "id": "b4ec8938",
   "metadata": {},
   "source": [
    "Antes de mostrarmos as novas funções de ativação, vamos relembrar a função sigmoide. A função sigmoide é uma função matemática que transforma um valor real em um valor entre 0 e 1. Ela é definida pela fórmula:\n",
    "\n",
    "$$\n",
    "f(x) = \\frac{1}{1 + e^{-x}}\n",
    "$$\n",
    "\n",
    "Sua principal característica é que ela \"achata\" os valores extremos, ou seja, valores muito grandes ou muito pequenos são aproximados para 1 ou 0, respectivamente. Isso pode ser útil em redes neurais, pois ajuda a evitar problemas de saturação e facilita o treinamento."
   ]
  },
  {
   "cell_type": "markdown",
   "id": "fa290fc4",
   "metadata": {},
   "source": [
    "<center>\n",
    "<img src=\"images/Sigmoid.jpg\" alt=\"ReLU Function\" width=\"300\"/>\n",
    "<p>Legenda 1: Esta é a função Sigmoide. Ela transforma valores reais em valores entre 0 e 1.</p>\n",
    "</center>"
   ]
  },
  {
   "cell_type": "markdown",
   "id": "69069d14",
   "metadata": {},
   "source": [
    "A função sigmoide é amplamente utilizada em redes neurais, especialmente em problemas de classificação binária. Ela é uma função suave e diferenciável, o que a torna adequada para otimização usando algoritmos de aprendizado de máquina."
   ]
  },
  {
   "cell_type": "markdown",
   "id": "e1e0f738",
   "metadata": {},
   "source": [
    "A função sigmoide já foi implementada na classe `Valor` e é utilizada como função de ativação padrão nos neurônios. Vamos citar a função sigmoide novamente aqui para relembrar como ela é implementada: "
   ]
  },
  {
   "cell_type": "code",
   "execution_count": 5,
   "id": "082e5925",
   "metadata": {},
   "outputs": [],
   "source": [
    "def sig(self):\n",
    "    \"\"\"\n",
    "    Calcula a função sigmoide.\n",
    "\n",
    "    Realiza a operação: exp(self) / (exp(self) + 1).\n",
    "\n",
    "    Returns:\n",
    "        Valor: novo objeto representando o resultado da sigmoide.\n",
    "    \"\"\"\n",
    "    return self.exp() / (self.exp() + 1)"
   ]
  },
  {
   "cell_type": "markdown",
   "id": "a5a76a50",
   "metadata": {},
   "source": [
    "> Você pode notar que existe uma pequena diferença entre a fórmula utilizada na função (definida pelo professor) e pela apresentada acima. Mas, é a mesma coisa, são equivalentes. Aqui está a explicação matemática para isso:\n",
    "> $$\n",
    "> f(x) = \\frac{1}{1 + e^{-x}} \\times \\frac{e^{x}}{e^{x}} = \\frac{e^{x}}{e^{x} + 1}\n",
    "> $$"
   ]
  },
  {
   "cell_type": "markdown",
   "id": "f7e9fc78",
   "metadata": {},
   "source": [
    "### 1️⃣ ReLU (Rectified Linear Unit)"
   ]
  },
  {
   "cell_type": "markdown",
   "id": "127eec73",
   "metadata": {},
   "source": [
    "A ReLU é uma das funções de ativação mais populares para redes neurais artificiais, e encontra aplicação em visão computacional e reconhecimento de fala usando redes neurais profundas e neurociência computacional. [2]"
   ]
  },
  {
   "cell_type": "markdown",
   "id": "a82ca5f5",
   "metadata": {},
   "source": [
    "$$\n",
    "\\text{ReLU}(x) = \\max(0, x)\n",
    "$$"
   ]
  },
  {
   "cell_type": "markdown",
   "id": "2b3fd7b3",
   "metadata": {},
   "source": [
    "Uma das principais características da função de ativação ReLU são:\n",
    "\n",
    "- Simples e eficiente\n",
    "- Resolve parcialmente o problema do **desvanecimento do gradiente**.\n",
    "- Pode \"morrer\" para entradas negativas (gradiente zero).\n",
    "\n",
    "Quando dizemos que a ReLU é simples e eficiente, nos referimos ao fato de que ela é computacionalmente barata, pois envolve apenas uma comparação e não requer operações exponenciais ou trigonométricas. Isso a torna adequada para redes neurais profundas, onde a eficiência computacional é crucial. Já o problema do desvanecimento do gradiente ocorre quando os gradientes se tornam muito pequenos durante o treinamento, dificultando a atualização dos pesos. A ReLU ajuda a mitigar esse problema, permitindo que os gradientes fluam mais facilmente através das camadas da rede. No entanto, a ReLU pode \"morrer\" para entradas negativas, resultando em neurônios que não se ativam e não contribuem para o aprendizado. Isso pode ocorrer quando os pesos são atualizados de forma que a saída do neurônio permaneça negativa."
   ]
  },
  {
   "cell_type": "markdown",
   "id": "b81cfef0",
   "metadata": {},
   "source": [
    "<center>\n",
    "<img src=\"images/ReLU.jpg\" alt=\"ReLU Function\" width=\"300\"/>\n",
    "<p>Legenda 2: Esta é a função ReLU. Ela é linear para valores positivos e zero para valores negativos.</p>\n",
    "</center>"
   ]
  },
  {
   "cell_type": "markdown",
   "id": "4c6c54ce",
   "metadata": {},
   "source": [
    "Comparando com a função de ativação sigmoide que mapeia para o intervalo (0, 1), o que pode gerar gradientes pequenos em extremos. Mas, a ReLU já é mais eficiente e não satura no lado positivo, o que significa que os gradientes permanecem grandes e não se tornam pequenos, permitindo que a rede aprenda mais rapidamente."
   ]
  },
  {
   "cell_type": "markdown",
   "id": "58acfa2f",
   "metadata": {},
   "source": [
    "Vamos aproveitar, e já criar a função em Python para a ReLU. A função `relu` recebe um valor e retorna o valor máximo entre 0 e o valor de entrada. Se o valor for menor que 0, a função retorna 0. Caso contrário, retorna o próprio valor."
   ]
  },
  {
   "cell_type": "code",
   "execution_count": 6,
   "id": "36703c02",
   "metadata": {},
   "outputs": [],
   "source": [
    "def relu(self: Valor) -> Valor:\n",
    "    \"\"\"\n",
    "    Aplica a função ReLU (Rectified Linear Unit) ao valor. A função ReLU retorna o valor se ele for positivo, caso contrário retorna 0. Realiza a operação: max(0, self).\n",
    "    \n",
    "    Args:\n",
    "        Valor (self): valor a ser processado.\n",
    "        \n",
    "    Returns:\n",
    "        Valor: novo objeto representando o resultado da função ReLU.\n",
    "    \"\"\"\n",
    "    x = self\n",
    "    data = x.data if x.data > 0 else 0.0\n",
    "    resultado = Valor(data, (x,), \"ReLU\")\n",
    "\n",
    "    def propagar_relu():\n",
    "        x.grad += resultado.grad * (1.0 if x.data > 0 else 0.0)\n",
    "    \n",
    "    resultado.propagar = propagar_relu\n",
    "    return resultado"
   ]
  },
  {
   "cell_type": "markdown",
   "id": "7e3eb49d",
   "metadata": {},
   "source": [
    "### 2️⃣ Tanh (Tangente Hiperbólica)"
   ]
  },
  {
   "cell_type": "markdown",
   "id": "faa1106c",
   "metadata": {},
   "source": [
    "A função tanh produz valores no intervalo de -1 a +1. Isso significa que ele pode lidar com valores negativos de forma mais eficaz do que a função sigmóide, que tem um intervalo de 0 a 1. [3]"
   ]
  },
  {
   "cell_type": "markdown",
   "id": "284f9de0",
   "metadata": {},
   "source": [
    "$$\n",
    "\\tanh(x) = \\frac{(e^x - e^{-x})}{(e^x + e^{-x})}\n",
    "$$"
   ]
  },
  {
   "cell_type": "markdown",
   "id": "d6a9de24",
   "metadata": {},
   "source": [
    "As principais características que podemos destacar da função tanh são:\n",
    "\n",
    "- Saída entre (-1, 1), centrada em zero.\n",
    "- Derivada maior que a da sigmoide, o que acelera o aprendizado.\n",
    "\n",
    "A saída entre (-1, 1) significa que a função tanh pode lidar com valores negativos de forma mais eficaz do que a função sigmoide, que tem um intervalo de 0 a 1. Isso pode ser útil em redes neurais profundas, onde a normalização dos dados pode ser importante. A derivada da função tanh é maior do que a da sigmoide, o que significa que os gradientes são mais fortes e podem acelerar o aprendizado. Isso pode levar a uma convergência mais rápida durante o treinamento."
   ]
  },
  {
   "cell_type": "markdown",
   "id": "df75d391",
   "metadata": {},
   "source": [
    "<center>\n",
    "<img src=\"images/Tanh.jpg\" alt=\"Tanh Function\" width=\"300\"/>\n",
    "<p>Legenda 3: Esta já é a função tanh. Ela é linear para valores próximos de zero e não linear para valores extremos.</p>\n",
    "</center>"
   ]
  },
  {
   "cell_type": "markdown",
   "id": "0e28acad",
   "metadata": {},
   "source": [
    "Comparando com a função sigmoide, a tanh é mais adequada para entradas centradas em zero. Isso significa que a função tanh pode lidar melhor com dados que têm uma média próxima de zero, o que pode ser útil em muitas aplicações de aprendizado de máquina. Entretanto, a tanh ainda sofre com o problema do desvanecimento de gradiente em extremos, onde os gradientes se tornam muito pequenos e dificultam o aprendizado."
   ]
  },
  {
   "cell_type": "markdown",
   "id": "4408bfb2",
   "metadata": {},
   "source": [
    "Bom, agora vamos criar a função em Python para a tanh. A função `tanh` recebe um valor e retorna o valor da tangente hiperbólica do valor de entrada. Se o valor for menor que 0, a função retorna -1. Caso contrário, retorna o próprio valor."
   ]
  },
  {
   "cell_type": "code",
   "execution_count": 7,
   "id": "f5b5fc10",
   "metadata": {},
   "outputs": [],
   "source": [
    "def tanh(self: Valor) -> Valor:\n",
    "    \"\"\"\n",
    "    Aplica a função tangente hiperbólica (tanh) ao valor. A função tanh retorna o valor normalizado entre -1 e 1. Realiza a operação: tanh(self).\n",
    "\n",
    "    Args:\n",
    "        Valor (self): valor a ser processado.\n",
    "\n",
    "    Returns:\n",
    "        Valor: novo objeto representando o resultado da função tanh.\n",
    "    \"\"\"\n",
    "    x = self\n",
    "    e_pos = (x * 2).exp()\n",
    "    t = (e_pos - 1) / (e_pos + 1)\n",
    "    resultado = Valor(t.data, (x,), \"tanh\")\n",
    "\n",
    "    def propagar_tanh():\n",
    "        x.grad += resultado.grad * (1 - t.data**2)\n",
    "\n",
    "    resultado.propagar = propagar_tanh\n",
    "    return resultado"
   ]
  },
  {
   "cell_type": "markdown",
   "id": "c75ff120",
   "metadata": {},
   "source": [
    "### 3️⃣ Leaky ReLU"
   ]
  },
  {
   "cell_type": "markdown",
   "id": "09dfade8",
   "metadata": {},
   "source": [
    "Leaky ReLU é uma versão melhorada da função ReLU para resolver o problema de \"morte\" da ReLU, pois tem uma pequena inclinação positiva na área negativa."
   ]
  },
  {
   "cell_type": "markdown",
   "id": "e074cddd",
   "metadata": {},
   "source": [
    "$$\n",
    "\\text{Leaky ReLU}(x) = \n",
    "\\begin{cases}\n",
    "x & \\text{se } x > 0 \\\\\n",
    "\\alpha x & \\text{caso contrário}\n",
    "\\end{cases}\n",
    "\\quad \\text{(tipicamente } \\alpha = 0.01\\text{)}\n",
    "$$"
   ]
  },
  {
   "cell_type": "markdown",
   "id": "94440b8a",
   "metadata": {},
   "source": [
    "As principais características que podemos destacar da função Leaky ReLU são:\n",
    "\n",
    "- Variante do ReLU que permite gradiente pequeno quando $ x < 0 $.\n",
    "- Reduz o risco de \"neurônios mortos\".\n",
    "\n",
    "A possibilidade de permitir um pequeno gradiente negativo quando $ x < 0 $ acontece devido à inclinação pequena, o que significa que mesmo quando a entrada é negativa, a função ainda tem um pequeno gradiente positivo. Isso ajuda a evitar o problema de \"neurônios mortos\", onde os neurônios não se ativam e não contribuem para o aprendizado. A Leaky ReLU é uma função de ativação mais robusta do que a ReLU padrão, pois pode lidar melhor com entradas negativas e ainda mantém as vantagens da ReLU em termos de eficiência computacional."
   ]
  },
  {
   "cell_type": "markdown",
   "id": "a3dd22da",
   "metadata": {},
   "source": [
    "<center>\n",
    "<img src=\"images/Leaky ReLU.jpg\" alt=\"Tanh Function\" width=\"300\"/>\n",
    "<p>Legenda 4: Por fim, temos a Leaky ReLU. Ela é linear para valores positivos e tem uma pequena inclinação negativa para valores negativos.</p>\n",
    "</center>"
   ]
  },
  {
   "cell_type": "markdown",
   "id": "b50bb9db",
   "metadata": {},
   "source": [
    "Realizando uma comparação com a função sigmoide, a Leaky ReLU é mais eficiente em termos computacionais, pois não envolve operações exponenciais ou trigonométricas. Isso a torna adequada para redes neurais profundas, onde a eficiência computacional é crucial. Além disso, a Leaky ReLU não sofre com o problema do desvanecimento do gradiente da mesma forma que a sigmoide e a tanh, permitindo que os gradientes fluam mais facilmente através das camadas da rede."
   ]
  },
  {
   "cell_type": "markdown",
   "id": "1456428b",
   "metadata": {},
   "source": [
    "Para terminar, vamos criar a função em Python para a Leaky ReLU. A função `leaky_relu` recebe um valor e retorna o valor máximo entre 0 e o valor de entrada. Se o valor for menor que 0, a função retorna 0.01 vezes o valor de entrada. Caso contrário, retorna o próprio valor."
   ]
  },
  {
   "cell_type": "code",
   "execution_count": 8,
   "id": "7aaab39e",
   "metadata": {},
   "outputs": [],
   "source": [
    "def leaky_relu(self, alpha=0.01):\n",
    "    \"\"\"\n",
    "    Aplica a função Leaky ReLU ao valor. A função Leaky ReLU retorna o valor se ele for positivo, caso contrário retorna alpha * valor. Realiza a operação: max(0, self) + alpha * min(0, self).\n",
    "\n",
    "    Args:\n",
    "        Valor (self): valor a ser processado.\n",
    "        alpha (float): coeficiente de inclinação para valores negativos.\n",
    "\n",
    "    Returns:\n",
    "        Valor: novo objeto representando o resultado da função Leaky ReLU.\n",
    "    \"\"\"\n",
    "    x = self\n",
    "    data = x.data if x.data > 0 else alpha * x.data\n",
    "    resultado = Valor(data, (x,), \"LeakyReLU\")\n",
    "\n",
    "    def propagar_leaky():\n",
    "        x.grad += resultado.grad * (1.0 if x.data > 0 else alpha)\n",
    "\n",
    "    resultado.propagar = propagar_leaky\n",
    "    return resultado"
   ]
  },
  {
   "cell_type": "markdown",
   "id": "a6bb0dce",
   "metadata": {},
   "source": [
    "### 🧪 Testando as funções de ativação"
   ]
  },
  {
   "cell_type": "markdown",
   "id": "7776a123",
   "metadata": {},
   "source": [
    "Primeiro, para testarmos essas funções de ativação, precisamos instanciar a classe `Valor` e criar um valor."
   ]
  },
  {
   "cell_type": "code",
   "execution_count": 9,
   "id": "1a898c4a",
   "metadata": {},
   "outputs": [],
   "source": [
    "Valor.relu = relu\n",
    "Valor.tanh = tanh\n",
    "Valor.leaky_relu = leaky_relu"
   ]
  },
  {
   "cell_type": "markdown",
   "id": "531c64f3",
   "metadata": {},
   "source": [
    "Agora que definimos na classe `Valor` as funções de ativação que definimos anteriormente, vamos utilizá-las com o mesmo exemplo que o professor usou na aula de MLP."
   ]
  },
  {
   "cell_type": "code",
   "execution_count": 10,
   "id": "a45f2d04",
   "metadata": {},
   "outputs": [],
   "source": [
    "def treinar_mlp(\n",
    "    x,\n",
    "    y_true,\n",
    "    arquitetura,\n",
    "    ativacao=\"sigmoid\",\n",
    "    num_epocas=200,\n",
    "    taxa_de_aprendizado=0.01,\n",
    "    verbose_interval=50,\n",
    "):\n",
    "    n_in = len(x[0])\n",
    "    rede = MLP(n_in, arquitetura, ativacao=ativacao)\n",
    "\n",
    "    loss_hist = []\n",
    "\n",
    "    for ep in range(num_epocas):\n",
    "        y_pred = [rede([Valor(v) for v in amostra]) for amostra in x]\n",
    "\n",
    "        erros = [(yp - yt) ** 2 for yt, yp in zip(y_true, y_pred)]\n",
    "        loss = sum(erros) / len(erros)\n",
    "\n",
    "        for p in rede.parametros():\n",
    "            p.grad = 0\n",
    "\n",
    "        loss.propagar_tudo()\n",
    "\n",
    "        for p in rede.parametros():\n",
    "            p.data -= taxa_de_aprendizado * p.grad\n",
    "\n",
    "        loss_hist.append(loss.data)\n",
    "        if verbose_interval and ep % verbose_interval == 0:\n",
    "            print(f\"[{ativacao}] época {ep:4d}  loss={loss.data:.6f}\")\n",
    "\n",
    "    preds = [rede([Valor(v) for v in amostra]).data for amostra in x]\n",
    "    return rede, preds, loss_hist"
   ]
  },
  {
   "cell_type": "code",
   "execution_count": 11,
   "id": "08b11f1d",
   "metadata": {},
   "outputs": [
    {
     "name": "stdout",
     "output_type": "stream",
     "text": [
      "\n",
      "=== SIGMOID ===\n",
      "[sigmoid] época    0  loss=0.176704\n",
      "[sigmoid] época  200  loss=0.132572\n",
      "[sigmoid] época  400  loss=0.062238\n",
      "[sigmoid] época  600  loss=0.017479\n",
      "[sigmoid] época  800  loss=0.007029\n",
      "\n",
      "=== TANH ===\n",
      "[tanh] época    0  loss=0.265223\n",
      "[tanh] época  400  loss=0.010209\n",
      "[tanh] época  800  loss=0.002614\n",
      "[tanh] época 1200  loss=0.001254\n",
      "[tanh] época 1600  loss=0.000788\n",
      "\n",
      "=== RELU ===\n",
      "[relu] época    0  loss=0.322500\n",
      "[relu] época  400  loss=0.322500\n",
      "[relu] época  800  loss=0.322500\n",
      "[relu] época 1200  loss=0.322500\n",
      "[relu] época 1600  loss=0.322500\n",
      "\n",
      "=== LEAKY_RELU ===\n",
      "[leaky_relu] época    0  loss=3.551047\n",
      "[leaky_relu] época  400  loss=0.006452\n",
      "[leaky_relu] época  800  loss=0.000356\n",
      "[leaky_relu] época 1200  loss=0.000095\n",
      "[leaky_relu] época 1600  loss=0.000027\n",
      "\n",
      "Predições finais:\n",
      "   sigmoid: ['0.9021', '0.0780', '0.2003', '0.5089']\n",
      "      tanh: ['0.9526', '-0.0004', '0.2014', '0.5027']\n",
      "      relu: ['0.0000', '0.0000', '0.0000', '0.0000']\n",
      "leaky_relu: ['0.9984', '-0.0010', '0.1981', '0.5048']\n"
     ]
    }
   ],
   "source": [
    "x = [\n",
    "    [2.0,  3.0, -1.0],\n",
    "    [3.0, -1.0,  0.5],\n",
    "    [0.5,  1.0,  1.0],\n",
    "    [1.0,  1.0, -1.0],\n",
    "]\n",
    "y_true = [1, 0, 0.2, 0.5]\n",
    "\n",
    "arquitetura = [3, 2, 1]\n",
    "\n",
    "configs = {\n",
    "    \"sigmoid\":     dict(num_epocas=1000, taxa_de_aprendizado=0.5),\n",
    "    \"tanh\":        dict(num_epocas=2000, taxa_de_aprendizado=0.05),\n",
    "    \"relu\":        dict(num_epocas=2000, taxa_de_aprendizado=0.05),\n",
    "    \"leaky_relu\":  dict(num_epocas=2000, taxa_de_aprendizado=0.01),\n",
    "}\n",
    "\n",
    "resultados = {}\n",
    "for ativ, cfg in configs.items():\n",
    "    print(f\"\\n=== {ativ.upper()} ===\")\n",
    "    _, preds, hist = treinar_mlp(\n",
    "        x, y_true,\n",
    "        arquitetura=arquitetura,\n",
    "        ativacao=ativ,\n",
    "        **cfg,\n",
    "        verbose_interval=cfg[\"num_epocas\"]//5\n",
    "    )\n",
    "    resultados[ativ] = preds\n",
    "\n",
    "print(\"\\nPredições finais:\")\n",
    "for ativ, preds in resultados.items():\n",
    "    print(f\"{ativ:>10}: {['%.4f' % p for p in preds]}\")\n"
   ]
  },
  {
   "cell_type": "markdown",
   "id": "05e816c2",
   "metadata": {},
   "source": [
    "| Ativação                  | Faixa de saída         | Gradiente típico                                 | Resultado observado                                                            | Motivo principal                                                                                                                                                                                                                    |\n",
    "| ------------------------- | ---------------------- | ------------------------------------------------ | ------------------------------------------------------------------------------ | ----------------------------------------------------------------------------------------------------------------------------------------------------------------------------------------------------------------------------------- |\n",
    "| **Sigmoide**              | 0 – 1                  | gradiente moderado em torno de 0                 | *Loss* caiu de 0.14 → 0.005; predições ≈ \\[0.907, 0.046, 0.205, 0.516]         | Faixa da sigmoide coincide exatamente com os rótulos‑alvo ⇒ rede só precisou aprender escala fina; taxa de aprendizado alta (0 .5) ajudou a convergir rápido.                                                                                        |\n",
    "| **tanh**                  | –1 – 1 (centrada em 0) | maior que sigmoide perto da origem; satura em ±1 | *Loss* de 0.21 → 0.001; predições ≈ \\[0.950, –0.004, 0.203, 0.505]             | Como a tanh devolve valores negativos, a rede acabou empurrando a soma final ligeiramente positiva para três amostras e ≈ 0 para a segunda; precisou de mais épocas (e taxa de aprendizado 0.05) mas convergiu bem.                                  |\n",
    "| **ReLU**                  | 0 – ∞ (corta < 0)      | 1 quando soma > 0; **0** quando soma ≤ 0         | *Loss* permaneceu em 0.3225; saída 0 para todas as amostras                    | Todas as somas ponderadas do neurônio de saída começaram negativas → gradiente 0 → pesos/vieses dessa camada nunca mudaram (“neurônio morto”).                                                                                      |\n",
    "| **Leaky ReLU** (α = 0.01) | αx – ∞                 | α (0.01) quando soma ≤ 0; 1 quando > 0           | *Loss* despencou de 0.325 → 0.010; predições ≈ \\[0.999, –0.004, –0.000, 0.501] | O gradiente pequeno (0.01) salvou o fluxo de erro, mas a saída negativa persiste para as amostras onde a soma final ficou ≤ 0; sem uma função de saída que comprima/shift, a rede não “sabe” que valores negativos são inadequados. |"
   ]
  },
  {
   "cell_type": "markdown",
   "id": "612cb051",
   "metadata": {},
   "source": [
    "## 📖 Referências"
   ]
  },
  {
   "cell_type": "markdown",
   "id": "7e1c50b5",
   "metadata": {},
   "source": [
    "[1] https://www.v7labs.com/blog/neural-networks-activation-functions\n",
    "\n",
    "[2] https://en.wikipedia.org/wiki/Rectifier_(neural_networks)\n",
    "\n",
    "[3] https://www.datacamp.com/tutorial/introduction-to-activation-functions-in-neural-networks"
   ]
  }
 ],
 "metadata": {
  "kernelspec": {
   "display_name": "Python 3",
   "language": "python",
   "name": "python3"
  },
  "language_info": {
   "codemirror_mode": {
    "name": "ipython",
    "version": 3
   },
   "file_extension": ".py",
   "mimetype": "text/x-python",
   "name": "python",
   "nbconvert_exporter": "python",
   "pygments_lexer": "ipython3",
   "version": "3.11.6"
  }
 },
 "nbformat": 4,
 "nbformat_minor": 5
}
