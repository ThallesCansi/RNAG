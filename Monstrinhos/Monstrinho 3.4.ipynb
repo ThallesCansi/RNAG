{
 "cells": [
  {
   "cell_type": "markdown",
   "metadata": {},
   "source": [
    "# 🧌 Monstrinho 3.4"
   ]
  },
  {
   "cell_type": "markdown",
   "metadata": {},
   "source": [
    "Um novo monstro, um novo desafio! Dessa vez, teremos que explorar pela floresta do Reino de Lumi para alcançar novos níveis de poder e sabedoria. O nosso desafio será implementar uma classe com métodos _dunder_ que não conhecemos ainda."
   ]
  },
  {
   "cell_type": "markdown",
   "metadata": {},
   "source": [
    "Para esse desafio, vamos criar a classe `Playlist` que gerencia as minhas músicas favoritas. A classe `Playlist` possui os seguintes métodos *dunder*:\n",
    "\n",
    "- `__init__(self, nome: str, musicas: list) -> None`: construtor que recebe o nome da playlist e uma lista de músicas (representadas por _strings_) para inicializar a playlist.\n",
    "\n",
    "- `__iadd__(self, musica: str) -> Playlist`: permite adicionar uma música à playlist utilizando o operador `+=`.\n",
    "\n",
    "- `__delitem__(self, index: int) -> None`: remove a música que está na posição `index` da playlist usando o comando `del`.\n",
    "\n",
    "- `__len__(self) -> int`: retorna a quantidade de músicas na playlist, permitindo o uso da função `len()`.\n",
    "\n",
    "- `__getitem__(self, index: int) -> str`: permite acessar uma música específica através da indexação.\n",
    "\n",
    "- `__setitem__(self, index: int, musica: str) -> None`: permite alterar a música na posição `index` para outra.\n",
    "\n",
    "- `__contains__(self, musica: str) -> bool`: verifica se uma determinada música está na playlist, retornando `True` ou `False`.\n",
    "\n",
    "- `__iter__(self)`: retorna um iterador para percorrer a playlist, permitindo sua utilização em loops.\n",
    "\n",
    "- `__reversed__(self)`: retorna um iterador que percorre as músicas em ordem reversa, sem alterar a ordem original da playlist.\n",
    "\n",
    "- `__str__(self) -> str`: retorna uma string representando a playlist, mostrando seu nome e as músicas que ela contém.\n",
    "\n",
    "> Todos esses métodos *dunder* foram obtidos a partir da documentação oficial do Python. Fonte: [Python Data Model](https://docs.python.org/3/reference/datamodel.html)\n",
    "\n",
    "São muitos métodos, mas não se preocupe, esse monstro não é tão assustador quanto parece!"
   ]
  },
  {
   "cell_type": "code",
   "execution_count": 1,
   "metadata": {},
   "outputs": [],
   "source": [
    "class Playlist:\n",
    "    def __init__(self, nome: str, musicas: list) -> None:\n",
    "        \"\"\"\n",
    "        Inicializa a Playlist com um nome e uma lista de músicas. Cada música é representada por uma string.\n",
    "\n",
    "        Parâmetros:\n",
    "        - `nome` `string`: nome da playlist\n",
    "        - `musicas` `list`: lista de músicas da playlist\n",
    "        \"\"\"\n",
    "        self.nome = nome\n",
    "        self.musicas = musicas\n",
    "\n",
    "    def __iadd__(self, musica: str) -> \"Playlist\":\n",
    "        \"\"\"\n",
    "        Adiciona uma música à playlist usando o operador +=.\n",
    "\n",
    "        Parâmetro:\n",
    "        - `musica` `string`: música a ser adicionada à playlist\n",
    "\n",
    "        Retorno:\n",
    "        - `Playlist`: a própria playlist\n",
    "        \"\"\"\n",
    "        self.musicas.append(musica)\n",
    "        return self\n",
    "\n",
    "    def __delitem__(self, index: int) -> None:\n",
    "        \"\"\"\n",
    "        Remove a música que está na posição 'index' da playlist.\n",
    "\n",
    "        Parâmetro:\n",
    "        - `index` `int`: posição da música a ser removida\n",
    "        \"\"\"\n",
    "        del self.musicas[index]\n",
    "\n",
    "    def __len__(self) -> int:\n",
    "        \"\"\"\n",
    "        Retorna a quantidade de músicas na playlist.\n",
    "\n",
    "        Retorno:\n",
    "        - `int`: quantidade de músicas na playlist\n",
    "        \"\"\"\n",
    "        return len(self.musicas)\n",
    "\n",
    "    def __getitem__(self, index: int) -> str:\n",
    "        \"\"\"\n",
    "        Retorna a música que está na posição 'index' da playlist.\n",
    "\n",
    "        Parâmetro:\n",
    "        - `index` `int`: posição da música a ser retornada\n",
    "\n",
    "        Retorno:\n",
    "        - `string`: música na posição 'index'\n",
    "        \"\"\"\n",
    "        return self.musicas[index]\n",
    "\n",
    "    def __setitem__(self, index: int, musica: str) -> None:\n",
    "        \"\"\"\n",
    "        Altera a música na posição 'index' para a nova música fornecida.\n",
    "\n",
    "        Parâmetros:\n",
    "        - `index` `int`: posição da música a ser alterada\n",
    "        - `musica` `string`: nova música que substituirá a música na posição 'index'\n",
    "        \"\"\"\n",
    "        self.musicas[index] = musica\n",
    "\n",
    "    def __contains__(self, musica: str) -> bool:\n",
    "        \"\"\"\n",
    "        Verifica se a música fornecida está na playlist.\n",
    "\n",
    "        Parâmetro:\n",
    "        - `musica` `string`: música a ser verificada\n",
    "\n",
    "        Retorno:\n",
    "        - `bool`: True se a música estiver na playlist, False caso contrário\n",
    "        \"\"\"\n",
    "        return musica in self.musicas\n",
    "\n",
    "    def __iter__(self):\n",
    "        \"\"\"\n",
    "        Retorna um iterador para percorrer a playlist.\n",
    "        \"\"\"\n",
    "        return iter(self.musicas)\n",
    "\n",
    "    def __reversed__(self):\n",
    "        \"\"\"\n",
    "        Retorna um iterador que percorre as músicas da playlist em ordem reversa.\n",
    "\n",
    "        Retorno:\n",
    "        - `reversed`: iterador que percorre as músicas da playlist em ordem reversa\n",
    "        \"\"\"\n",
    "        return reversed(self.musicas)\n",
    "\n",
    "    def __str__(self) -> str:\n",
    "        \"\"\"\n",
    "        Retorna uma string representando a playlist, com seu nome e as músicas que ela contém.\n",
    "\n",
    "        Retorno:\n",
    "        - `string`: representação da playlist\n",
    "        \"\"\"\n",
    "        return f\"{self.nome}\\n\" + \"\\n\".join(\n",
    "            f\"{i + 1}. {musica}\" for i, musica in enumerate(self.musicas)\n",
    "        )"
   ]
  },
  {
   "cell_type": "markdown",
   "metadata": {},
   "source": [
    "> - `\"Playlist\"`: É um tipo de retorno em uma anotação de função, as aspas indicam que estamos utilizando uma **forward reference**. Ou seja, estamos referenciando uma classe que pode ainda não estar definida no momento em que o interpretador lê a anotação. Essa técnica permite que o Python reconheça o tipo, mesmo que sua definição venha depois no código. Fonte: [Typing - Support for type hints](https://docs.python.org/3/library/typing.html#typing.Self).\n",
    "> - `iter()`: Permite que a classe seja percorrida em um loop. Fonte: [Iteradores](https://docs.python.org/pt-br/3/tutorial/classes.html#iterators).\n",
    "> - `reversed()`: Fornece um iterador que permite percorrer as músicas em ordem inversa, sem modificar a lista original. Fonte: [Funções Embutidas - Reversed](https://docs.python.org/pt-br/3/library/functions.html#reversed)."
   ]
  },
  {
   "cell_type": "markdown",
   "metadata": {},
   "source": [
    "Agora que criamos a classe `Playlist`, e todos os métodos _dunder_, chegou a hora de utilizá-la!"
   ]
  },
  {
   "cell_type": "code",
   "execution_count": 2,
   "metadata": {},
   "outputs": [],
   "source": [
    "nome_playlist = \"Rock dos anos 80\"\n",
    "musicas_playlist = [\n",
    "    \"Sweet Child O' Mine\",\n",
    "    \"Another Brick in the Wall\",\n",
    "    \"Eye of the Tiger\",\n",
    "    \"Livin' on a Prayer\",\n",
    "    \"Every Breath You Take\",\n",
    "    \"Take on Me\",\n",
    "    \"Billie Jean\",\n",
    "    \"Don't Stop Believin'\",\n",
    "    \"Beat It\",\n",
    "    \"With or Without You\",\n",
    "]"
   ]
  },
  {
   "cell_type": "markdown",
   "metadata": {},
   "source": [
    "Agora que criei a minha playlist e fiz uma lista com minhas músicas favoritas de rock dos anos 80, vamos usar a nossa classe `Playlist` para gerenciar essas músicas. Vamos adicionar, remover, acessar e verificar se as músicas estão na playlist. Além disso, vamos percorrer a playlist e exibir as músicas em ordem e em ordem reversa."
   ]
  },
  {
   "cell_type": "code",
   "execution_count": 3,
   "metadata": {},
   "outputs": [],
   "source": [
    "playlist = Playlist(nome_playlist, musicas_playlist)"
   ]
  },
  {
   "cell_type": "markdown",
   "metadata": {},
   "source": [
    "Agora que eu instaciei a classe na variável `playlist`, vamos utilizar essa instância através dos métodos implementados na classe. Vamos começar adicionando uma música à nossa playlist usando o operador `+=`."
   ]
  },
  {
   "cell_type": "code",
   "execution_count": 4,
   "metadata": {},
   "outputs": [
    {
     "name": "stdout",
     "output_type": "stream",
     "text": [
      "Playlist após adicionar uma música: \n",
      "\n",
      "Rock dos anos 80\n",
      "1. Sweet Child O' Mine\n",
      "2. Another Brick in the Wall\n",
      "3. Eye of the Tiger\n",
      "4. Livin' on a Prayer\n",
      "5. Every Breath You Take\n",
      "6. Take on Me\n",
      "7. Billie Jean\n",
      "8. Don't Stop Believin'\n",
      "9. Beat It\n",
      "10. With or Without You\n",
      "11. Bohemian Rhapsody\n"
     ]
    }
   ],
   "source": [
    "print(\"Playlist após adicionar uma música: \\n\")\n",
    "\n",
    "playlist += \"Bohemian Rhapsody\"\n",
    "print(playlist)"
   ]
  },
  {
   "cell_type": "markdown",
   "metadata": {},
   "source": [
    "Agora que adicionamos uma música, por que não remover outra? Vamos usar o comando `del` para remover a música que está na posição 2 da playlist (lembre-se que os índice em uma lista sempre começa com valor 0, logo, o índice 2 é a 3ª música)."
   ]
  },
  {
   "cell_type": "code",
   "execution_count": 5,
   "metadata": {},
   "outputs": [
    {
     "name": "stdout",
     "output_type": "stream",
     "text": [
      "Playlist após remover uma música: \n",
      "\n",
      "Rock dos anos 80\n",
      "1. Sweet Child O' Mine\n",
      "2. Another Brick in the Wall\n",
      "3. Livin' on a Prayer\n",
      "4. Every Breath You Take\n",
      "5. Take on Me\n",
      "6. Billie Jean\n",
      "7. Don't Stop Believin'\n",
      "8. Beat It\n",
      "9. With or Without You\n",
      "10. Bohemian Rhapsody\n"
     ]
    }
   ],
   "source": [
    "print(\"Playlist após remover uma música: \\n\")\n",
    "\n",
    "del playlist[2]\n",
    "print(playlist)"
   ]
  },
  {
   "cell_type": "markdown",
   "metadata": {},
   "source": [
    "Legal! Removemos a música \"Eye of the Tiger\" da nossa playlist. Agora, vamos verificar quantas músicas temos na playlist. Para isso, vamos utilizar a função `len()`."
   ]
  },
  {
   "cell_type": "code",
   "execution_count": 6,
   "metadata": {},
   "outputs": [
    {
     "name": "stdout",
     "output_type": "stream",
     "text": [
      "Quantidade de músicas na playlist: \n",
      "\n",
      "10\n"
     ]
    }
   ],
   "source": [
    "print(\"Quantidade de músicas na playlist: \\n\")\n",
    "\n",
    "print(len(playlist))"
   ]
  },
  {
   "cell_type": "markdown",
   "metadata": {},
   "source": [
    "Temos 10 músicas! Agora, vamos acessar a música que está na posição 5 da playlist. Para isso, vamos utilizar a indexação, usando os colchetes na nossa instância."
   ]
  },
  {
   "cell_type": "code",
   "execution_count": 7,
   "metadata": {},
   "outputs": [
    {
     "name": "stdout",
     "output_type": "stream",
     "text": [
      "Música na posição 4: \n",
      "\n",
      "Every Breath You Take\n"
     ]
    }
   ],
   "source": [
    "print(\"Música na posição 4: \\n\")\n",
    "\n",
    "print(playlist[3])"
   ]
  },
  {
   "cell_type": "markdown",
   "metadata": {},
   "source": [
    "Então, nossa 4ª música é \"Every Breath You Take\". Agora, vamos alterar a música que está na posição 4 da playlist para \"Another Brick in the Wall\". Para isso, vamos utilizar a indexação e o operador de atribuição."
   ]
  },
  {
   "cell_type": "code",
   "execution_count": 8,
   "metadata": {},
   "outputs": [
    {
     "name": "stdout",
     "output_type": "stream",
     "text": [
      "Música na posição 4 após alteração: \n",
      "\n",
      "Rock dos anos 80\n",
      "1. Sweet Child O' Mine\n",
      "2. Another Brick in the Wall\n",
      "3. Livin' on a Prayer\n",
      "4. Don't Stop Me Now\n",
      "5. Take on Me\n",
      "6. Billie Jean\n",
      "7. Don't Stop Believin'\n",
      "8. Beat It\n",
      "9. With or Without You\n",
      "10. Bohemian Rhapsody\n"
     ]
    }
   ],
   "source": [
    "print(\"Música na posição 4 após alteração: \\n\")\n",
    "\n",
    "playlist[3] = \"Don't Stop Me Now\"\n",
    "print(playlist)"
   ]
  },
  {
   "cell_type": "markdown",
   "metadata": {},
   "source": [
    "Nós acabamos de atualizar uma música na nossa playlist! Agora, vamos verificar se a música \"Another Brick in the Wall\" está na playlist. Para isso, vamos utilizar o operador `in`."
   ]
  },
  {
   "cell_type": "code",
   "execution_count": 9,
   "metadata": {},
   "outputs": [
    {
     "name": "stdout",
     "output_type": "stream",
     "text": [
      "A música 'Take on Me' está na playlist? \n",
      "\n",
      "True\n"
     ]
    }
   ],
   "source": [
    "print(\"A música 'Take on Me' está na playlist? \\n\")\n",
    "\n",
    "print(\"Take on Me\" in playlist)"
   ]
  },
  {
   "cell_type": "markdown",
   "metadata": {},
   "source": [
    "Show! Está funcionando. Foi retornado `True` que a música \"Take on Me\" está na playlist. Agora, vamos percorrer a playlist e exibir todas as músicas que ela contém usando um loop `for`, pois nossa classe possui um método `__iter__`."
   ]
  },
  {
   "cell_type": "code",
   "execution_count": 10,
   "metadata": {},
   "outputs": [
    {
     "name": "stdout",
     "output_type": "stream",
     "text": [
      "Músicas da playlist: \n",
      "\n",
      "Sweet Child O' Mine\n",
      "Another Brick in the Wall\n",
      "Livin' on a Prayer\n",
      "Don't Stop Me Now\n",
      "Take on Me\n",
      "Billie Jean\n",
      "Don't Stop Believin'\n",
      "Beat It\n",
      "With or Without You\n",
      "Bohemian Rhapsody\n"
     ]
    }
   ],
   "source": [
    "print(\"Músicas da playlist: \\n\")\n",
    "\n",
    "for musica in playlist:\n",
    "    print(musica)"
   ]
  },
  {
   "cell_type": "markdown",
   "metadata": {},
   "source": [
    "Excelente! Conseguimos ver todas as nossas músicas. Agora, vamos percorrer a playlist em ordem reversa e exibir as músicas que ela contém. Para isso, vamos utilizar a função `reversed()`."
   ]
  },
  {
   "cell_type": "code",
   "execution_count": 11,
   "metadata": {},
   "outputs": [
    {
     "name": "stdout",
     "output_type": "stream",
     "text": [
      "Músicas da playlist em ordem reversa: \n",
      "\n",
      "Bohemian Rhapsody\n",
      "With or Without You\n",
      "Beat It\n",
      "Don't Stop Believin'\n",
      "Billie Jean\n",
      "Take on Me\n",
      "Don't Stop Me Now\n",
      "Livin' on a Prayer\n",
      "Another Brick in the Wall\n",
      "Sweet Child O' Mine\n"
     ]
    }
   ],
   "source": [
    "print(\"Músicas da playlist em ordem reversa: \\n\")\n",
    "\n",
    "for musica in reversed(playlist):\n",
    "    print(musica)"
   ]
  },
  {
   "cell_type": "markdown",
   "metadata": {},
   "source": [
    "Por fim, vamos ver como a nossa playlist está ficando. Vamos exibir a playlist como uma string, utilizando a função `print()`. A visualização da nossa instância será feita através do método `__str__`."
   ]
  },
  {
   "cell_type": "code",
   "execution_count": 12,
   "metadata": {},
   "outputs": [
    {
     "name": "stdout",
     "output_type": "stream",
     "text": [
      "Minha playlist: \n",
      "\n",
      "Rock dos anos 80\n",
      "1. Sweet Child O' Mine\n",
      "2. Another Brick in the Wall\n",
      "3. Livin' on a Prayer\n",
      "4. Don't Stop Me Now\n",
      "5. Take on Me\n",
      "6. Billie Jean\n",
      "7. Don't Stop Believin'\n",
      "8. Beat It\n",
      "9. With or Without You\n",
      "10. Bohemian Rhapsody\n"
     ]
    }
   ],
   "source": [
    "print(\"Minha playlist: \\n\")\n",
    "\n",
    "print(playlist)"
   ]
  },
  {
   "cell_type": "markdown",
   "metadata": {},
   "source": [
    "Genial! Conseguimos gerenciar a nossa playlist de músicas favoritas. E assim, derrotamos mais um monstro, explorando pela vasta floresta do Reino de Lumi. Mas, acho que ainda há muito mais monstros para enfrentar. Ganhamos recompensas e vamos continuar avançando."
   ]
  }
 ],
 "metadata": {
  "kernelspec": {
   "display_name": "Python 3",
   "language": "python",
   "name": "python3"
  },
  "language_info": {
   "codemirror_mode": {
    "name": "ipython",
    "version": 3
   },
   "file_extension": ".py",
   "mimetype": "text/x-python",
   "name": "python",
   "nbconvert_exporter": "python",
   "pygments_lexer": "ipython3",
   "version": "3.11.6"
  }
 },
 "nbformat": 4,
 "nbformat_minor": 2
}
