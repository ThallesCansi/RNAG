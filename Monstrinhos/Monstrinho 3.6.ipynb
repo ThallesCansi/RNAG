{
 "cells": [
  {
   "cell_type": "markdown",
   "id": "c47add3f",
   "metadata": {},
   "source": [
    "# 🧌 Monstrinho 3.6"
   ]
  },
  {
   "cell_type": "markdown",
   "id": "35705970",
   "metadata": {},
   "source": [
    "Não é possível. Mais um dia amanhece em LUMI e mais um monstro ataca o reino. Está na hora de acabar com isso. Para acabar com esse monstro, vamos continuar usando nossos aprendizados em Redes Neurais, construindo uma rede do zero, como nosso mago Mor nos ensinou, e criar uma curva de aprendizado. Então, vamos lá!"
   ]
  },
  {
   "cell_type": "markdown",
   "id": "7fda5d84",
   "metadata": {},
   "source": [
    "Só para iniciarmos, vamos colocar aqui as classes importantes para criar uma rede neural do zero:\n",
    "\n",
    "- `Valor`\n",
    "- `Neurônio`\n",
    "- `Camada`\n",
    "- `MLP`"
   ]
  },
  {
   "cell_type": "markdown",
   "id": "24d419a9",
   "metadata": {},
   "source": [
    "## 🔢 Valor"
   ]
  },
  {
   "cell_type": "markdown",
   "id": "605a3725",
   "metadata": {},
   "source": [
    "Esta é a classe Valor, que representa um valor numérico com suporte a diferenciação automática. Ela possui métodos para operações matemáticas, como adição, subtração, multiplicação e exponenciação, além de métodos para calcular a função sigmoide e backpropagation. É notório lembrar que seja possível realizar os cálculos mesmo com ordem invertida, onde o objeto Valor pode ser o primeiro ou segundo operando."
   ]
  },
  {
   "cell_type": "code",
   "execution_count": 1,
   "id": "e7398ebe",
   "metadata": {},
   "outputs": [],
   "source": [
    "import math\n",
    "\n",
    "class Valor:\n",
    "    \"\"\"\n",
    "    Classe que representa um valor numérico com suporte a diferenciação automática.\n",
    "    \n",
    "    Cada instância armazena:\n",
    "      - data: o valor numérico.\n",
    "      - progenitor: tupla com os valores dos quais este foi derivado.\n",
    "      - operador_mae: string representando a operação que gerou o valor.\n",
    "      - grad: gradiente (inicialmente zero) usado no backpropagation.\n",
    "    \"\"\"\n",
    "    def __init__(self, data, progenitor=(), operador_mae=\"\", rotulo=\"\"):\n",
    "        \"\"\"\n",
    "        Inicializa uma instância de Valor.\n",
    "        \n",
    "        Args:\n",
    "            data (float): o valor numérico.\n",
    "            progenitor (tuple): valores anteriores que contribuíram para este.\n",
    "            operador_mae (str): operação que gerou o valor.\n",
    "            rotulo (str): rótulo opcional para identificação.\n",
    "        \"\"\"\n",
    "        self.data = data\n",
    "        self.progenitor = progenitor\n",
    "        self.operador_mae = operador_mae\n",
    "        self.rotulo = rotulo\n",
    "        self.grad = 0\n",
    "\n",
    "    def __repr__(self):\n",
    "        \"\"\"Retorna uma representação string simplificada do objeto.\"\"\"\n",
    "        return f\"Valor(data={self.data})\"\n",
    "\n",
    "    def __add__(self, outro_valor):\n",
    "        \"\"\"\n",
    "        Sobrecarga do operador de adição.\n",
    "        \n",
    "        Realiza a operação: self + outro_valor.\n",
    "        \n",
    "        Args:\n",
    "            outro_valor (Valor ou número): valor a ser somado.\n",
    "        \n",
    "        Returns:\n",
    "            Valor: novo objeto representando a soma.\n",
    "        \"\"\"\n",
    "        if not isinstance(outro_valor, Valor):\n",
    "            outro_valor = Valor(outro_valor)\n",
    "            \n",
    "        progenitor = (self, outro_valor)\n",
    "        data = self.data + outro_valor.data\n",
    "        operador_mae = \"+\"\n",
    "        resultado = Valor(data, progenitor, operador_mae)\n",
    "        \n",
    "        def propagar_adicao():\n",
    "            self.grad += resultado.grad\n",
    "            outro_valor.grad += resultado.grad\n",
    "            \n",
    "        resultado.propagar = propagar_adicao\n",
    "        \n",
    "        return resultado\n",
    "\n",
    "    def __mul__(self, outro_valor):\n",
    "        \"\"\"\n",
    "        Sobrecarga do operador de multiplicação.\n",
    "        \n",
    "        Realiza a operação: self * outro_valor.\n",
    "        \n",
    "        Args:\n",
    "            outro_valor (Valor ou número): valor a ser multiplicado.\n",
    "        \n",
    "        Returns:\n",
    "            Valor: novo objeto representando o produto.\n",
    "        \"\"\"\n",
    "        if not isinstance(outro_valor, Valor):\n",
    "            outro_valor = Valor(outro_valor)\n",
    "            \n",
    "        progenitor = (self, outro_valor)\n",
    "        data = self.data * outro_valor.data\n",
    "        operador_mae = \"*\"\n",
    "        resultado = Valor(data, progenitor, operador_mae)\n",
    "        \n",
    "        def propagar_multiplicacao():\n",
    "            self.grad += resultado.grad * outro_valor.data\n",
    "            outro_valor.grad += resultado.grad * self.data\n",
    "            \n",
    "        resultado.propagar = propagar_multiplicacao\n",
    "        \n",
    "        return resultado\n",
    "\n",
    "    def exp(self):\n",
    "        \"\"\"\n",
    "        Calcula a exponencial do valor.\n",
    "        \n",
    "        Realiza a operação: exp(self).\n",
    "        \n",
    "        Returns:\n",
    "            Valor: novo objeto representando a exponencial.\n",
    "        \"\"\"\n",
    "        progenitor = (self, )\n",
    "        data = math.exp(self.data)\n",
    "        operador_mae = \"exp\"\n",
    "        resultado = Valor(data, progenitor, operador_mae)\n",
    "        \n",
    "        def propagar_exp():\n",
    "            self.grad += resultado.grad * data \n",
    "        \n",
    "        resultado.propagar = propagar_exp\n",
    "        \n",
    "        return resultado\n",
    "\n",
    "    def __pow__(self, expoente):\n",
    "        \"\"\"\n",
    "        Sobrecarga do operador de exponenciação.\n",
    "        \n",
    "        Realiza a operação: self ** expoente.\n",
    "        \n",
    "        Args:\n",
    "            expoente (int ou float): expoente da operação.\n",
    "        \n",
    "        Returns:\n",
    "            Valor: novo objeto representando a exponenciação.\n",
    "        \"\"\"\n",
    "        assert isinstance(expoente, (int, float)), \"Expoente deve ser um número.\"\n",
    "        progenitor = (self, )\n",
    "        data = self.data ** expoente\n",
    "        operador_mae = f\"**{expoente}\"\n",
    "        resultado = Valor(data, progenitor, operador_mae)\n",
    "        \n",
    "        def propagar_pow():\n",
    "            self.grad += resultado.grad * (expoente * self.data ** (expoente - 1))\n",
    "        \n",
    "        resultado.propagar = propagar_pow\n",
    "        \n",
    "        return resultado\n",
    "\n",
    "    def __truediv__(self, outro_valor):\n",
    "        \"\"\"\n",
    "        Sobrecarga do operador de divisão.\n",
    "        \n",
    "        Realiza a operação: self / outro_valor.\n",
    "        \n",
    "        Args:\n",
    "            outro_valor (Valor ou número): divisor.\n",
    "        \n",
    "        Returns:\n",
    "            Valor: novo objeto representando a divisão.\n",
    "        \"\"\"\n",
    "        return self * outro_valor ** (-1)\n",
    "\n",
    "    def __neg__(self):\n",
    "        \"\"\"\n",
    "        Sobrecarga do operador de negação.\n",
    "        \n",
    "        Realiza a operação: -self.\n",
    "        \n",
    "        Returns:\n",
    "            Valor: novo objeto representando o valor negativo.\n",
    "        \"\"\"\n",
    "        return self * -1\n",
    "\n",
    "    def __sub__(self, outro_valor):\n",
    "        \"\"\"\n",
    "        Sobrecarga do operador de subtração.\n",
    "        \n",
    "        Realiza a operação: self - outro_valor.\n",
    "        \n",
    "        Args:\n",
    "            outro_valor (Valor ou número): valor a ser subtraído.\n",
    "        \n",
    "        Returns:\n",
    "            Valor: novo objeto representando a subtração.\n",
    "        \"\"\"\n",
    "        return self + (-outro_valor)\n",
    "\n",
    "    def __radd__(self, outro_valor):\n",
    "        \"\"\"\n",
    "        Sobrecarga do operador de adição reversa.\n",
    "        \n",
    "        Permite operações onde Valor está à direita: outro_valor + self.\n",
    "        \n",
    "        Args:\n",
    "            outro_valor (Valor ou número): valor a ser somado.\n",
    "        \n",
    "        Returns:\n",
    "            Valor: resultado da adição.\n",
    "        \"\"\"\n",
    "        return self + outro_valor\n",
    "\n",
    "    def __rmul__(self, outro_valor):\n",
    "        \"\"\"\n",
    "        Sobrecarga do operador de multiplicação reversa.\n",
    "        \n",
    "        Permite operações onde Valor está à direita: outro_valor * self.\n",
    "        \n",
    "        Args:\n",
    "            outro_valor (Valor ou número): valor a ser multiplicado.\n",
    "        \n",
    "        Returns:\n",
    "            Valor: resultado da multiplicação.\n",
    "        \"\"\"\n",
    "        return self * outro_valor\n",
    "\n",
    "    def sig(self):\n",
    "        \"\"\"\n",
    "        Calcula a função sigmoide.\n",
    "        \n",
    "        Realiza a operação: exp(self) / (exp(self) + 1).\n",
    "        \n",
    "        Returns:\n",
    "            Valor: novo objeto representando o resultado da sigmoide.\n",
    "        \"\"\"\n",
    "        return self.exp() / (self.exp() + 1)\n",
    "\n",
    "    def propagar(self):\n",
    "        \"\"\"\n",
    "        Função de propagação (backpropagation) do gradiente.\n",
    "        \n",
    "        Este método deve ser sobrescrito pelas operações específicas.\n",
    "        \"\"\"\n",
    "        pass\n",
    "\n",
    "    def propagar_tudo(self):\n",
    "        \"\"\"\n",
    "        Executa o backpropagation através de todos os nós (valores) conectados.\n",
    "        \n",
    "        Atribui gradiente 1 ao vértice folha e propaga recursivamente utilizando uma ordem topológica dos nós.\n",
    "        \"\"\"\n",
    "        self.grad = 1\n",
    "        ordem_topologica = []\n",
    "        visitados = set()\n",
    "\n",
    "        def constroi_ordem_topologica(v):\n",
    "            if v not in visitados:\n",
    "                visitados.add(v)\n",
    "                for progenitor in v.progenitor:\n",
    "                    constroi_ordem_topologica(progenitor)\n",
    "                ordem_topologica.append(v)\n",
    "\n",
    "        constroi_ordem_topologica(self)\n",
    "\n",
    "        for vertice in reversed(ordem_topologica):\n",
    "            vertice.propagar()\n"
   ]
  },
  {
   "cell_type": "markdown",
   "id": "6e4d6268",
   "metadata": {},
   "source": [
    "## 🤓 Neurônio"
   ]
  },
  {
   "cell_type": "markdown",
   "id": "a583da35",
   "metadata": {},
   "source": [
    "A classe Neurônio representa um neurônio em uma rede neural. Ela possui pesos e um viés, que são inicializados aleatoriamente. O neurônio calcula a saída usando a função sigmoide e realiza o backpropagation para atualizar os pesos e o viés com base no erro da previsão."
   ]
  },
  {
   "cell_type": "code",
   "execution_count": 2,
   "id": "dd31ecb4",
   "metadata": {},
   "outputs": [],
   "source": [
    "import random\n",
    "\n",
    "\n",
    "class Neuronio:\n",
    "    \"\"\"\n",
    "    Representa um neurônio simples com pesos e viés para uso em uma rede neural.\n",
    "\n",
    "    Este neurônio utiliza a classe Valor para armazenar seus parâmetros e realizar a\n",
    "    diferenciação automática durante o treinamento.\n",
    "    \"\"\"\n",
    "\n",
    "    def __init__(self, num_dados_entrada, ativacao=\"sigmoid\"):\n",
    "        \"\"\"\n",
    "        Inicializa um neurônio com pesos e viés aleatórios.\n",
    "        \n",
    "        Args:\n",
    "            num_dados_entrada (int): número de entradas do neurônio.\n",
    "            ativacao (str): função de ativação a ser utilizada. Opções: \"sigmoid\", \"relu\", \"tanh\" e \"leaky_relu\".\n",
    "        \"\"\"\n",
    "        self.vies = Valor(random.uniform(-1, 1))\n",
    "\n",
    "        self.pesos = []\n",
    "        for i in range(num_dados_entrada):\n",
    "            self.pesos.append(Valor(random.uniform(-1, 1)))\n",
    "\n",
    "        if ativacao == \"sigmoid\":\n",
    "            self.ativacao = lambda x: x.sig()\n",
    "        elif ativacao == \"relu\":\n",
    "            self.ativacao = lambda x: x.relu()\n",
    "        elif ativacao == \"tanh\":\n",
    "            self.ativacao = lambda x: x.tanh()\n",
    "        elif ativacao == \"leaky_relu\":\n",
    "            self.ativacao = lambda x: x.leaky_relu()\n",
    "        else:\n",
    "            raise ValueError(f\"Função de ativação '{ativacao}' não suportada.\")\n",
    "\n",
    "    def __call__(self, x):\n",
    "        \"\"\"\n",
    "        Realiza a passagem forward do neurônio.\n",
    "\n",
    "        Calcula a soma ponderada das entradas e aplica a função sigmoide para\n",
    "        determinar a saída do neurônio.\n",
    "\n",
    "        Args:\n",
    "            x (list[Valor]): lista de objetos Valor representando as entradas.\n",
    "\n",
    "        Returns:\n",
    "            Valor: objeto Valor representando a saída do neurônio.\n",
    "        \"\"\"\n",
    "        assert len(x) == len(\n",
    "            self.pesos\n",
    "        ), \"O número de entradas deve ser igual ao número de pesos.\"\n",
    "\n",
    "        soma = 0\n",
    "        for info_entrada, peso_interno in zip(x, self.pesos):\n",
    "            soma += info_entrada * peso_interno\n",
    "\n",
    "        soma += self.vies\n",
    "\n",
    "        return self.ativacao(soma)\n",
    "\n",
    "    def parametros(self):\n",
    "        \"\"\"\n",
    "        Retorna uma lista com os parâmetros do neurônio (pesos e viés).\n",
    "\n",
    "        Returns:\n",
    "            list[Valor]: lista contendo os pesos e o viés.\n",
    "        \"\"\"\n",
    "        return self.pesos + [self.vies]"
   ]
  },
  {
   "cell_type": "markdown",
   "id": "7490fe47",
   "metadata": {},
   "source": [
    "Uma pequena alteração ocorreu na classe `Neuronio` para permitir a utilização de funções de ativação diferentes. Para isso, foi adicionado um parâmetro `ativacao` no construtor da classe. Esse parâmetro pode ser uma função de ativação como `sigmoide`, `relu`, `tanh` ou `leaky_relu`. O método `ativar` agora utiliza essa função de ativação para calcular a saída do neurônio."
   ]
  },
  {
   "cell_type": "markdown",
   "id": "05d026e2",
   "metadata": {},
   "source": [
    "## 🎂 Camada"
   ]
  },
  {
   "cell_type": "markdown",
   "id": "8b0596da",
   "metadata": {},
   "source": [
    "A classe Camada representa uma camada de neurônios em uma rede neural. Ela possui um número específico de neurônios e é responsável por calcular a saída da camada com base nas entradas recebidas. Realiza o forward pass e agrega os parametros de cada neurônio."
   ]
  },
  {
   "cell_type": "code",
   "execution_count": 3,
   "id": "1b33f8d7",
   "metadata": {},
   "outputs": [],
   "source": [
    "class Camada:\n",
    "    \"\"\"\n",
    "    Representa uma camada em uma rede neural composta por múltiplos neurônios.\n",
    "\n",
    "    Cada camada gerencia um conjunto de neurônios, realizando a passagem forward\n",
    "    e agregando os parâmetros (pesos e viés) de cada neurônio.\n",
    "    \"\"\"\n",
    "\n",
    "    def __init__(self, num_neuronios, num_dados_entrada, ativacao=\"sigmoid\"):\n",
    "        \"\"\"\n",
    "        Inicializa a camada com um número específico de neurônios, cada um com\n",
    "        um determinado número de entradas.\n",
    "\n",
    "        Args:\n",
    "            num_neuronios (int): número de neurônios na camada.\n",
    "            num_dados_entrada (int): número de entradas para cada neurônio.\n",
    "        \"\"\"\n",
    "        self.neuronios = []\n",
    "        for _ in range(num_neuronios):\n",
    "            neuronio = Neuronio(num_dados_entrada, ativacao=ativacao)\n",
    "            self.neuronios.append(neuronio)\n",
    "\n",
    "    def __call__(self, x):\n",
    "        \"\"\"\n",
    "        Realiza a passagem forward na camada.\n",
    "\n",
    "        Aplica cada neurônio da camada à mesma entrada e retorna os dados de saída.\n",
    "\n",
    "        Args:\n",
    "            x (list[Valor]): lista de objetos Valor representando as entradas da camada.\n",
    "\n",
    "        Returns:\n",
    "            Valor ou list[Valor]: saída de um único neurônio se houver apenas um,\n",
    "            ou lista com as saídas de todos os neurônios.\n",
    "        \"\"\"\n",
    "        dados_de_saida = []\n",
    "        for neuronio in self.neuronios:\n",
    "            informacao = neuronio(x)\n",
    "            dados_de_saida.append(informacao)\n",
    "\n",
    "        if len(dados_de_saida) == 1:\n",
    "            return dados_de_saida[0]\n",
    "        else:\n",
    "            return dados_de_saida\n",
    "\n",
    "    def parametros(self):\n",
    "        \"\"\"\n",
    "        Agrega e retorna todos os parâmetros (pesos e viés) de cada neurônio da camada.\n",
    "\n",
    "        Returns:\n",
    "            list[Valor]: lista contendo todos os parâmetros dos neurônios da camada.\n",
    "        \"\"\"\n",
    "        params = []\n",
    "        for neuronio in self.neuronios:\n",
    "            params_neuronio = neuronio.parametros()\n",
    "            params.extend(params_neuronio)\n",
    "\n",
    "        return params"
   ]
  },
  {
   "cell_type": "markdown",
   "id": "bec9eb40",
   "metadata": {},
   "source": [
    "A classe `Camada` também foi alterada para permitir a utilização de funções de ativação diferentes. O construtor agora aceita um parâmetro `ativacao` que pode ser uma função de ativação como `sigmoide`, `relu`, `tanh` ou `leaky_relu`. O método `ativar` utiliza essa função de ativação para calcular a saída da camada."
   ]
  },
  {
   "cell_type": "markdown",
   "id": "d349a372",
   "metadata": {},
   "source": [
    "## 🧠 MLP"
   ]
  },
  {
   "cell_type": "markdown",
   "id": "59dbd6ab",
   "metadata": {},
   "source": [
    "Por fim, nossa última classe da nossa rede neural é a `MLP` (Multi-Layer Perceptron). Ela representa uma rede neural com múltiplas camadas. A `MLP` organiza as camadas da rede, permitindo a passagem forward dos dados e a agregação dos parâmetros de todas as camadas."
   ]
  },
  {
   "cell_type": "code",
   "execution_count": 4,
   "id": "af3fc82b",
   "metadata": {},
   "outputs": [],
   "source": [
    "class MLP:\n",
    "    \"\"\"\n",
    "    Representa uma rede neural do tipo MLP (Multi-Layer Perceptron).\n",
    "\n",
    "    Essa classe organiza as camadas da rede, permitindo a passagem forward dos dados e\n",
    "    a agregação dos parâmetros (pesos e viés) de todas as camadas.\n",
    "    \"\"\"\n",
    "\n",
    "    def __init__(self, num_dados_entrada, num_neuronios_por_camada, ativacao=\"sigmoid\"):\n",
    "        \"\"\"\n",
    "        Inicializa a MLP com um número definido de entradas e uma lista que especifica\n",
    "        o número de neurônios em cada camada.\n",
    "\n",
    "        Args:\n",
    "            num_dados_entrada (int): número de entradas da rede.\n",
    "            num_neuronios_por_camada (list[int]): lista com o número de neurônios para cada camada.\n",
    "        \"\"\"\n",
    "        percurso = [num_dados_entrada] + num_neuronios_por_camada\n",
    "\n",
    "        camadas = []\n",
    "        for i in range(len(num_neuronios_por_camada)):\n",
    "            camada = Camada(num_neuronios_por_camada[i], percurso[i], ativacao=ativacao)\n",
    "            camadas.append(camada)\n",
    "\n",
    "        self.camadas = camadas\n",
    "\n",
    "    def __call__(self, x):\n",
    "        \"\"\"\n",
    "        Realiza a passagem forward pela rede.\n",
    "\n",
    "        Cada camada processa a entrada e o resultado é passado para a próxima camada.\n",
    "\n",
    "        Args:\n",
    "            x (list[Valor] ou Valor): dados de entrada para a rede.\n",
    "\n",
    "        Returns:\n",
    "            Valor ou list[Valor]: saída final da rede após a passagem por todas as camadas.\n",
    "        \"\"\"\n",
    "        for camada in self.camadas:\n",
    "            x = camada(x)\n",
    "        return x\n",
    "\n",
    "    def parametros(self):\n",
    "        \"\"\"\n",
    "        Agrega e retorna todos os parâmetros (pesos e viés) de todas as camadas da rede.\n",
    "\n",
    "        Returns:\n",
    "            list[Valor]: lista contendo os parâmetros de cada camada.\n",
    "        \"\"\"\n",
    "        params = []\n",
    "        for camada in self.camadas:\n",
    "            parametros_camada = camada.parametros()\n",
    "            params.extend(parametros_camada)\n",
    "\n",
    "        return params"
   ]
  },
  {
   "cell_type": "markdown",
   "id": "42c2210f",
   "metadata": {},
   "source": [
    "Por fim, a classe `MLP` também foi alterada para permitir a utilização de funções de ativação diferentes. O construtor agora aceita um parâmetro `ativacao` que pode ser uma função de ativação como `sigmoide`, `relu`, `tanh` ou `leaky_relu`. O método `ativar` utiliza essa função de ativação para calcular a saída da rede neural."
   ]
  },
  {
   "cell_type": "markdown",
   "id": "844dee91",
   "metadata": {},
   "source": [
    "## 🏁 Vamos iniciar"
   ]
  },
  {
   "cell_type": "markdown",
   "id": "c7d17c89",
   "metadata": {},
   "source": [
    "Agora que já definimos nossas classes, as importantes classes da nossa Rede Neural feita em Python puro, vamos destrinchar esse monstrinho. O que precisamos fazer é importar alguns dados, realizar o treinamento dessa rede neural, observando a evolução da nossa rede com os dados de treino e as validações, dessa maneira podemos fazer uma curva de aprendizado. As curvas de aprendizado são gráficos usados para mostrar o desempenho de um modelo à medida que o tamanho do conjunto de treinamento aumenta [1]."
   ]
  },
  {
   "cell_type": "markdown",
   "id": "0cbfbbb3",
   "metadata": {},
   "source": [
    "Vamos começar importando as bibliotecas que vamos usar"
   ]
  },
  {
   "cell_type": "code",
   "execution_count": 5,
   "id": "9b5a9721",
   "metadata": {},
   "outputs": [],
   "source": [
    "import random\n",
    "import seaborn as sns\n",
    "import matplotlib.pyplot as plt"
   ]
  },
  {
   "cell_type": "markdown",
   "id": "fd5243ff",
   "metadata": {},
   "source": [
    "Vamos agora pegar o conjunto de dados ``tips`` do **Seaborn** que é um conjunto de dados que contém informações sobre gorjetas em restaurantes. O conjunto de dados inclui colunas como ``total_bill`` (valor total da conta), ``tip`` (gorjeta), ``sex`` (sexo do cliente), ``smoker`` (se o cliente é fumante ou não), ``day`` (dia da semana), ``time`` (refeição) e ``size`` (tamanho da mesa). O objetivo é prever a gorjeta com base no total da conta [2]."
   ]
  },
  {
   "cell_type": "code",
   "execution_count": 6,
   "id": "e9879d61",
   "metadata": {},
   "outputs": [
    {
     "data": {
      "text/html": [
       "<div>\n",
       "<style scoped>\n",
       "    .dataframe tbody tr th:only-of-type {\n",
       "        vertical-align: middle;\n",
       "    }\n",
       "\n",
       "    .dataframe tbody tr th {\n",
       "        vertical-align: top;\n",
       "    }\n",
       "\n",
       "    .dataframe thead th {\n",
       "        text-align: right;\n",
       "    }\n",
       "</style>\n",
       "<table border=\"1\" class=\"dataframe\">\n",
       "  <thead>\n",
       "    <tr style=\"text-align: right;\">\n",
       "      <th></th>\n",
       "      <th>total_bill</th>\n",
       "      <th>tip</th>\n",
       "      <th>sex</th>\n",
       "      <th>smoker</th>\n",
       "      <th>day</th>\n",
       "      <th>time</th>\n",
       "      <th>size</th>\n",
       "    </tr>\n",
       "  </thead>\n",
       "  <tbody>\n",
       "    <tr>\n",
       "      <th>0</th>\n",
       "      <td>16.99</td>\n",
       "      <td>1.01</td>\n",
       "      <td>Female</td>\n",
       "      <td>No</td>\n",
       "      <td>Sun</td>\n",
       "      <td>Dinner</td>\n",
       "      <td>2</td>\n",
       "    </tr>\n",
       "    <tr>\n",
       "      <th>1</th>\n",
       "      <td>10.34</td>\n",
       "      <td>1.66</td>\n",
       "      <td>Male</td>\n",
       "      <td>No</td>\n",
       "      <td>Sun</td>\n",
       "      <td>Dinner</td>\n",
       "      <td>3</td>\n",
       "    </tr>\n",
       "    <tr>\n",
       "      <th>2</th>\n",
       "      <td>21.01</td>\n",
       "      <td>3.50</td>\n",
       "      <td>Male</td>\n",
       "      <td>No</td>\n",
       "      <td>Sun</td>\n",
       "      <td>Dinner</td>\n",
       "      <td>3</td>\n",
       "    </tr>\n",
       "    <tr>\n",
       "      <th>3</th>\n",
       "      <td>23.68</td>\n",
       "      <td>3.31</td>\n",
       "      <td>Male</td>\n",
       "      <td>No</td>\n",
       "      <td>Sun</td>\n",
       "      <td>Dinner</td>\n",
       "      <td>2</td>\n",
       "    </tr>\n",
       "    <tr>\n",
       "      <th>4</th>\n",
       "      <td>24.59</td>\n",
       "      <td>3.61</td>\n",
       "      <td>Female</td>\n",
       "      <td>No</td>\n",
       "      <td>Sun</td>\n",
       "      <td>Dinner</td>\n",
       "      <td>4</td>\n",
       "    </tr>\n",
       "  </tbody>\n",
       "</table>\n",
       "</div>"
      ],
      "text/plain": [
       "   total_bill   tip     sex smoker  day    time  size\n",
       "0       16.99  1.01  Female     No  Sun  Dinner     2\n",
       "1       10.34  1.66    Male     No  Sun  Dinner     3\n",
       "2       21.01  3.50    Male     No  Sun  Dinner     3\n",
       "3       23.68  3.31    Male     No  Sun  Dinner     2\n",
       "4       24.59  3.61  Female     No  Sun  Dinner     4"
      ]
     },
     "execution_count": 6,
     "metadata": {},
     "output_type": "execute_result"
    }
   ],
   "source": [
    "df = sns.load_dataset(\"tips\")\n",
    "df.head()"
   ]
  },
  {
   "cell_type": "markdown",
   "id": "f9a0d87a",
   "metadata": {},
   "source": [
    "Para que a nossa rede neural funcione bem, precisamos transformar os dados para a estrutura de dados `Valor` definida pela classe. Além disso, vamos separar também os dados em treino e teste, para que possamos avaliar o desempenho da nossa rede neural."
   ]
  },
  {
   "cell_type": "code",
   "execution_count": 7,
   "id": "13242b3c",
   "metadata": {},
   "outputs": [],
   "source": [
    "data = [([Valor(x)], Valor(y)) for x, y in zip(df[\"total_bill\"], df[\"tip\"])]\n",
    "\n",
    "random.seed(42)\n",
    "random.shuffle(data)\n",
    "\n",
    "split = int(0.7 * len(data))\n",
    "\n",
    "treino = data[:split]\n",
    "teste = data[split:]"
   ]
  },
  {
   "cell_type": "markdown",
   "id": "a51770c6",
   "metadata": {},
   "source": [
    "Vamos agora começar a criar a nossa Rede Neural, instanciando a classe `MLP` e criando as camadas. Vamos criar uma rede neural com 3 camadas, sendo a primeira com 10 neurônios, a segunda com 5 neurônios e a terceira com 1 neurônio. Vamos usar a função de ativação `sigmoide` para todas as camadas."
   ]
  },
  {
   "cell_type": "code",
   "execution_count": 8,
   "id": "61785f2c",
   "metadata": {},
   "outputs": [],
   "source": [
    "modelo = MLP(\n",
    "    num_dados_entrada=1, num_neuronios_por_camada=[10, 5, 1], ativacao=\"sigmoid\"\n",
    ")\n",
    "\n",
    "TAXA_APRENDIZADO = 0.01\n",
    "EPOCAS = 50\n",
    "\n",
    "treino_perda = []\n",
    "teste_perda = []"
   ]
  },
  {
   "cell_type": "markdown",
   "id": "898c5e97",
   "metadata": {},
   "source": [
    "Vamos agora executar o treinamento da nossa rede neural, usando os dados de treino."
   ]
  },
  {
   "cell_type": "code",
   "execution_count": 9,
   "id": "30594bb5",
   "metadata": {},
   "outputs": [],
   "source": [
    "for ep in range(1, EPOCAS + 1):\n",
    "    total = Valor(0)\n",
    "    for p in modelo.parametros():\n",
    "        p.grad = 0\n",
    "    for x, y in treino:\n",
    "        predicao = modelo(x)\n",
    "        perda = (predicao - y) ** 2\n",
    "        total = total + perda\n",
    "    media_treino = total.data / len(treino)\n",
    "    treino_perda.append(media_treino)\n",
    "    total.propagar_tudo()\n",
    "    for p in modelo.parametros():\n",
    "        p.data -= TAXA_APRENDIZADO * p.grad\n",
    "\n",
    "    teste_total = 0\n",
    "    for x, y in teste:\n",
    "        predicao = modelo(x)\n",
    "        teste_total += (predicao - y).data ** 2\n",
    "    teste_perda.append(teste_total / len(teste))"
   ]
  },
  {
   "cell_type": "markdown",
   "id": "15ce85b4",
   "metadata": {},
   "source": [
    "Agora que treinamos e armazenamos os dados, vamos criar uma curva de aprendizado. Vamos plotar o gráfico de erro em relação ao número de épocas, tanto para os dados de treino quanto para os dados de validação."
   ]
  },
  {
   "cell_type": "code",
   "execution_count": 10,
   "id": "c7e48aae",
   "metadata": {},
   "outputs": [
    {
     "data": {
      "image/png": "[encoded data removed]",
      "text/plain": [
       "<Figure size 640x480 with 1 Axes>"
      ]
     },
     "metadata": {},
     "output_type": "display_data"
    }
   ],
   "source": [
    "plt.plot(range(1, EPOCAS + 1), treino_perda, label=\"Treino MSE\")\n",
    "plt.plot(range(1, EPOCAS + 1), teste_perda, label=\"Teste MSE\")\n",
    "plt.xlabel(\"Épocas\")\n",
    "plt.ylabel(\"MSE\")\n",
    "plt.title(\"Curva de Aprendizado - Gorjetas\")\n",
    "plt.legend()\n",
    "plt.show()"
   ]
  },
  {
   "cell_type": "markdown",
   "id": "d3856b97",
   "metadata": {},
   "source": [
    "Bom, agora vamos analisar essa curva de aprendizado. Podemos ver que logo na primeira época o treino despenca de $~8$ para $~6$ de MSE e o erro de teste quase não cai. Isso mostra que a rede captura rapidamente a relação básica entre conta e gorjeta. E depois, as épocas quase se estabilizam, indicando que os gradientes estão ficando muito pequenos para melhorar muito mais."
   ]
  },
  {
   "cell_type": "markdown",
   "id": "58b5fd9e",
   "metadata": {},
   "source": [
    "Podemos perceber que as curvas de treino e teste estão quase sobrepostas, indicando que não há overfitting. Entretanto, o erro absoluto é alto, indicando que a rede neural não está capturando bem a relação entre os dados.\n",
    "\n",
    "Por exemplo, com um MSE por volta de $6$, o RMSE de $2.45$, ou seja, a média do erro absoluto é de $2.45$ dólares."
   ]
  },
  {
   "cell_type": "code",
   "execution_count": 11,
   "id": "e858c6f9",
   "metadata": {},
   "outputs": [
    {
     "data": {
      "text/plain": [
       "2.99827868852459"
      ]
     },
     "execution_count": 11,
     "metadata": {},
     "output_type": "execute_result"
    }
   ],
   "source": [
    "df[\"tip\"].mean()"
   ]
  },
  {
   "cell_type": "markdown",
   "id": "b0110168",
   "metadata": {},
   "source": [
    "Considerando que a média das gorjetas é de $2.99$, o erro médio absoluto é de $2.45$ dólares, o que é um erro considerável. Isso indica que a rede neural não está capturando bem a relação entre os dados."
   ]
  },
  {
   "cell_type": "markdown",
   "id": "26d3aa96",
   "metadata": {},
   "source": [
    "O que a gente poderia fazer para melhorar isso, seria usar mais parâmetros no conjunto de dados, como o dia da semana, o tamanho da mesa e o sexo do cliente. Além disso, poderíamos usar uma rede neural mais profunda, com mais camadas e neurônios. Essa tarefa fica pro leitor atento."
   ]
  },
  {
   "cell_type": "markdown",
   "id": "752404bf",
   "metadata": {},
   "source": [
    "# 📖 Referências"
   ]
  },
  {
   "cell_type": "markdown",
   "id": "6fbe4d41",
   "metadata": {},
   "source": [
    "[1] https://www.datacamp.com/tutorial/tutorial-learning-curves \n",
    "\n",
    "[2] https://seaborn.pydata.org/tutorial/introduction.html"
   ]
  }
 ],
 "metadata": {
  "kernelspec": {
   "display_name": "Python 3",
   "language": "python",
   "name": "python3"
  },
  "language_info": {
   "codemirror_mode": {
    "name": "ipython",
    "version": 3
   },
   "file_extension": ".py",
   "mimetype": "text/x-python",
   "name": "python",
   "nbconvert_exporter": "python",
   "pygments_lexer": "ipython3",
   "version": "3.11.6"
  }
 },
 "nbformat": 4,
 "nbformat_minor": 5
}
