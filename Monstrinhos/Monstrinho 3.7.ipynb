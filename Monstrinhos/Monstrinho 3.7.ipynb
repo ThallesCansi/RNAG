{
 "cells": [
  {
   "cell_type": "markdown",
   "id": "b682ee6f",
   "metadata": {},
   "source": [
    "# 🧌 Monstrinho 3.7"
   ]
  },
  {
   "cell_type": "markdown",
   "id": "b16a11a0",
   "metadata": {},
   "source": [
    "Finalmente, desbloqueamos uma nova raça de monstros. Agora, temos que derrotar monstros com os conhecimentos obtidos nas aulas de magia acerca de Algoritmos Genéticos! E para esse desafio, teremos que observar como os algoritmos de otimização são eficientes para cada um de seus casos."
   ]
  },
  {
   "cell_type": "markdown",
   "id": "8f554cf4",
   "metadata": {},
   "source": [
    "O que vamos fazer é o seguinte: vamos medir e comparar o tempo de execução de três métodos de busca para o problema das **caixas binárias**.\n",
    "\n",
    "- Busca Aleatória\n",
    "- Busca em Grade\n",
    "- Algoritmo Genético"
   ]
  },
  {
   "cell_type": "markdown",
   "id": "55a8ad53",
   "metadata": {},
   "source": [
    "O critério de parada é encontrar a solução do problema (todas as caixas iguais a `1`) e para extrair tendências confiáveis, vamos avaliar 10 valores de `n` (número de caixas) e repetiremos 5 vezes cada experimento, calculando média e desvio‑padrão dos tempos."
   ]
  },
  {
   "cell_type": "markdown",
   "id": "aae6ec48",
   "metadata": {},
   "source": [
    "## 🏁 Vamos começar!"
   ]
  },
  {
   "cell_type": "markdown",
   "id": "ecb41f3d",
   "metadata": {},
   "source": [
    "Para iniciarmos, vamos começar importando as bilbiotecas que vamos utilizar para esse monstrinho."
   ]
  },
  {
   "cell_type": "code",
   "execution_count": 1,
   "id": "4c8a1e0f",
   "metadata": {},
   "outputs": [],
   "source": [
    "import random\n",
    "import time\n",
    "import itertools\n",
    "import pandas as pd\n",
    "import matplotlib.pyplot as plt"
   ]
  },
  {
   "cell_type": "markdown",
   "id": "4a90a09d",
   "metadata": {},
   "source": [
    "> A biblioteca `time` é utilizada medir o tempo de execução dos algoritmos. [1]"
   ]
  },
  {
   "cell_type": "markdown",
   "id": "7882ce7d",
   "metadata": {},
   "source": [
    "Para manter a reprodutibilidade dos experimentos, vamos definir uma semente aleatória. Assim, os resultados serão os mesmos para todos que executarem o código."
   ]
  },
  {
   "cell_type": "code",
   "execution_count": 2,
   "id": "16d98e53",
   "metadata": {},
   "outputs": [],
   "source": [
    "random.seed(7)"
   ]
  },
  {
   "cell_type": "markdown",
   "id": "8ec7c798",
   "metadata": {},
   "source": [
    "Vamos nos aproveitar da nossa biblioteca que criamos junto com o professor. Nela, vamos encontrar as funções:\n",
    "\n",
    "- `funcao_objetivo_cb`: irá retornar a soma dos valores de uma caixa binária\n",
    "- `cria_candidato_cb`: irá criar um candidato aleatório\n",
    "- `populacao_cb`: irá criar uma população de candidatos\n",
    "- `funcao_objetivo_pop_cb`: irá retornar a soma dos valores de uma população de candidatos\n",
    "- `selecao_roleta_max`: irá selecionar um candidato da população usando o método da roleta\n",
    "- `cruzamento_ponto_simples`: irá realizar o cruzamento de dois candidatos usando o ponto simples\n",
    "- `mutacao_simples_cb`: irá realizar a mutação de um candidato"
   ]
  },
  {
   "cell_type": "code",
   "execution_count": 3,
   "id": "f1bfc10b",
   "metadata": {},
   "outputs": [],
   "source": [
    "from Scripts.Monstrinho37 import funcao_objetivo_cb\n",
    "from Scripts.Monstrinho37 import cria_candidato_cb\n",
    "from Scripts.Monstrinho37 import populacao_cb\n",
    "from Scripts.Monstrinho37 import funcao_objetivo_pop_cb\n",
    "from Scripts.Monstrinho37 import selecao_roleta_max\n",
    "from Scripts.Monstrinho37 import cruzamento_ponto_simples\n",
    "from Scripts.Monstrinho37 import mutacao_simples_cb    "
   ]
  },
  {
   "cell_type": "markdown",
   "id": "824a78e0",
   "metadata": {},
   "source": [
    "Excelente! Agora que importamos tudo que precisamos, vamos começar definindo as funções que vão implementar os três métodos de busca."
   ]
  },
  {
   "cell_type": "markdown",
   "id": "dd8c2402",
   "metadata": {},
   "source": [
    "### 🃏 Busca Aleatória"
   ]
  },
  {
   "cell_type": "markdown",
   "id": "570d121a",
   "metadata": {},
   "source": [
    "A Busca Aleatória é um método simples que gera candidatos aleatórios até encontrar a solução. Vamos implementar essa função."
   ]
  },
  {
   "cell_type": "code",
   "execution_count": null,
   "id": "de91dcf5",
   "metadata": {},
   "outputs": [],
   "source": [
    "def busca_aleatoria(n: int) -> float:\n",
    "    \"\"\"\n",
    "    Busca aleatória para encontrar o candidato que atinge o alvo `n`.\n",
    "\n",
    "    Args:\n",
    "        `n` (`int`): O alvo a ser atingido pela função objetivo.\n",
    "\n",
    "    Returns:\n",
    "        `float`: Tempo gasto para encontrar o candidato que atinge o alvo.\n",
    "    \"\"\"\n",
    "    alvo = n\n",
    "    cand = cria_candidato_cb(n)\n",
    "\n",
    "    inicio = time.perf_counter()\n",
    "\n",
    "    while funcao_objetivo_cb(cand) != alvo:\n",
    "        cand = cria_candidato_cb(n)\n",
    "\n",
    "    fim = time.perf_counter()\n",
    "\n",
    "    tempo = fim - inicio\n",
    "\n",
    "    return tempo"
   ]
  },
  {
   "cell_type": "markdown",
   "id": "1c1564aa",
   "metadata": {},
   "source": [
    "### 🚓 Busca em Grade"
   ]
  },
  {
   "cell_type": "code",
   "execution_count": null,
   "id": "b7a06492",
   "metadata": {},
   "outputs": [],
   "source": [
    "def busca_em_grade(n: int) -> float:\n",
    "    \"\"\"\n",
    "    Busca em grade para encontrar o candidato que atinge o alvo `n`.\n",
    "\n",
    "    Args:\n",
    "        `n` (`int`): O alvo a ser atingido pela função objetivo.\n",
    "\n",
    "    Returns:\n",
    "        `float`: Tempo gasto para encontrar o candidato que atinge o alvo.\n",
    "    \"\"\"\n",
    "    alvo = n\n",
    "\n",
    "    inicio = time.perf_counter()\n",
    "\n",
    "    for prod in itertools.product([0, 1], repeat=n):\n",
    "        if sum(prod) == alvo:\n",
    "            break\n",
    "\n",
    "    fim = time.perf_counter()\n",
    "\n",
    "    tempo = fim - inicio\n",
    "\n",
    "    return tempo"
   ]
  },
  {
   "cell_type": "markdown",
   "id": "40780a14",
   "metadata": {},
   "source": [
    "### 🧬 Algoritmo Genético"
   ]
  },
  {
   "cell_type": "markdown",
   "id": "595703ee",
   "metadata": {},
   "source": [
    "O Algoritmo Genético é um método de otimização inspirado na evolução natural. Ele utiliza seleção, cruzamento e mutação para evoluir uma população de candidatos em direção à solução ideal."
   ]
  },
  {
   "cell_type": "code",
   "execution_count": null,
   "id": "fe9756b1",
   "metadata": {},
   "outputs": [],
   "source": [
    "def algoritmo_genetico(\n",
    "    n: int,\n",
    "    tamanho_pop: int = 100,\n",
    "    chance_cx: float = 0.8,\n",
    "    chance_mut: float = 0.05,\n",
    ") -> float:\n",
    "    \"\"\"\n",
    "    Algoritmo Genético para encontrar o candidato que atinge o alvo `n`.\n",
    "\n",
    "    Args:\n",
    "        `n` (`int`): O alvo a ser atingido pela função objetivo.\n",
    "        `tamanho_pop` (`int`, opcional): Tamanho da população inicial. Padrão é 100.\n",
    "        `chance_cx` (`float`, opcional): Probabilidade de cruzamento. Padrão é 0.8.\n",
    "        `chance_mut` (`float`, opcional): Probabilidade de mutação. Padrão é 0.05.\n",
    "\n",
    "    Returns:\n",
    "        `float`: Tempo gasto para encontrar o candidato que atinge o alvo.\n",
    "    \"\"\"\n",
    "    alvo = n\n",
    "    pop = populacao_cb(tamanho_pop, n)\n",
    "    inicio = time.perf_counter()\n",
    "\n",
    "    while True:\n",
    "        fitness = funcao_objetivo_pop_cb(pop)\n",
    "        if max(fitness) == alvo:\n",
    "            break\n",
    "\n",
    "        # Seleção\n",
    "        selecionados = selecao_roleta_max(pop, fitness)\n",
    "\n",
    "        # Cruzamento\n",
    "        nova_pop = []\n",
    "        for i in range(0, tamanho_pop, 2):\n",
    "            pai, mae = selecionados[i], selecionados[(i + 1) % tamanho_pop]\n",
    "            filho1, filho2 = cruzamento_ponto_simples(pai, mae, chance_cx)\n",
    "            nova_pop.extend([filho1, filho2])\n",
    "\n",
    "        # Mutação\n",
    "        mutacao_simples_cb(nova_pop, chance_mut)\n",
    "        pop = nova_pop\n",
    "\n",
    "    fim = time.perf_counter()\n",
    "\n",
    "    tempo = fim - inicio\n",
    "\n",
    "    return tempo"
   ]
  },
  {
   "cell_type": "markdown",
   "id": "98af0d58",
   "metadata": {},
   "source": [
    "Ótimo! Agora que temos as funções de busca implementadas, vamos definir a função principal que irá executar os experimentos e medir o tempo de execução de cada método."
   ]
  },
  {
   "cell_type": "markdown",
   "id": "860e2417",
   "metadata": {},
   "source": [
    "## 🧪 Experimentos"
   ]
  },
  {
   "cell_type": "markdown",
   "id": "c1971d6a",
   "metadata": {},
   "source": [
    "Vamos criar uma função que irá executar os experimentos para cada valor de `n` e calcular a média e o desvio-padrão dos tempos de execução dos três métodos de busca."
   ]
  },
  {
   "cell_type": "code",
   "execution_count": null,
   "id": "3202587a",
   "metadata": {},
   "outputs": [],
   "source": [
    "def executa_experimentos(valores_n: list, n_reps: int = 5) -> pd.DataFrame:\n",
    "    \"\"\"\n",
    "    Executa os experimentos para os algoritmos de busca e coleta os tempos.\n",
    "\n",
    "    Args:\n",
    "        `valores_n` (`list`): Lista de valores de `n` para os quais os experimentos serão realizados.\n",
    "        `n_reps` (`int`, opcional): Número de repetições para cada valor de `n`. Padrão é 5.\n",
    "\n",
    "    Returns:\n",
    "        `pd.DataFrame`: DataFrame contendo os tempos de execução dos algoritmos.\n",
    "    \"\"\"\n",
    "    registros = []\n",
    "    for n in valores_n:\n",
    "        for _ in range(n_reps):\n",
    "            t_rand = busca_aleatoria(n)\n",
    "            t_grade = busca_em_grade(n)\n",
    "            t_ga = algoritmo_genetico(n)\n",
    "\n",
    "            registros.extend(\n",
    "                [\n",
    "                    {\"n\": n, \"algoritmo\": \"Aleatória\", \"tempo_s\": t_rand},\n",
    "                    {\"n\": n, \"algoritmo\": \"Grade\", \"tempo_s\": t_grade},\n",
    "                    {\"n\": n, \"algoritmo\": \"Genético\", \"tempo_s\": t_ga},\n",
    "                ]\n",
    "            )\n",
    "    return pd.DataFrame(registros)"
   ]
  },
  {
   "cell_type": "markdown",
   "id": "2f4df578",
   "metadata": {},
   "source": [
    "Top! Agora que temos a função de experimentos definida, vamos definir os parâmetros para o experimento, sendo os valores de `n` indo de 6 a 24, com incrementos de 2 em 2 (totalizando 10 valores distintos para `n`) e cada execução será repetida 5 vezes para cada valor de `n`."
   ]
  },
  {
   "cell_type": "code",
   "execution_count": 8,
   "id": "aac6a81e",
   "metadata": {},
   "outputs": [],
   "source": [
    "valores_n = list(range(6, 26, 2))\n",
    "\n",
    "repeticoes = 5"
   ]
  },
  {
   "cell_type": "markdown",
   "id": "1c0627e0",
   "metadata": {},
   "source": [
    "Show, definimos os principais parametros do experimento. Agora, vamos executar os experimentos e armazenar os resultados."
   ]
  },
  {
   "cell_type": "code",
   "execution_count": 9,
   "id": "e1d3ea17",
   "metadata": {},
   "outputs": [
    {
     "data": {
      "text/html": [
       "<div>\n",
       "<style scoped>\n",
       "    .dataframe tbody tr th:only-of-type {\n",
       "        vertical-align: middle;\n",
       "    }\n",
       "\n",
       "    .dataframe tbody tr th {\n",
       "        vertical-align: top;\n",
       "    }\n",
       "\n",
       "    .dataframe thead th {\n",
       "        text-align: right;\n",
       "    }\n",
       "</style>\n",
       "<table border=\"1\" class=\"dataframe\">\n",
       "  <thead>\n",
       "    <tr style=\"text-align: right;\">\n",
       "      <th></th>\n",
       "      <th>n</th>\n",
       "      <th>algoritmo</th>\n",
       "      <th>tempo_s</th>\n",
       "    </tr>\n",
       "  </thead>\n",
       "  <tbody>\n",
       "    <tr>\n",
       "      <th>0</th>\n",
       "      <td>6</td>\n",
       "      <td>Aleatória</td>\n",
       "      <td>0.000446</td>\n",
       "    </tr>\n",
       "    <tr>\n",
       "      <th>1</th>\n",
       "      <td>6</td>\n",
       "      <td>Grade</td>\n",
       "      <td>0.000017</td>\n",
       "    </tr>\n",
       "    <tr>\n",
       "      <th>2</th>\n",
       "      <td>6</td>\n",
       "      <td>Genético</td>\n",
       "      <td>0.000181</td>\n",
       "    </tr>\n",
       "    <tr>\n",
       "      <th>3</th>\n",
       "      <td>6</td>\n",
       "      <td>Aleatória</td>\n",
       "      <td>0.000557</td>\n",
       "    </tr>\n",
       "    <tr>\n",
       "      <th>4</th>\n",
       "      <td>6</td>\n",
       "      <td>Grade</td>\n",
       "      <td>0.000013</td>\n",
       "    </tr>\n",
       "  </tbody>\n",
       "</table>\n",
       "</div>"
      ],
      "text/plain": [
       "   n  algoritmo   tempo_s\n",
       "0  6  Aleatória  0.000446\n",
       "1  6      Grade  0.000017\n",
       "2  6   Genético  0.000181\n",
       "3  6  Aleatória  0.000557\n",
       "4  6      Grade  0.000013"
      ]
     },
     "execution_count": 9,
     "metadata": {},
     "output_type": "execute_result"
    }
   ],
   "source": [
    "df = executa_experimentos(valores_n, repeticoes)\n",
    "df.head()"
   ]
  },
  {
   "cell_type": "markdown",
   "id": "a9942fde",
   "metadata": {},
   "source": [
    "Vamos agrupar os resultados, calculando a média e o desvio-padrão dos tempos de execução para cada método de busca e para cada valor de `n`."
   ]
  },
  {
   "cell_type": "code",
   "execution_count": 10,
   "id": "8f102e5e",
   "metadata": {},
   "outputs": [
    {
     "data": {
      "text/html": [
       "<div>\n",
       "<style scoped>\n",
       "    .dataframe tbody tr th:only-of-type {\n",
       "        vertical-align: middle;\n",
       "    }\n",
       "\n",
       "    .dataframe tbody tr th {\n",
       "        vertical-align: top;\n",
       "    }\n",
       "\n",
       "    .dataframe thead th {\n",
       "        text-align: right;\n",
       "    }\n",
       "</style>\n",
       "<table border=\"1\" class=\"dataframe\">\n",
       "  <thead>\n",
       "    <tr style=\"text-align: right;\">\n",
       "      <th></th>\n",
       "      <th>n</th>\n",
       "      <th>algoritmo</th>\n",
       "      <th>mean</th>\n",
       "      <th>std</th>\n",
       "    </tr>\n",
       "  </thead>\n",
       "  <tbody>\n",
       "    <tr>\n",
       "      <th>0</th>\n",
       "      <td>6</td>\n",
       "      <td>Aleatória</td>\n",
       "      <td>0.000403</td>\n",
       "      <td>0.000126</td>\n",
       "    </tr>\n",
       "    <tr>\n",
       "      <th>1</th>\n",
       "      <td>6</td>\n",
       "      <td>Genético</td>\n",
       "      <td>0.000095</td>\n",
       "      <td>0.000073</td>\n",
       "    </tr>\n",
       "    <tr>\n",
       "      <th>2</th>\n",
       "      <td>6</td>\n",
       "      <td>Grade</td>\n",
       "      <td>0.000012</td>\n",
       "      <td>0.000003</td>\n",
       "    </tr>\n",
       "    <tr>\n",
       "      <th>3</th>\n",
       "      <td>8</td>\n",
       "      <td>Aleatória</td>\n",
       "      <td>0.000657</td>\n",
       "      <td>0.000890</td>\n",
       "    </tr>\n",
       "    <tr>\n",
       "      <th>4</th>\n",
       "      <td>8</td>\n",
       "      <td>Genético</td>\n",
       "      <td>0.000271</td>\n",
       "      <td>0.000162</td>\n",
       "    </tr>\n",
       "  </tbody>\n",
       "</table>\n",
       "</div>"
      ],
      "text/plain": [
       "   n  algoritmo      mean       std\n",
       "0  6  Aleatória  0.000403  0.000126\n",
       "1  6   Genético  0.000095  0.000073\n",
       "2  6      Grade  0.000012  0.000003\n",
       "3  8  Aleatória  0.000657  0.000890\n",
       "4  8   Genético  0.000271  0.000162"
      ]
     },
     "execution_count": 10,
     "metadata": {},
     "output_type": "execute_result"
    }
   ],
   "source": [
    "agr = df.groupby([\"n\", \"algoritmo\"]).tempo_s.agg([\"mean\", \"std\"]).reset_index()\n",
    "agr.head()"
   ]
  },
  {
   "cell_type": "markdown",
   "id": "233cb4a2",
   "metadata": {},
   "source": [
    "Perfeito! Agora que temos os resultados dos experimentos, vamos exibi-los de forma organizada em um gráfico para analisar o desempenho dos três métodos de busca."
   ]
  },
  {
   "cell_type": "code",
   "execution_count": 11,
   "id": "4bf1a172",
   "metadata": {},
   "outputs": [
    {
     "data": {
      "image/png": "[encoded data removed]",
      "text/plain": [
       "<Figure size 800x500 with 1 Axes>"
      ]
     },
     "metadata": {},
     "output_type": "display_data"
    }
   ],
   "source": [
    "plt.figure(figsize=(8,5))\n",
    "for alg, sub in agr.groupby(\"algoritmo\"):\n",
    "    plt.errorbar(sub[\"n\"], sub[\"mean\"], yerr=sub[\"std\"], label=alg, marker='o')\n",
    "plt.xlabel(\"n (número de caixas)\")\n",
    "plt.ylabel(\"Tempo médio (s)  ± 1σ\")\n",
    "plt.title(\"Comparação de desempenho\")\n",
    "plt.legend()\n",
    "plt.grid(True)\n",
    "plt.xticks(range(4, 28, 2))\n",
    "plt.show()"
   ]
  },
  {
   "cell_type": "markdown",
   "id": "44832021",
   "metadata": {},
   "source": [
    "Excelente! Com esse gráfico, podemos visualizar claramente o desempenho dos três métodos de busca para o problema das caixas binárias.\n",
    "\n",
    "O desempenho dos métodos de busca varia conforme o tamanho do problema (número de caixas). A Busca Aleatória tende a ser menos eficiente para problemas maiores, enquanto o Algoritmo Genético e a Busca em Grade mostram um desempenho mais consistente."
   ]
  },
  {
   "cell_type": "markdown",
   "id": "8ee0fa9f",
   "metadata": {},
   "source": [
    "## 📖 Referências"
   ]
  },
  {
   "cell_type": "markdown",
   "id": "5e68458b",
   "metadata": {},
   "source": [
    "[1] https://docs.python.org/3/library/time.html"
   ]
  }
 ],
 "metadata": {
  "kernelspec": {
   "display_name": "Python 3",
   "language": "python",
   "name": "python3"
  },
  "language_info": {
   "codemirror_mode": {
    "name": "ipython",
    "version": 3
   },
   "file_extension": ".py",
   "mimetype": "text/x-python",
   "name": "python",
   "nbconvert_exporter": "python",
   "pygments_lexer": "ipython3",
   "version": "3.11.6"
  }
 },
 "nbformat": 4,
 "nbformat_minor": 5
}
